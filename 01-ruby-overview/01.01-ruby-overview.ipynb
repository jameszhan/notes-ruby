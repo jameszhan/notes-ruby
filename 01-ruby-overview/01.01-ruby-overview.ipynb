{
 "cells": [
  {
   "cell_type": "markdown",
   "metadata": {},
   "source": [
    "# Ruby 简介"
   ]
  },
  {
   "cell_type": "markdown",
   "metadata": {},
   "source": [
    "## Ruby 历史"
   ]
  },
  {
   "cell_type": "markdown",
   "metadata": {},
   "source": [
    "Ruby是一种纯粹的面向对象编程语言。它由日本的松本行弘（まつもとゆきひろ/Yukihiro Matsumoto）创建于1993年。\n",
    "\n",
    "您可以在 www.ruby-lang.org 的 Ruby 邮件列表上找到松本行弘（まつもとゆきひろ/Yukihiro Matsumoto）的名字。在 Ruby 社区，松本也被称为马茨（Matz）。"
   ]
  },
  {
   "cell_type": "markdown",
   "metadata": {},
   "source": [
    "#### Ruby 发明者的理想\n",
    "\n",
    "Ruby 是一个注重均衡的语言，它的发明者松本行弘（Yukihiro “Matz” Matsumoto），混合了他喜欢的多门语言（Perl、Smalltalk、Eiffel、Ada 和 Lisp），创造出了一种兼具函数式编程和命令式编程特色的新语言。\n",
    "\n",
    "他常说，他是“试着让 Ruby 更自然，而不是更简单”，让一切符合生活常规。\n",
    "\n",
    "除此之外，他还提到：\n",
    "\n",
    "> Ruby 就像人的身体一样，表面上看来简单，但是内部却相当复杂。"
   ]
  },
  {
   "cell_type": "markdown",
   "metadata": {},
   "source": [
    "* Ruby 2.5 发布\n",
    "* Ruby 2.4 发布\n",
    "* Ruby 2.3 发布\n",
    "* Ruby 2.2 发布\n",
    "* Ruby 2.1 发布\n",
    "* Ruby 2.0 发布\n",
    "* Ruby 1.9 发布\n",
    "* Ruby 1.8 发布"
   ]
  },
  {
   "cell_type": "markdown",
   "metadata": {},
   "source": [
    "#### 把一切视为对象\n",
    "\n",
    "最初，Matz 从其它语言中找寻理想的语法。回想他的研究，他说，“我想要一种比 Perl 更强大、比 Python 更面向对象的脚本语言”。2\n",
    "\n",
    "在 Ruby 中，一切皆对象。所有的信息和代码都拥有属性和行为。面向对象编程称属性为实例变量（instance variables），称行为为方法（methods）。 从下列代码可以看出，Ruby 能给数字赋于行为，从这一点可以证明，Ruby 是纯面向对象的语言。"
   ]
  },
  {
   "cell_type": "code",
   "execution_count": 2,
   "metadata": {},
   "outputs": [
    {
     "name": "stdout",
     "output_type": "stream",
     "text": [
      "We *love* Ruby -- it's outrageous!\n",
      "We *love* Ruby -- it's outrageous!\n",
      "We *love* Ruby -- it's outrageous!\n",
      "We *love* Ruby -- it's outrageous!\n",
      "We *love* Ruby -- it's outrageous!\n"
     ]
    },
    {
     "data": {
      "text/plain": [
       "5"
      ]
     },
     "execution_count": 2,
     "metadata": {},
     "output_type": "execute_result"
    }
   ],
   "source": [
    "5.times { print \"We *love* Ruby -- it's outrageous!\\n\" }"
   ]
  },
  {
   "cell_type": "markdown",
   "metadata": {},
   "source": [
    "在许多语言中，数字和其它基本类型都不是对象。而 Ruby 受 Smalltalk 语言影响，所有类型都可以赋予方法和实例变量。这一点让 Ruby 特别易于使用，因为适用于对象的规则适用于 Ruby 中的一切。"
   ]
  },
  {
   "cell_type": "markdown",
   "metadata": {},
   "source": [
    "## 参考资料\n",
    "\n",
    "* [关于Ruby][about-ruby]\n",
    "\n",
    "[about-ruby]: https://www.ruby-lang.org/zh_cn/about/ \"关于Ruby\""
   ]
  }
 ],
 "metadata": {
  "kernelspec": {
   "display_name": "Ruby 2.4.1",
   "language": "ruby",
   "name": "ruby"
  },
  "language_info": {
   "file_extension": ".rb",
   "mimetype": "application/x-ruby",
   "name": "ruby",
   "version": "2.4.1"
  }
 },
 "nbformat": 4,
 "nbformat_minor": 2
}
