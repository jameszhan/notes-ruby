{
 "cells": [
  {
   "cell_type": "markdown",
   "metadata": {},
   "source": [
    "# 从其它语言到 Ruby"
   ]
  },
  {
   "cell_type": "markdown",
   "metadata": {},
   "source": [
    "当您初次看到 Ruby 语言代码的时候，它很可能让您想起您使用过的其他编程语言。这是当然的， 因为 Ruby 的大部分语法是 Perl、Python 和 Java（以及其他语言）的用户所熟悉的。 如果您曾经使用过这这些语言，学习 Ruby 就是小菜一碟。\n",
    "\n",
    "本文包含了两部分。第一部分简明扼要地概述了当你从 X 到 Ruby 语言的一些所见所闻； 第二部分介绍了 Ruby 语言主要特性以及与你所熟悉的语言之间的差异。"
   ]
  },
  {
   "cell_type": "markdown",
   "metadata": {},
   "source": [
    "## 从 C/C++ 到 Ruby"
   ]
  },
  {
   "cell_type": "markdown",
   "metadata": {},
   "source": [
    "## 从 Java 到 Ruby"
   ]
  },
  {
   "cell_type": "markdown",
   "metadata": {},
   "source": [
    "## 从 Perl 到 Ruby"
   ]
  },
  {
   "cell_type": "markdown",
   "metadata": {},
   "source": [
    "## 从 PHP 到 Ruby"
   ]
  },
  {
   "cell_type": "markdown",
   "metadata": {},
   "source": [
    "## 从 Python 到 Ruby"
   ]
  },
  {
   "cell_type": "markdown",
   "metadata": {},
   "source": [
    "## 重要的语言特性和一些小技巧\n",
    "\n",
    "这里介绍了学习 Ruby 语言时应该注意的 Ruby 语言的特性。"
   ]
  },
  {
   "cell_type": "markdown",
   "metadata": {},
   "source": [
    "### 迭代器\n",
    "\n",
    "代码块和迭代是 Ruby 语言和其他语言不太一样的地方。我们可以以索引做循环（比如 C, C++, 或者 1.5 版本以前的 Java），或者以列表做循环（比如 Perl 的 `for (@a) {...}`， 还有 Python 的 `for i in aList: ...`），但是在 Ruby 中，我们常会看到\n",
    "\n",
    "```ruby\n",
    "some_list.each do |this_item|\n",
    "  # 我们在代码块内内部。\n",
    "  # 使用 this_item。\n",
    "end\n",
    "```\n",
    "\n",
    "关于更多 `each`（还有 `collect`、`find`、`inject`、`sort` 等）的信息，请参考 `ri Enumerable` （和 `ri Enumerable#some_method`）。\n",
    "\n",
    "### 一切表达方法皆有值\n",
    "\n",
    "表达式和语句没有区别。任何表达方法都有返回值，即使那个值是 `nil`，比如下面的用法："
   ]
  },
  {
   "cell_type": "code",
   "execution_count": 1,
   "metadata": {},
   "outputs": [
    {
     "data": {
      "text/plain": [
       "true"
      ]
     },
     "execution_count": 1,
     "metadata": {},
     "output_type": "execute_result"
    }
   ],
   "source": [
    "x = 10\n",
    "y = 11\n",
    "z = if x < y\n",
    "      true\n",
    "    else\n",
    "      false\n",
    "    end\n",
    "z"
   ]
  },
  {
   "cell_type": "markdown",
   "metadata": {},
   "source": [
    "### 符号不是轻量的字符串\n",
    "\n",
    "很多 Ruby 初学者都在想办法搞清楚什么是符号和怎么使用符号。\n",
    "\n",
    "符号最好的描述是身份证。一个符号代表了它是“谁”，而不是代表了它是“什么”。 打开 `irb` 来看一看他们的区别："
   ]
  },
  {
   "cell_type": "code",
   "execution_count": 4,
   "metadata": {},
   "outputs": [
    {
     "data": {
      "text/plain": [
       "true"
      ]
     },
     "execution_count": 4,
     "metadata": {},
     "output_type": "execute_result"
    }
   ],
   "source": [
    ":george.object_id == :george.object_id"
   ]
  },
  {
   "cell_type": "code",
   "execution_count": 5,
   "metadata": {},
   "outputs": [
    {
     "data": {
      "text/plain": [
       "false"
      ]
     },
     "execution_count": 5,
     "metadata": {},
     "output_type": "execute_result"
    }
   ],
   "source": [
    "\"george\".object_id == \"george\".object_id"
   ]
  },
  {
   "cell_type": "markdown",
   "metadata": {},
   "source": [
    "`object_id` 函数返回的是对象的身份标识。如果两个对象有相同的 `object_id`， 那么他们就是相同的（指向同一个内存地址）。 可以看出，当符号在使用过一次后，任何相同字符的符号都会在内存中指向同一个对象地址。 也就是说任何相同字符的符号的 `object_id` 都是相同的。\n",
    "\n",
    "(“george”)的字符串的 `object_id` 并不相同，这表示他们在内存种指向不同对象地址。 每当您创建一个新的字符串的时候，Ruby 会在内存中为它分配新的空间。\n",
    "\n",
    "当您犹豫该用符号还是字符串的时候，想一下究竟字符的标识更重要（比如 Hash key）还是内容更重要 （比如前面例子里的 “george” ）。\n",
    "\n",
    "### 一切皆是对象\n",
    "\n",
    "“一切皆是对象”并不是夸张。即使是类和整型变量也都是对象，您可以想使用其他对象一样使用他们："
   ]
  },
  {
   "cell_type": "code",
   "execution_count": 6,
   "metadata": {
    "collapsed": true
   },
   "outputs": [],
   "source": [
    "class MyClass\n",
    "  attr_accessor :instance_var\n",
    "end"
   ]
  },
  {
   "cell_type": "markdown",
   "metadata": {},
   "source": [
    "等同于(稍有区别)"
   ]
  },
  {
   "cell_type": "code",
   "execution_count": 7,
   "metadata": {},
   "outputs": [
    {
     "name": "stderr",
     "output_type": "stream",
     "text": [
      "<main>: warning: already initialized constant MyClass\n"
     ]
    },
    {
     "data": {
      "text/plain": [
       "MyClass"
      ]
     },
     "execution_count": 7,
     "metadata": {},
     "output_type": "execute_result"
    }
   ],
   "source": [
    "MyClass = Class.new do\n",
    "  attr_accessor :instance_var\n",
    "end"
   ]
  },
  {
   "cell_type": "markdown",
   "metadata": {},
   "source": [
    "### 可以改变的常量\n",
    "\n",
    "常量并不是真正恒定的。如果您修改了一个已初始化的常量，会触发警告，但程序不会中止。 当然这也不是说您“应该”改变常量。\n",
    "\n",
    "### 命名约定\n",
    "\n",
    "Ruby 强制了一些命名约定。大写字母开头的是一个常量；美元符号(`$`)开头的是全局变量； `@` 开头的是实例变量； `@@` 开头的是类变量。 然而函数的名字却可以大写字母开头。这可能会导致一些混淆，比如下面的例子：\n",
    "\n",
    "```ruby\n",
    "Constant = 10\n",
    "def Constant\n",
    "  11\n",
    "end\n",
    "```\n",
    "\n",
    "这里 `Constant` 是 10，而 `Constant()` 是 11。\n",
    "\n",
    "### 关键字参数\n",
    "\n",
    "类似 Python, 从 Ruby 2.0 开始，可以使用关键字参数定义方法"
   ]
  },
  {
   "cell_type": "code",
   "execution_count": 8,
   "metadata": {},
   "outputs": [
    {
     "data": {
      "text/plain": [
       "\"Sending from A to B via mail.\""
      ]
     },
     "execution_count": 8,
     "metadata": {},
     "output_type": "execute_result"
    }
   ],
   "source": [
    "def deliver(from: \"A\", to: nil, via: \"mail\")\n",
    "  \"Sending from #{from} to #{to} via #{via}.\"\n",
    "end\n",
    "\n",
    "deliver(to: \"B\")"
   ]
  },
  {
   "cell_type": "code",
   "execution_count": 9,
   "metadata": {},
   "outputs": [
    {
     "data": {
      "text/plain": [
       "\"Sending from B to A via Pony Express.\""
      ]
     },
     "execution_count": 9,
     "metadata": {},
     "output_type": "execute_result"
    }
   ],
   "source": [
    "deliver(via: \"Pony Express\", from: \"B\", to: \"A\")"
   ]
  },
  {
   "cell_type": "markdown",
   "metadata": {},
   "source": [
    "### 通用真值\n",
    "\n",
    "Ruby 把任何不是 `nil` 和 `false` 的值当作真值。在 C，Python 和其他语言里，0 和一些其他的值， 比如空的列表，会被当作假值。看一看下面的 Python 代码（这个例子也可以被应用到其他语言）：\n",
    "\n",
    "```python\n",
    "# Python 中\n",
    "if 0:\n",
    "  print(\"0 为真\")\n",
    "else:\n",
    "  print(\"0 为假\")\n",
    "```\n",
    "\n",
    "这会打印出 “0 为假”，而在 Ruby 中：\n",
    "\n",
    "```ruby\n",
    "# Ruby 中\n",
    "if 0\n",
    "  puts \"0 为真\"\n",
    "else\n",
    "  puts \"0 为假\"\n",
    "end\n",
    "```\n",
    "\n",
    "会打印出 “0 为真”。\n",
    "\n",
    "### 权限声明应用至作用域底部\n",
    "\n",
    "下面的 Ruby 代码中\n",
    "\n",
    "```ruby\n",
    "class MyClass\n",
    "  private\n",
    "  def a_method; true; end\n",
    "  def another_method; false; end\n",
    "end\n",
    "```\n",
    "\n",
    "您可能认为 `another_method` 是公有的。并不是这样的，”private” 权限声明会一直应用到类声明底部， 或者直到另外一个权限声明开始起作用。函数默认是公开的：\n",
    "\n",
    "```ruby\n",
    "class MyClass\n",
    "  # a_method 为公有\n",
    "  def a_method; true; end\n",
    "\n",
    "  private\n",
    "  # another_method 为私有\n",
    "  def another_method; false; end\n",
    "end\n",
    "```\n",
    "\n",
    "`public`、`private` 和 `protected` 其实都是方法， 所以他们可以接受参数。如果您给他们传递一个符号的话，那么符号所代表的函数的可见性会被改变。"
   ]
  },
  {
   "cell_type": "markdown",
   "metadata": {},
   "source": [
    "### 函数访问\n",
    "\n",
    "在 Java 里，`public` 表示方法可以被任何人访问。`protected` 表示此类实例、继承此类的实例及在同一个包内的所有类的实例可以访问，其他人则不能。`private` 表示任何此类实例外的人都不能访问。\n",
    "\n",
    "Ruby 有些不同。`public` 还是公开的。`private` 表示只有非明确指定接收者（receiver）才允许调用。私有方法调用只允许 `self` 为接收者。\n",
    "\n",
    "`protected` 应该特别注意。受保护的方法可以被类及继承类的实例调用，同一个类的其他实例也可以调用。 来自[Ruby Language FAQ](http://ruby-doc.org/docs/ruby-doc-bundle/FAQ/FAQ.html) 的例子:"
   ]
  },
  {
   "cell_type": "code",
   "execution_count": 10,
   "metadata": {},
   "outputs": [
    {
     "data": {
      "text/plain": [
       ":=="
      ]
     },
     "execution_count": 10,
     "metadata": {},
     "output_type": "execute_result"
    }
   ],
   "source": [
    "class Test\n",
    "  def identifier\n",
    "    99\n",
    "  end\n",
    "\n",
    "  def ==(other)\n",
    "    identifier == other.identifier\n",
    "  end\n",
    "end"
   ]
  },
  {
   "cell_type": "code",
   "execution_count": 11,
   "metadata": {},
   "outputs": [
    {
     "data": {
      "text/plain": [
       "#<Test:0x007fcf459e85b0>"
      ]
     },
     "execution_count": 11,
     "metadata": {},
     "output_type": "execute_result"
    }
   ],
   "source": [
    "t1 = Test.new"
   ]
  },
  {
   "cell_type": "code",
   "execution_count": 12,
   "metadata": {},
   "outputs": [
    {
     "data": {
      "text/plain": [
       "#<Test:0x007fcf491c9e20>"
      ]
     },
     "execution_count": 12,
     "metadata": {},
     "output_type": "execute_result"
    }
   ],
   "source": [
    "t2 = Test.new"
   ]
  },
  {
   "cell_type": "code",
   "execution_count": 13,
   "metadata": {},
   "outputs": [
    {
     "data": {
      "text/plain": [
       "true"
      ]
     },
     "execution_count": 13,
     "metadata": {},
     "output_type": "execute_result"
    }
   ],
   "source": [
    "t1 == t2"
   ]
  },
  {
   "cell_type": "code",
   "execution_count": 14,
   "metadata": {},
   "outputs": [
    {
     "data": {
      "text/plain": [
       "Test"
      ]
     },
     "execution_count": 14,
     "metadata": {},
     "output_type": "execute_result"
    }
   ],
   "source": [
    "class Test\n",
    "  protected :identifier\n",
    "end"
   ]
  },
  {
   "cell_type": "code",
   "execution_count": 15,
   "metadata": {},
   "outputs": [
    {
     "data": {
      "text/plain": [
       "true"
      ]
     },
     "execution_count": 15,
     "metadata": {},
     "output_type": "execute_result"
    }
   ],
   "source": [
    "t1 == t2"
   ]
  },
  {
   "cell_type": "code",
   "execution_count": 16,
   "metadata": {},
   "outputs": [
    {
     "data": {
      "text/plain": [
       "Test"
      ]
     },
     "execution_count": 16,
     "metadata": {},
     "output_type": "execute_result"
    }
   ],
   "source": [
    "class Test\n",
    "  private :identifier\n",
    "end"
   ]
  },
  {
   "cell_type": "code",
   "execution_count": 17,
   "metadata": {},
   "outputs": [
    {
     "ename": "NoMethodError",
     "evalue": "private method `identifier' called for #<Test:0x007fcf491c9e20>",
     "output_type": "error",
     "traceback": [
      "\u001b[31mNoMethodError\u001b[0m: private method `identifier' called for #<Test:0x007fcf491c9e20>",
      "\u001b[37m<main>:6:in `=='\u001b[0m",
      "\u001b[37m<main>:in `<main>'\u001b[0m",
      "\u001b[37m/usr/local/rvm/gems/ruby-2.4.1/bundler/gems/iruby-a2d7f8bcd676/lib/iruby/backend.rb:72:in `eval'\u001b[0m",
      "\u001b[37m/usr/local/rvm/gems/ruby-2.4.1/bundler/gems/iruby-a2d7f8bcd676/lib/iruby/backend.rb:72:in `block in eval'\u001b[0m",
      "\u001b[37m/usr/local/rvm/gems/ruby-2.4.1/bundler/gems/iruby-a2d7f8bcd676/lib/iruby/backend.rb:55:in `eval_with_magic'\u001b[0m",
      "\u001b[37m/usr/local/rvm/gems/ruby-2.4.1/bundler/gems/iruby-a2d7f8bcd676/lib/iruby/backend.rb:71:in `eval'\u001b[0m",
      "\u001b[37m/usr/local/rvm/gems/ruby-2.4.1/bundler/gems/iruby-a2d7f8bcd676/lib/iruby/backend.rb:13:in `eval'\u001b[0m",
      "\u001b[37m/usr/local/rvm/gems/ruby-2.4.1/bundler/gems/iruby-a2d7f8bcd676/lib/iruby/kernel.rb:87:in `execute_request'\u001b[0m",
      "\u001b[37m/usr/local/rvm/gems/ruby-2.4.1/bundler/gems/iruby-a2d7f8bcd676/lib/iruby/kernel.rb:47:in `dispatch'\u001b[0m",
      "\u001b[37m/usr/local/rvm/gems/ruby-2.4.1/bundler/gems/iruby-a2d7f8bcd676/lib/iruby/kernel.rb:37:in `run'\u001b[0m",
      "\u001b[37m/usr/local/rvm/gems/ruby-2.4.1/bundler/gems/iruby-a2d7f8bcd676/lib/iruby/command.rb:70:in `run_kernel'\u001b[0m",
      "\u001b[37m/usr/local/rvm/gems/ruby-2.4.1/bundler/gems/iruby-a2d7f8bcd676/lib/iruby/command.rb:34:in `run'\u001b[0m",
      "\u001b[37m/usr/local/rvm/gems/ruby-2.4.1/bundler/gems/iruby-a2d7f8bcd676/bin/iruby:5:in `<top (required)>'\u001b[0m",
      "\u001b[37m/usr/local/rvm/gems/ruby-2.4.1/bin/iruby:23:in `load'\u001b[0m",
      "\u001b[37m/usr/local/rvm/gems/ruby-2.4.1/bin/iruby:23:in `<main>'\u001b[0m",
      "\u001b[37m/usr/local/rvm/gems/ruby-2.4.1/bin/ruby_executable_hooks:15:in `eval'\u001b[0m",
      "\u001b[37m/usr/local/rvm/gems/ruby-2.4.1/bin/ruby_executable_hooks:15:in `<main>'\u001b[0m"
     ]
    }
   ],
   "source": [
    "t1 == t2"
   ]
  },
  {
   "cell_type": "markdown",
   "metadata": {},
   "source": [
    "### 类是开放的\n",
    "\n",
    "Ruby 的类是开放的。任何时候你都可以打开它进行增加和修改。即使像 `Fixnum` 这样的核心类，甚至是所有对象的父类 `Object` 类都可以打开。Ruby on Rails 在 `Fixnum` 类里定义了一大堆方法来处理时间问题。请看："
   ]
  },
  {
   "cell_type": "code",
   "execution_count": 20,
   "metadata": {
    "scrolled": true
   },
   "outputs": [
    {
     "data": {
      "text/plain": [
       "2006-01-01 14:00:00 +0800"
      ]
     },
     "execution_count": 20,
     "metadata": {},
     "output_type": "execute_result"
    }
   ],
   "source": [
    "class Integer\n",
    "  def hours\n",
    "    self * 3600 # number of seconds in an hour\n",
    "  end\n",
    "  alias hour hours\n",
    "end\n",
    "\n",
    "Time.mktime(2006, 01, 01) + 14.hours"
   ]
  },
  {
   "cell_type": "markdown",
   "metadata": {},
   "source": [
    "### 有趣的方法名\n",
    "\n",
    "Ruby 的方法名允许以问号或感叹号结尾。习惯上，以问号结尾的方法返回布尔值（如：如果接收者为空的话 `Array#empty?` 返回 `true` ）。潜在“危险”方法（如修改 `self` 或参数的方法，`exit!` 等）以感叹号结尾。也不是所有修改参数的方法以感叹号结尾。 比如 `Array#replace` 方法将当前列表替换成另一个列表。毕竟这些方法就是为此而生的，不修改自身就没什么意义了。\n",
    "\n",
    "### 单例方法（Singleton methods）\n",
    "\n",
    "单例方法是单一对象方法。只在定义过的对象上可用。"
   ]
  },
  {
   "cell_type": "code",
   "execution_count": 21,
   "metadata": {},
   "outputs": [
    {
     "data": {
      "text/plain": [
       "\"Cheap car\""
      ]
     },
     "execution_count": 21,
     "metadata": {},
     "output_type": "execute_result"
    }
   ],
   "source": [
    "class Car\n",
    "  def inspect\n",
    "    \"Cheap car\"\n",
    "  end\n",
    "end\n",
    "\n",
    "porsche = Car.new\n",
    "porsche.inspect"
   ]
  },
  {
   "cell_type": "code",
   "execution_count": 22,
   "metadata": {},
   "outputs": [
    {
     "data": {
      "text/plain": [
       ":inspect"
      ]
     },
     "execution_count": 22,
     "metadata": {},
     "output_type": "execute_result"
    }
   ],
   "source": [
    "def porsche.inspect\n",
    "  \"Expensive car\"\n",
    "end"
   ]
  },
  {
   "cell_type": "code",
   "execution_count": 23,
   "metadata": {},
   "outputs": [
    {
     "data": {
      "text/plain": [
       "\"Expensive car\""
      ]
     },
     "execution_count": 23,
     "metadata": {},
     "output_type": "execute_result"
    }
   ],
   "source": [
    "porsche.inspect"
   ]
  },
  {
   "cell_type": "code",
   "execution_count": 25,
   "metadata": {},
   "outputs": [
    {
     "data": {
      "text/plain": [
       "\"Cheap car\""
      ]
     },
     "execution_count": 25,
     "metadata": {},
     "output_type": "execute_result"
    }
   ],
   "source": [
    "other_car = Car.new\n",
    "other_car.inspect"
   ]
  },
  {
   "cell_type": "markdown",
   "metadata": {},
   "source": [
    "### Missing methods\n",
    "\n",
    "针对不存在的方法，Ruby 同样会进行处理。它会将这个不存在的方法名作为参数传递给 `method_missing`。`method_missing` 默认会抛出一个 `NameError` 异常，可以根据你的应用场景重新定义这个方法，许多库都是这么做的。看下面这个例子："
   ]
  },
  {
   "cell_type": "code",
   "execution_count": 26,
   "metadata": {},
   "outputs": [
    {
     "name": "stdout",
     "output_type": "stream",
     "text": [
      "Method __ was called, but not found. It has these arguments: a, b, 10\n"
     ]
    }
   ],
   "source": [
    "# id is the name of the method called, the * syntax collects\n",
    "# all the arguments in an array named 'arguments'\n",
    "class MyClass\n",
    "  def method_missing(id, *arguments)\n",
    "    puts \"Method #{id} was called, but not found. It has \" +\n",
    "         \"these arguments: #{arguments.join(\", \")}\"\n",
    "  end\n",
    "end\n",
    "\n",
    "MyClass.new.__(:a, :b, 10)"
   ]
  },
  {
   "cell_type": "markdown",
   "metadata": {
    "collapsed": true
   },
   "source": [
    "上面的代码会打印出调用细节，你也可以选择任何适当的方式处理这个消息。\n",
    "\n",
    "### 消息传递，非函数调用\n",
    "\n",
    "方法调用实际将一条 消息 传递给另一个对象："
   ]
  },
  {
   "cell_type": "code",
   "execution_count": 27,
   "metadata": {},
   "outputs": [
    {
     "name": "stdout",
     "output_type": "stream",
     "text": [
      "3\n",
      "3\n",
      "3\n"
     ]
    }
   ],
   "source": [
    "# This\n",
    "puts 1 + 2\n",
    "# Is the same as this ...\n",
    "puts 1.+(2)\n",
    "# Which is the same as this:\n",
    "puts 1.send \"+\", 2"
   ]
  },
  {
   "cell_type": "markdown",
   "metadata": {},
   "source": [
    "### 代码块也是对象，只是它们自己还不知道\n",
    "\n",
    "代码块（实际是闭包）广泛应用于标准库。可以使用 `yield` 调用一个代码块，或者像下面这样，通过一个特殊的参数将它变为一个 `Proc`："
   ]
  },
  {
   "cell_type": "code",
   "execution_count": 28,
   "metadata": {},
   "outputs": [
    {
     "data": {
      "text/plain": [
       "Proc"
      ]
     },
     "execution_count": 28,
     "metadata": {},
     "output_type": "execute_result"
    }
   ],
   "source": [
    "def block(&the_block)\n",
    "  # Inside here, the_block is the block passed to the method\n",
    "  the_block # return the block\n",
    "end\n",
    "adder = block { |a, b| a + b }\n",
    "# adder is now a Proc object\n",
    "adder.class"
   ]
  },
  {
   "cell_type": "markdown",
   "metadata": {},
   "source": [
    "调用 `lambda` 或 `Proc.new` 均可在方法外部创建代码块。\n",
    "\n",
    "### 方法同样也是对象。"
   ]
  },
  {
   "cell_type": "code",
   "execution_count": 29,
   "metadata": {},
   "outputs": [
    {
     "name": "stdout",
     "output_type": "stream",
     "text": [
      "puts is an object!\n"
     ]
    }
   ],
   "source": [
    "method(:puts).call \"puts is an object!\""
   ]
  },
  {
   "cell_type": "markdown",
   "metadata": {},
   "source": [
    "### 操作符是语法糖\n",
    "\n",
    "Ruby 中的大部分操作符仅仅是方法调用（根据一些优先级）的语法糖。例如，你可以覆盖 `Fixnum` 的 `+` 方法：\n",
    "\n",
    "```ruby\n",
    "class Fixnum\n",
    "  # 请不要这么做，虽然你可以\n",
    "  def +(other)\n",
    "    self - other\n",
    "  end\n",
    "end\n",
    "```\n",
    "\n",
    "你不需要 C++ 的 `operator+` 等。\n",
    "\n",
    "定义了 `[]` 和 `[]=` 方法后，你甚至拥有了数组风格的访问方法。要想定义一元操作符 `+` 和 `-`,你也必须定义相应的 `+@` 和 `-@` 方法。下面的操作符 不是 语法糖，它们不是方法，无法重新被定义：\n",
    "\n",
    "```ruby\n",
    "=, .., ..., not, &&, and, ||, or, ::\n",
    "```\n",
    "\n",
    "此外，`+=`、`*=` 等类似操作符只是 `var = var + other_var`、 `var = var * other_var`等的简写。因此也无法重新被定义。"
   ]
  },
  {
   "cell_type": "markdown",
   "metadata": {},
   "source": [
    "## 参考资料\n",
    "\n",
    "* [Ruby From Other Languages][ruby-from-other-languages]\n",
    "\n",
    "[ruby-from-other-languages]: https://www.ruby-lang.org/en/documentation/ruby-from-other-languages/ \"Ruby From Other Languages\""
   ]
  }
 ],
 "metadata": {
  "kernelspec": {
   "display_name": "Ruby 2.4.1",
   "language": "ruby",
   "name": "ruby"
  },
  "language_info": {
   "file_extension": ".rb",
   "mimetype": "application/x-ruby",
   "name": "ruby",
   "version": "2.4.1"
  }
 },
 "nbformat": 4,
 "nbformat_minor": 2
}
