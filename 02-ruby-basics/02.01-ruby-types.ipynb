{
 "cells": [
  {
   "cell_type": "markdown",
   "metadata": {},
   "source": [
    "# Ruby 数据类型"
   ]
  },
  {
   "cell_type": "markdown",
   "metadata": {},
   "source": [
    "## 内建数据类型 Built-in Types\n",
    "\n",
    "### 特殊类型\n",
    "\n",
    "| 类型 | 例子 |\n",
    "| ----- | ----- |\n",
    "| `NilClass` | `nil` |\n",
    "| `TrueClass` | `true` |\n",
    "| `FalseClass` | `false` |\n",
    "\n",
    "### 数值类型\n",
    "\n",
    "| 类型 | 例子 |\n",
    "| ----- | ----- |\n",
    "| `Integer` | `-100` |\n",
    "| `Float` | `3.1416` |\n",
    "| `Complex` | `2.0 + 1i` |\n",
    "\n",
    "### 字符类型\n",
    "\n",
    "| 类型| 例子 |\n",
    "| ----- | ----- |\n",
    "| `String` | `'hello'` |\n",
    "| `Symbol` | `:hello` |\n",
    "| `Regexp` | `/fo*/i` |\n",
    "\n",
    "\n",
    "### 集合\n",
    "\n",
    "| 类型 | 例子 |\n",
    "| ----- | ----- |\n",
    "| `Array` | `[1, 1.2, 'hello']` |\n",
    "| `Range` | `(1..10)` |\n",
    "| `Hash` | `{'dogs': 5, 'pigs': 3}` |"
   ]
  },
  {
   "cell_type": "markdown",
   "metadata": {},
   "source": [
    "## 通用操作\n",
    "\n",
    "### nil?"
   ]
  },
  {
   "cell_type": "code",
   "execution_count": 1,
   "metadata": {},
   "outputs": [
    {
     "name": "stdout",
     "output_type": "stream",
     "text": [
      "nil.nil? = true\n",
      "true.nil? = false\n",
      "false.nil? = false\n",
      "-100.nil? = false\n",
      "3.1416.nil? = false\n",
      "(2.0+1i).nil? = false\n",
      "'hello'.nil? = false\n",
      ":hello.nil? = false\n",
      "/foo*/i.nil? = false\n",
      "[1, 1.2, 'hello'].nil? = false\n",
      "(1..10).nil? = false\n",
      "{'dogs': 5, 'pigs': 3}.nil? = false\n"
     ]
    }
   ],
   "source": [
    "puts \"nil.nil? = #{nil.nil?}\"\n",
    "puts \"true.nil? = #{true.nil?}\"\n",
    "puts \"false.nil? = #{false.nil?}\"\n",
    "puts \"-100.nil? = #{-100.nil?}\"\n",
    "puts \"3.1416.nil? = #{3.1416.nil?}\"\n",
    "puts \"(2.0+1i).nil? = #{(2.0+1i).nil?}\"\n",
    "puts \"'hello'.nil? = #{'hello'.nil?}\"\n",
    "puts \":hello.nil? = #{:hello.nil?}\"\n",
    "puts \"/foo*/i.nil? = #{/foo*/i.nil?}\"\n",
    "puts \"[1, 1.2, 'hello'].nil? = #{[1, 1.2, 'hello'].nil?}\"\n",
    "puts \"(1..10).nil? = #{(1..10).nil?}\"\n",
    "puts \"{'dogs': 5, 'pigs': 3}.nil? = #{{'dogs': 5, 'pigs': 3}.nil?}\""
   ]
  },
  {
   "cell_type": "markdown",
   "metadata": {},
   "source": [
    "### inspect"
   ]
  },
  {
   "cell_type": "code",
   "execution_count": 2,
   "metadata": {},
   "outputs": [
    {
     "name": "stdout",
     "output_type": "stream",
     "text": [
      "nil.inspect = nil\n",
      "true.inspect = true\n",
      "false.inspect = false\n",
      "-100.inspect = -100\n",
      "3.1416.inspect = 3.1416\n",
      "(2.0+1i).inspect = (2.0+1i)\n",
      "'hello'.inspect = \"hello\"\n",
      ":hello.inspect = :hello\n",
      "/foo*/i.inspect = /foo*/i\n",
      "[1, 1.2, 'hello'].inspect = [1, 1.2, \"hello\"]\n",
      "(1..10).inspect = 1..10\n",
      "{'dogs': 5, 'pigs': 3}.inspect = {:dogs=>5, :pigs=>3}\n"
     ]
    }
   ],
   "source": [
    "puts \"nil.inspect = #{nil.inspect}\"\n",
    "puts \"true.inspect = #{true.inspect}\"\n",
    "puts \"false.inspect = #{false.inspect}\"\n",
    "puts \"-100.inspect = #{-100.inspect}\"\n",
    "puts \"3.1416.inspect = #{3.1416.inspect}\"\n",
    "puts \"(2.0+1i).inspect = #{(2.0+1i).inspect}\"\n",
    "puts \"'hello'.inspect = #{'hello'.inspect}\"\n",
    "puts \":hello.inspect = #{:hello.inspect}\"\n",
    "puts \"/foo*/i.inspect = #{/foo*/i.inspect}\"\n",
    "puts \"[1, 1.2, 'hello'].inspect = #{[1, 1.2, 'hello'].inspect}\"\n",
    "puts \"(1..10).inspect = #{(1..10).inspect}\"\n",
    "puts \"{'dogs': 5, 'pigs': 3}.inspect = #{{'dogs': 5, 'pigs': 3}.inspect}\""
   ]
  },
  {
   "cell_type": "markdown",
   "metadata": {},
   "source": [
    "### to_*"
   ]
  },
  {
   "cell_type": "code",
   "execution_count": 3,
   "metadata": {},
   "outputs": [
    {
     "name": "stdout",
     "output_type": "stream",
     "text": [
      "nil.to_s = \n",
      "true.to_s = true\n",
      "false.to_s = false\n",
      "-100.to_s = -100\n",
      "3.1416.to_s = 3.1416\n",
      "(2.0+1i).to_s = 2.0+1i\n",
      "'hello'.to_s = hello\n",
      ":hello.to_s = hello\n",
      "/foo*/i.to_s = (?i-mx:foo*)\n",
      "[1, 1.2, 'hello'].to_s = [1, 1.2, \"hello\"]\n",
      "(1..10).to_s = 1..10\n",
      "{'dogs': 5, 'pigs': 3}.to_s = {:dogs=>5, :pigs=>3}\n"
     ]
    }
   ],
   "source": [
    "puts \"nil.to_s = #{nil.to_s}\"\n",
    "puts \"true.to_s = #{true.to_s}\"\n",
    "puts \"false.to_s = #{false.to_s}\"\n",
    "puts \"-100.to_s = #{-100.to_s}\"\n",
    "puts \"3.1416.to_s = #{3.1416.to_s}\"\n",
    "puts \"(2.0+1i).to_s = #{(2.0+1i).to_s}\"\n",
    "puts \"'hello'.to_s = #{'hello'.to_s}\"\n",
    "puts \":hello.to_s = #{:hello.to_s}\"\n",
    "puts \"/foo*/i.to_s = #{/foo*/i.to_s}\"\n",
    "puts \"[1, 1.2, 'hello'].to_s = #{[1, 1.2, 'hello'].to_s}\"\n",
    "puts \"(1..10).to_s = #{(1..10).to_s}\"\n",
    "puts \"{'dogs': 5, 'pigs': 3}.to_s = #{{'dogs': 5, 'pigs': 3}.to_s}\""
   ]
  },
  {
   "cell_type": "code",
   "execution_count": 4,
   "metadata": {},
   "outputs": [
    {
     "name": "stdout",
     "output_type": "stream",
     "text": [
      "'hello'.to_s = hello\n",
      ":hello.to_s = hello\n"
     ]
    }
   ],
   "source": [
    "puts \"'hello'.to_s = #{'hello'.to_sym}\"\n",
    "puts \":hello.to_s = #{:hello.to_sym}\""
   ]
  },
  {
   "cell_type": "code",
   "execution_count": 5,
   "metadata": {},
   "outputs": [
    {
     "name": "stdout",
     "output_type": "stream",
     "text": [
      "nil.to_i = 0\n",
      "-100.to_i = -100\n",
      "3.1416.to_i = 3\n",
      "'hello'.to_i = 0\n",
      "'1.2'.to_i = 1\n"
     ]
    }
   ],
   "source": [
    "puts \"nil.to_i = #{nil.to_i}\"\n",
    "puts \"-100.to_i = #{-100.to_i}\"\n",
    "puts \"3.1416.to_i = #{3.1416.to_i}\"\n",
    "puts \"'hello'.to_i = #{'hello'.to_i}\"\n",
    "puts \"'1.2'.to_i = #{'1.2'.to_i}\""
   ]
  },
  {
   "cell_type": "code",
   "execution_count": 6,
   "metadata": {},
   "outputs": [
    {
     "name": "stdout",
     "output_type": "stream",
     "text": [
      "nil.to_f = 0.0\n",
      "-100.to_f = -100.0\n",
      "3.1416.to_f = 3.1416\n",
      "'hello'.to_f = 0.0\n",
      "'1.2'.to_f = 1.2\n"
     ]
    }
   ],
   "source": [
    "puts \"nil.to_f = #{nil.to_f}\"\n",
    "puts \"-100.to_f = #{-100.to_f}\"\n",
    "puts \"3.1416.to_f = #{3.1416.to_f}\"\n",
    "puts \"'hello'.to_f = #{'hello'.to_f}\"\n",
    "puts \"'1.2'.to_f = #{'1.2'.to_f}\""
   ]
  },
  {
   "cell_type": "code",
   "execution_count": 7,
   "metadata": {},
   "outputs": [
    {
     "name": "stdout",
     "output_type": "stream",
     "text": [
      "'hello'.to_s = hello\n",
      ":hello.to_s = hello\n"
     ]
    }
   ],
   "source": [
    "puts \"'hello'.to_s = #{'hello'.to_sym}\"\n",
    "puts \":hello.to_s = #{:hello.to_sym}\""
   ]
  },
  {
   "cell_type": "code",
   "execution_count": 8,
   "metadata": {},
   "outputs": [
    {
     "name": "stdout",
     "output_type": "stream",
     "text": [
      "[1, 1.2, 'hello'].to_a = [1, 1.2, \"hello\"]\n",
      "(1..10).to_a = [1, 2, 3, 4, 5, 6, 7, 8, 9, 10]\n",
      "{'dogs': 5, 'pigs': 3}.to_a = [[:dogs, 5], [:pigs, 3]]\n"
     ]
    }
   ],
   "source": [
    "puts \"[1, 1.2, 'hello'].to_a = #{[1, 1.2, 'hello'].to_a}\"\n",
    "puts \"(1..10).to_a = #{(1..10).to_a}\"\n",
    "puts \"{'dogs': 5, 'pigs': 3}.to_a = #{{'dogs': 5, 'pigs': 3}.to_a}\""
   ]
  },
  {
   "cell_type": "code",
   "execution_count": 9,
   "metadata": {},
   "outputs": [
    {
     "name": "stdout",
     "output_type": "stream",
     "text": [
      "[[:dogs, 5], [:pigs, 3]].to_h = {:dogs=>5, :pigs=>3}\n"
     ]
    }
   ],
   "source": [
    "puts \"[[:dogs, 5], [:pigs, 3]].to_h = #{[[:dogs, 5], [:pigs, 3]].to_h}\""
   ]
  },
  {
   "cell_type": "markdown",
   "metadata": {},
   "source": [
    "## inspect vs to_s\n",
    "\n",
    "一般情况下，`to_s`把一个对象以字符串状态呈现出来，它的主要目的是把信息呈现给用户，`inspect`通常包含更多的信息，许多信息不显示给用户，一般展示在日志文件或控制台，方便开发人员调试。"
   ]
  }
 ],
 "metadata": {
  "kernelspec": {
   "display_name": "Ruby 2.4.1",
   "language": "ruby",
   "name": "ruby"
  },
  "language_info": {
   "file_extension": ".rb",
   "mimetype": "application/x-ruby",
   "name": "ruby",
   "version": "2.4.1"
  }
 },
 "nbformat": 4,
 "nbformat_minor": 2
}
