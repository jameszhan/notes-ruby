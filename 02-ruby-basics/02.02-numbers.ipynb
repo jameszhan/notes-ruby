{
 "cells": [
  {
   "cell_type": "markdown",
   "metadata": {},
   "source": [
    "# 数字"
   ]
  },
  {
   "cell_type": "markdown",
   "metadata": {},
   "source": [
    "## 整型 Integers\n",
    "\n",
    "### 整型运算\n",
    "\n",
    "加减乘："
   ]
  },
  {
   "cell_type": "code",
   "execution_count": 1,
   "metadata": {},
   "outputs": [
    {
     "data": {
      "text/plain": [
       "4"
      ]
     },
     "execution_count": 1,
     "metadata": {},
     "output_type": "execute_result"
    }
   ],
   "source": [
    "2 + 2"
   ]
  },
  {
   "cell_type": "code",
   "execution_count": 2,
   "metadata": {},
   "outputs": [
    {
     "data": {
      "text/plain": [
       "-1"
      ]
     },
     "execution_count": 2,
     "metadata": {},
     "output_type": "execute_result"
    }
   ],
   "source": [
    "3 - 4"
   ]
  },
  {
   "cell_type": "code",
   "execution_count": 3,
   "metadata": {},
   "outputs": [
    {
     "data": {
      "text/plain": [
       "20"
      ]
     },
     "execution_count": 3,
     "metadata": {},
     "output_type": "execute_result"
    }
   ],
   "source": [
    "4 * 5"
   ]
  },
  {
   "cell_type": "code",
   "execution_count": 30,
   "metadata": {},
   "outputs": [
    {
     "data": {
      "text/plain": [
       "6"
      ]
     },
     "execution_count": 30,
     "metadata": {},
     "output_type": "execute_result"
    }
   ],
   "source": [
    "32 / 5"
   ]
  },
  {
   "cell_type": "code",
   "execution_count": 32,
   "metadata": {},
   "outputs": [
    {
     "data": {
      "text/plain": [
       "6"
      ]
     },
     "execution_count": 32,
     "metadata": {},
     "output_type": "execute_result"
    }
   ],
   "source": [
    "32.0.div(5)"
   ]
  },
  {
   "cell_type": "code",
   "execution_count": 34,
   "metadata": {},
   "outputs": [
    {
     "data": {
      "text/plain": [
       "6.4"
      ]
     },
     "execution_count": 34,
     "metadata": {},
     "output_type": "execute_result"
    }
   ],
   "source": [
    "32.fdiv(5)"
   ]
  },
  {
   "cell_type": "code",
   "execution_count": 88,
   "metadata": {},
   "outputs": [
    {
     "name": "stdout",
     "output_type": "stream",
     "text": [
      "before swap a = 666, b = 888\n",
      "before swap a = 888, b = 666\n"
     ]
    }
   ],
   "source": [
    "def swap(a, b)\n",
    "  puts \"before swap a = #{a}, b = #{b}\"\n",
    "  a = a + b\n",
    "  b = a - b\n",
    "  a = a - b\n",
    "  puts \"before swap a = #{a}, b = #{b}\"\n",
    "end\n",
    "\n",
    "a, b = 666, 888\n",
    "swap(a, b)"
   ]
  },
  {
   "cell_type": "markdown",
   "metadata": {},
   "source": [
    "幂指数："
   ]
  },
  {
   "cell_type": "code",
   "execution_count": 7,
   "metadata": {},
   "outputs": [
    {
     "data": {
      "text/plain": [
       "32"
      ]
     },
     "execution_count": 7,
     "metadata": {},
     "output_type": "execute_result"
    }
   ],
   "source": [
    "2 ** 5"
   ]
  },
  {
   "cell_type": "markdown",
   "metadata": {},
   "source": [
    "取余："
   ]
  },
  {
   "cell_type": "code",
   "execution_count": 9,
   "metadata": {},
   "outputs": [
    {
     "data": {
      "text/plain": [
       "2"
      ]
     },
     "execution_count": 9,
     "metadata": {},
     "output_type": "execute_result"
    }
   ],
   "source": [
    "32 % 5"
   ]
  },
  {
   "cell_type": "code",
   "execution_count": 38,
   "metadata": {},
   "outputs": [
    {
     "data": {
      "text/plain": [
       "3"
      ]
     },
     "execution_count": 38,
     "metadata": {},
     "output_type": "execute_result"
    }
   ],
   "source": [
    "-32 % 5"
   ]
  },
  {
   "cell_type": "code",
   "execution_count": 28,
   "metadata": {},
   "outputs": [
    {
     "data": {
      "text/plain": [
       "2"
      ]
     },
     "execution_count": 28,
     "metadata": {},
     "output_type": "execute_result"
    }
   ],
   "source": [
    "32.modulo(5)"
   ]
  },
  {
   "cell_type": "code",
   "execution_count": 39,
   "metadata": {},
   "outputs": [
    {
     "data": {
      "text/plain": [
       "3"
      ]
     },
     "execution_count": 39,
     "metadata": {},
     "output_type": "execute_result"
    }
   ],
   "source": [
    "-32.modulo(5)"
   ]
  },
  {
   "cell_type": "code",
   "execution_count": 37,
   "metadata": {},
   "outputs": [
    {
     "data": {
      "text/plain": [
       "2"
      ]
     },
     "execution_count": 37,
     "metadata": {},
     "output_type": "execute_result"
    }
   ],
   "source": [
    "32.remainder(5)"
   ]
  },
  {
   "cell_type": "code",
   "execution_count": 40,
   "metadata": {},
   "outputs": [
    {
     "data": {
      "text/plain": [
       "-2"
      ]
     },
     "execution_count": 40,
     "metadata": {},
     "output_type": "execute_result"
    }
   ],
   "source": [
    "-32.remainder(5)"
   ]
  },
  {
   "cell_type": "code",
   "execution_count": 29,
   "metadata": {},
   "outputs": [
    {
     "data": {
      "text/plain": [
       "[6, 2]"
      ]
     },
     "execution_count": 29,
     "metadata": {},
     "output_type": "execute_result"
    }
   ],
   "source": [
    "32.divmod(5)"
   ]
  },
  {
   "cell_type": "code",
   "execution_count": 41,
   "metadata": {},
   "outputs": [
    {
     "data": {
      "text/plain": [
       "[-7, 3]"
      ]
     },
     "execution_count": 41,
     "metadata": {},
     "output_type": "execute_result"
    }
   ],
   "source": [
    "-32.divmod(5)"
   ]
  },
  {
   "cell_type": "markdown",
   "metadata": {},
   "source": [
    "### 进制转换"
   ]
  },
  {
   "cell_type": "code",
   "execution_count": 42,
   "metadata": {},
   "outputs": [
    {
     "name": "stdout",
     "output_type": "stream",
     "text": [
      "12345\n",
      "11000000111001\n",
      "30071\n",
      "12345\n",
      "3039\n",
      "9ix\n"
     ]
    }
   ],
   "source": [
    "puts 12345.to_s\n",
    "puts 12345.to_s(2)\n",
    "puts 12345.to_s(8)\n",
    "puts 12345.to_s(10)\n",
    "puts 12345.to_s(16)\n",
    "puts 12345.to_s(36)"
   ]
  },
  {
   "cell_type": "code",
   "execution_count": 43,
   "metadata": {},
   "outputs": [
    {
     "name": "stdout",
     "output_type": "stream",
     "text": [
      "12345\n",
      "12345\n",
      "12345\n"
     ]
    }
   ],
   "source": [
    "puts 0B11000000111001\n",
    "puts 030071\n",
    "puts 0x3039"
   ]
  },
  {
   "cell_type": "markdown",
   "metadata": {},
   "source": [
    "### 位运算"
   ]
  },
  {
   "cell_type": "markdown",
   "metadata": {},
   "source": [
    "### 进制转换"
   ]
  },
  {
   "cell_type": "code",
   "execution_count": 19,
   "metadata": {},
   "outputs": [
    {
     "name": "stdout",
     "output_type": "stream",
     "text": [
      "12345\n",
      "11000000111001\n",
      "30071\n",
      "12345\n",
      "3039\n",
      "9ix\n"
     ]
    }
   ],
   "source": [
    "puts 12345.to_s\n",
    "puts 12345.to_s(2)\n",
    "puts 12345.to_s(8)\n",
    "puts 12345.to_s(10)\n",
    "puts 12345.to_s(16)\n",
    "puts 12345.to_s(36)"
   ]
  },
  {
   "cell_type": "code",
   "execution_count": 21,
   "metadata": {},
   "outputs": [
    {
     "name": "stdout",
     "output_type": "stream",
     "text": [
      "12345\n",
      "12345\n",
      "12345\n"
     ]
    }
   ],
   "source": [
    "puts 0B11000000111001\n",
    "puts 030071\n",
    "puts 0x3039"
   ]
  },
  {
   "cell_type": "markdown",
   "metadata": {},
   "source": [
    "#### 左移运算符\n",
    "\n",
    "用来将一个数各二进位全部左移若干位"
   ]
  },
  {
   "cell_type": "code",
   "execution_count": 167,
   "metadata": {},
   "outputs": [
    {
     "name": "stdout",
     "output_type": "stream",
     "text": [
      "3 * 8 = 24\n",
      "01111111 << 1 = 11111110\n",
      "(01111111 << 1) + 1 = 11111111\n"
     ]
    }
   ],
   "source": [
    "puts \"3 * 8 = #{3 << 3}\"  # 乘法\n",
    "a = 127\n",
    "puts \"%08b << 1 = %08b\" %[a, a << 1]   #在最后加一个0\n",
    "puts \"(%08b << 1) + 1 = %08b\" %[a, (a << 1) + 1] # 在最后加一个1"
   ]
  },
  {
   "cell_type": "markdown",
   "metadata": {},
   "source": [
    "#### 右移运算符\n",
    "\n",
    "用来将一个数各二进位全部左移若干位"
   ]
  },
  {
   "cell_type": "code",
   "execution_count": 168,
   "metadata": {},
   "outputs": [
    {
     "name": "stdout",
     "output_type": "stream",
     "text": [
      "01111111 >> 1 = 00111111\n",
      "01111111 >> 2 = 00011111\n"
     ]
    }
   ],
   "source": [
    "a = 127\n",
    "puts \"%08b >> 1 = %08b\" %[127, 127 >> 1] # 去掉最后一位\n",
    "puts \"%08b >> 2 = %08b\" %[127, 127 >> 2] # 去掉最后两位"
   ]
  },
  {
   "cell_type": "markdown",
   "metadata": {},
   "source": [
    "#### 取反运算符\n",
    "\n",
    "~是一元运算符，用于求整数的二进制反码，即分别将操作数各二进制位上的1变为0，0变为1"
   ]
  },
  {
   "cell_type": "code",
   "execution_count": 114,
   "metadata": {},
   "outputs": [
    {
     "name": "stdout",
     "output_type": "stream",
     "text": [
      "~00000000000000000000000001111111 = ..111111111111111111111110000000\n"
     ]
    }
   ],
   "source": [
    "a = 127\n",
    "puts \"~%032b = %032b\" % [a, ~a]"
   ]
  },
  {
   "cell_type": "markdown",
   "metadata": {},
   "source": [
    "#### 按位与\n",
    "\n",
    "参加运算的两个数制，按二进制进行 与运算。如果两个相应的二进位数为1，刚该位的结果为 1 否则为 0"
   ]
  },
  {
   "cell_type": "code",
   "execution_count": 171,
   "metadata": {},
   "outputs": [
    {
     "name": "stdout",
     "output_type": "stream",
     "text": [
      "10101001 & 01111110 = 00101000\n",
      "11111111 & 01111110 = 01111110\n"
     ]
    }
   ],
   "source": [
    "# 最高位最低位清零\n",
    "mask = 0x7E\n",
    "\n",
    "a = 169\n",
    "puts \"%08b & %08b = %08b\" % [a, mask, a & mask]\n",
    "a = 255\n",
    "puts \"%08b & %08b = %08b\" % [a, mask, a & mask]"
   ]
  },
  {
   "cell_type": "code",
   "execution_count": 120,
   "metadata": {},
   "outputs": [
    {
     "name": "stdout",
     "output_type": "stream",
     "text": [
      "is_highest_set = true\n",
      "is_3_set = false\n",
      "is_lowest_set = true\n",
      "is_odd = true\n",
      "is_even = false\n"
     ]
    }
   ],
   "source": [
    "# 取指定位\n",
    "a = 169\n",
    "puts \"is_highest_set = #{a & 128 > 0}\"\n",
    "puts \"is_3_set = #{a & 0x04 > 0}\"\n",
    "puts \"is_lowest_set = #{a & 0x01 > 0}\"\n",
    "\n",
    "puts \"is_odd = #{a & 0x01 == 1}\"\n",
    "puts \"is_even = #{a & 0x01 == 0}\""
   ]
  },
  {
   "cell_type": "code",
   "execution_count": 159,
   "metadata": {},
   "outputs": [
    {
     "name": "stdout",
     "output_type": "stream",
     "text": [
      "10101001[0] = 1\n",
      "10101001[1] = 0\n",
      "10101001[2] = 0\n",
      "10101001[3] = 1\n",
      "10101001[4] = 0\n",
      "10101001[5] = 1\n",
      "10101001[6] = 0\n",
      "10101001[7] = 1\n",
      "10101001 & 00000001 = 00000001\n",
      "10101001 & 00000011 = 00000001\n",
      "10101001 & 00000111 = 00000001\n",
      "10101001 & 00001111 = 00001001\n",
      "10101001 & 00011111 = 00001001\n",
      "10101001 & 00111111 = 00101001\n",
      "10101001 & 01111111 = 00101001\n",
      "10101001 & 11111111 = 10101001\n",
      "10101001 & ..1111111110 = 10101000\n",
      "10101001 & ..1111111101 = 10101001\n",
      "10101001 & ..1111111011 = 10101001\n",
      "10101001 & ..1111110111 = 10100001\n",
      "10101001 & ..1111101111 = 10101001\n",
      "10101001 & ..1111011111 = 10001001\n",
      "10101001 & ..1110111111 = 10101001\n",
      "10101001 & ..1101111111 = 00101001\n"
     ]
    },
    {
     "data": {
      "text/plain": [
       "0"
      ]
     },
     "execution_count": 159,
     "metadata": {},
     "output_type": "execute_result"
    }
   ],
   "source": [
    "a = 169\n",
    "\n",
    "0.upto(7) do|k|\n",
    "  puts \"%08b[%d] = %d\" % [a, k, a >> k & 1]  # 取整型变量a的第k位\n",
    "end\n",
    "\n",
    "0.upto(7) do|k|\n",
    "  b = ((1 << (k + 1)) - 1)\n",
    "  puts \"%08b & %08b = %08b\" % [a, b, a & b]  # 取末k位\n",
    "end\n",
    "\n",
    "0.upto(7) do|k|\n",
    "  b = ~(1 << k) \n",
    "  puts \"%08b & %012b = %08b\" % [a, b, a & b]  # 把右数第k位清0\n",
    "end "
   ]
  },
  {
   "cell_type": "code",
   "execution_count": 163,
   "metadata": {},
   "outputs": [
    {
     "name": "stdout",
     "output_type": "stream",
     "text": [
      "0011000000111001 ^ 11111111 = 0000000000111001\n"
     ]
    }
   ],
   "source": [
    "# 取低8位\n",
    "mask = 0xFF\n",
    "a = 12345\n",
    "puts \"%016b ^ %08b = %016b\" % [a, mask, a & mask]"
   ]
  },
  {
   "cell_type": "markdown",
   "metadata": {},
   "source": [
    "#### 按位或\n",
    "\n",
    "两个相应的二进位中只要有一个为 1，该位的结果就为 1"
   ]
  },
  {
   "cell_type": "code",
   "execution_count": 160,
   "metadata": {},
   "outputs": [
    {
     "name": "stdout",
     "output_type": "stream",
     "text": [
      "01000000 => 01000001\n",
      "00111111 => 00111110\n",
      "10101001 | 00000001 => 10101001\n",
      "10101001 | 00000010 => 10101011\n",
      "10101001 | 00000100 => 10101101\n",
      "10101001 | 00001000 => 10101001\n",
      "10101001 | 00010000 => 10111001\n",
      "10101001 | 00100000 => 10101001\n",
      "10101001 | 01000000 => 11101001\n",
      "10101001 | 10000000 => 10101001\n"
     ]
    },
    {
     "data": {
      "text/plain": [
       "0...8"
      ]
     },
     "execution_count": 160,
     "metadata": {},
     "output_type": "execute_result"
    }
   ],
   "source": [
    "puts \"%08b => %08b\" % [64, 64 | 1] # 把最后一位变成1 \n",
    "puts \"%08b => %08b\" % [63, (63 | 1) - 1] # 把最后一位变成0\n",
    "\n",
    "a = 169\n",
    "(0...8).each do|k|\n",
    "  mask = (1 << k) \n",
    "  puts \"%08b | %08b => %08b\" % [a, mask, a | mask]  # 把右数第k位变成1\n",
    "end"
   ]
  },
  {
   "cell_type": "markdown",
   "metadata": {},
   "source": [
    "#### 异或\n",
    "\n",
    "异或运算符 ^ 也称 XOR 运算符。它的规则是若参加运算的两个二进位同号，则结果为0，异号则为1"
   ]
  },
  {
   "cell_type": "code",
   "execution_count": 151,
   "metadata": {},
   "outputs": [
    {
     "name": "stdout",
     "output_type": "stream",
     "text": [
      "01111111 ^ 1 = 01111110\n",
      "10000000 ^ 1 = 10000001\n",
      "10101001 ^ 00000001 = 10101000\n",
      "10101001 ^ 00000010 = 10101011\n",
      "10101001 ^ 00000100 = 10101101\n",
      "10101001 ^ 00001000 = 10100001\n",
      "10101001 ^ 00010000 = 10111001\n",
      "10101001 ^ 00100000 = 10001001\n",
      "10101001 ^ 01000000 = 11101001\n",
      "10101001 ^ 10000000 = 00101001\n",
      "10101001 ^ 00000001 = 10101000\n",
      "10101001 ^ 00000011 = 10101010\n",
      "10101001 ^ 00000111 = 10101110\n",
      "10101001 ^ 00001111 = 10100110\n",
      "10101001 ^ 00011111 = 10110110\n",
      "10101001 ^ 00111111 = 10010110\n",
      "10101001 ^ 01111111 = 11010110\n",
      "10101001 ^ 11111111 = 01010110\n",
      "before swap a = 666, b = 888\n",
      "before swap a = 888, b = 666\n"
     ]
    }
   ],
   "source": [
    "# 最后一位取反\n",
    "puts \"%08b ^ 1 = %08b\" % [127, 127 ^ 1]\n",
    "puts \"%08b ^ 1 = %08b\" % [128, 128 ^ 1]\n",
    "\n",
    "a = 169\n",
    "\n",
    "(0...8).each do|k|\n",
    "  b = (1 << k) \n",
    "  puts \"%08b ^ %08b = %08b\" % [a, b, a ^ b]  # 右数第k位取反\n",
    "end\n",
    "\n",
    "0.upto(7) do|k|\n",
    "  b = ((1 << (k + 1)) - 1)\n",
    "  puts \"%08b ^ %08b = %08b\" % [a, b, a ^ b]  # 把末k位变成1\n",
    "end\n",
    "\n",
    "def swap(a, b)\n",
    "  puts \"before swap a = #{a}, b = #{b}\"\n",
    "  a = a ^ b\n",
    "  b = b ^ a\n",
    "  a = a ^ b\n",
    "  puts \"before swap a = #{a}, b = #{b}\"\n",
    "end\n",
    "\n",
    "a, b = 666, 888\n",
    "swap(a, b)"
   ]
  },
  {
   "cell_type": "markdown",
   "metadata": {},
   "source": [
    "#### 补码运算\n",
    "\n",
    "```math\n",
    "-x = ~x + 1 = ~(x-1) \n",
    "~x = -x - 1 \n",
    "-(~x) = x+1 \n",
    "~(-x) = x-1 \n",
    "\n",
    "x + y = x - ~y - 1 = (x | y) + (x & y) \n",
    "x - y = x + ~y + 1 = (x | ~y) - (~x & y) \n",
    "\n",
    "x ^ y = (x | y) - (x & y) \n",
    "x | y = (x & ~y) + y \n",
    "x & y = (~x | y) - ~x \n",
    "```"
   ]
  },
  {
   "cell_type": "code",
   "execution_count": 208,
   "metadata": {},
   "outputs": [
    {
     "name": "stdout",
     "output_type": "stream",
     "text": [
      "~25 + 1 = -25\n",
      "~(25 - 1) = -25\n",
      "25 - ~12 - 1 = 37\n",
      "25 + ~12 + 1 = 13\n",
      "21 = 21\n",
      "29 = 29\n",
      "8 = 8\n"
     ]
    }
   ],
   "source": [
    "x = 25\n",
    "puts \"~%d + 1 = %d\" % [x, ~x + 1]\n",
    "puts \"~(%d - 1) = %d\" % [x, ~(x - 1)]\n",
    "\n",
    "y = 12\n",
    "puts \"#{x} - ~#{y} - 1 = #{x - ~y -1}\"\n",
    "puts \"#{x} + ~#{y} + 1 = #{x + ~y +1}\"\n",
    "\n",
    "puts \"#{x ^ y} = #{(x | y) - (x & y)}\"\n",
    "puts \"#{x | y} = #{(x & ~y) + y}\"\n",
    "puts \"#{x & y} = #{(~x | y) - ~x}\""
   ]
  },
  {
   "cell_type": "markdown",
   "metadata": {},
   "source": [
    "### 其他"
   ]
  },
  {
   "cell_type": "markdown",
   "metadata": {},
   "source": [
    "使用 `*.class` 函数来查看变量类型："
   ]
  },
  {
   "cell_type": "code",
   "execution_count": 12,
   "metadata": {},
   "outputs": [
    {
     "data": {
      "text/plain": [
       "Integer"
      ]
     },
     "execution_count": 12,
     "metadata": {},
     "output_type": "execute_result"
    }
   ],
   "source": [
    "a.class"
   ]
  },
  {
   "cell_type": "markdown",
   "metadata": {},
   "source": [
    "Ruby 数字没有大小限制"
   ]
  },
  {
   "cell_type": "code",
   "execution_count": 16,
   "metadata": {},
   "outputs": [
    {
     "data": {
      "text/plain": [
       "53751763281617910977034964721174741663008655940159144344713614863023080529278140407534961311242814229395876005424258737427374269437649287838907097277355371953699677593812086481959272740614049029887514406997074265172418391397657360248197162683969074191332475296524902658098222332595908741751391477587362636344728828453617536494627356792601450307397806688631445746074774556850081722840606116959452930981773324385740577251592339045231114992186734509188416434115341010544191353505352737718761080737479237042176"
      ]
     },
     "execution_count": 16,
     "metadata": {},
     "output_type": "execute_result"
    }
   ],
   "source": [
    "2 ** 1680"
   ]
  },
  {
   "cell_type": "code",
   "execution_count": 18,
   "metadata": {},
   "outputs": [
    {
     "data": {
      "text/plain": [
       "-53751763281617910977034964721174741663008655940159144344713614863023080529278140407534961311242814229395876005424258737427374269437649287838907097277355371953699677593812086481959272740614049029887514406997074265172418391397657360248197162683969074191332475296524902658098222332595908741751391477587362636344728828453617536494627356792601450307397806688631445746074774556850081722840606116959452930981773324385740577251592339045231114992186734509188416434115341010544191353505352737718761080737479237042176"
      ]
     },
     "execution_count": 18,
     "metadata": {},
     "output_type": "execute_result"
    }
   ],
   "source": [
    "-2 ** 1680"
   ]
  },
  {
   "cell_type": "markdown",
   "metadata": {},
   "source": [
    "## 浮点数 Floating Point Numbers"
   ]
  },
  {
   "cell_type": "code",
   "execution_count": 209,
   "metadata": {},
   "outputs": [
    {
     "data": {
      "text/plain": [
       "Float"
      ]
     },
     "execution_count": 209,
     "metadata": {},
     "output_type": "execute_result"
    }
   ],
   "source": [
    "a = 3.1416\n",
    "a.class"
   ]
  },
  {
   "cell_type": "markdown",
   "metadata": {},
   "source": [
    "在之前的除法例子 `32 / 5` 中，假如想要使返回的结果为 `2.4`，可以将它们写成浮点数的形式："
   ]
  },
  {
   "cell_type": "code",
   "execution_count": 210,
   "metadata": {},
   "outputs": [
    {
     "data": {
      "text/plain": [
       "6.4"
      ]
     },
     "execution_count": 210,
     "metadata": {},
     "output_type": "execute_result"
    }
   ],
   "source": [
    "32.0 / 5.0"
   ]
  },
  {
   "cell_type": "code",
   "execution_count": 211,
   "metadata": {},
   "outputs": [
    {
     "data": {
      "text/plain": [
       "6.4"
      ]
     },
     "execution_count": 211,
     "metadata": {},
     "output_type": "execute_result"
    }
   ],
   "source": [
    "32 / 5.0"
   ]
  },
  {
   "cell_type": "code",
   "execution_count": 212,
   "metadata": {},
   "outputs": [
    {
     "data": {
      "text/plain": [
       "6.4"
      ]
     },
     "execution_count": 212,
     "metadata": {},
     "output_type": "execute_result"
    }
   ],
   "source": [
    "32.0 / 5"
   ]
  },
  {
   "cell_type": "code",
   "execution_count": 240,
   "metadata": {},
   "outputs": [
    {
     "data": {
      "text/plain": [
       "6.4"
      ]
     },
     "execution_count": 240,
     "metadata": {},
     "output_type": "execute_result"
    }
   ],
   "source": [
    "32.0.fdiv(5)"
   ]
  },
  {
   "cell_type": "markdown",
   "metadata": {},
   "source": [
    "上面的例子说明，浮点数与整数进行运算时，返回的仍然是浮点数："
   ]
  },
  {
   "cell_type": "code",
   "execution_count": 213,
   "metadata": {},
   "outputs": [
    {
     "data": {
      "text/plain": [
       "8.8"
      ]
     },
     "execution_count": 213,
     "metadata": {},
     "output_type": "execute_result"
    }
   ],
   "source": [
    "6 + 2.8"
   ]
  },
  {
   "cell_type": "markdown",
   "metadata": {},
   "source": [
    "浮点数也可以进行与整数相似的运算，甚至可以取余："
   ]
  },
  {
   "cell_type": "code",
   "execution_count": 215,
   "metadata": {},
   "outputs": [
    {
     "data": {
      "text/plain": [
       "0.30000000000000027"
      ]
     },
     "execution_count": 215,
     "metadata": {},
     "output_type": "execute_result"
    }
   ],
   "source": [
    "3.6 - 3.3"
   ]
  },
  {
   "cell_type": "code",
   "execution_count": 216,
   "metadata": {},
   "outputs": [
    {
     "data": {
      "text/plain": [
       "6.25"
      ]
     },
     "execution_count": 216,
     "metadata": {},
     "output_type": "execute_result"
    }
   ],
   "source": [
    "2.5 ** 2"
   ]
  },
  {
   "cell_type": "code",
   "execution_count": 221,
   "metadata": {},
   "outputs": [
    {
     "data": {
      "text/plain": [
       "0.6000000000000001"
      ]
     },
     "execution_count": 221,
     "metadata": {},
     "output_type": "execute_result"
    }
   ],
   "source": [
    "3.6 % 1.5 "
   ]
  },
  {
   "cell_type": "markdown",
   "metadata": {},
   "source": [
    "Ruby的浮点数标准与C，Java一致，都是IEEE 754 floating point standard。\n",
    "\n",
    "注意看 3.6 - 3.3 的结果并不是我们预期的0.3，这是因为浮点数本身储存方式引起的，浮点数本身会存在一点误差。\n",
    "\n",
    "事实上，Ruby 中储存的值为'0.3000000000000002664535259100375697016716003417968750'，因为这是最接近0.3的浮点数。|"
   ]
  },
  {
   "cell_type": "code",
   "execution_count": 225,
   "metadata": {},
   "outputs": [
    {
     "data": {
      "text/plain": [
       "\"0.3000000000000002664535259100375697016716003417968750\""
      ]
     },
     "execution_count": 225,
     "metadata": {},
     "output_type": "execute_result"
    }
   ],
   "source": [
    "\"%.52f\" % (3.6 - 3.3)"
   ]
  },
  {
   "cell_type": "code",
   "execution_count": 243,
   "metadata": {},
   "outputs": [
    {
     "data": {
      "text/plain": [
       "2.0"
      ]
     },
     "execution_count": 243,
     "metadata": {},
     "output_type": "execute_result"
    }
   ],
   "source": [
    "32.0 % 5.0"
   ]
  },
  {
   "cell_type": "code",
   "execution_count": 244,
   "metadata": {},
   "outputs": [
    {
     "data": {
      "text/plain": [
       "2.0"
      ]
     },
     "execution_count": 244,
     "metadata": {},
     "output_type": "execute_result"
    }
   ],
   "source": [
    "32.0.modulo(5.0)"
   ]
  },
  {
   "cell_type": "code",
   "execution_count": 245,
   "metadata": {},
   "outputs": [
    {
     "data": {
      "text/plain": [
       "3.0"
      ]
     },
     "execution_count": 245,
     "metadata": {},
     "output_type": "execute_result"
    }
   ],
   "source": [
    "-32.0.modulo(5.0)"
   ]
  },
  {
   "cell_type": "code",
   "execution_count": 246,
   "metadata": {},
   "outputs": [
    {
     "data": {
      "text/plain": [
       "2.0"
      ]
     },
     "execution_count": 246,
     "metadata": {},
     "output_type": "execute_result"
    }
   ],
   "source": [
    "32.0.remainder(5.0)"
   ]
  },
  {
   "cell_type": "code",
   "execution_count": 247,
   "metadata": {},
   "outputs": [
    {
     "data": {
      "text/plain": [
       "-2.0"
      ]
     },
     "execution_count": 247,
     "metadata": {},
     "output_type": "execute_result"
    }
   ],
   "source": [
    "-32.0.remainder(5.0)"
   ]
  },
  {
   "cell_type": "code",
   "execution_count": 249,
   "metadata": {},
   "outputs": [
    {
     "data": {
      "text/plain": [
       "[6, 2.0]"
      ]
     },
     "execution_count": 249,
     "metadata": {},
     "output_type": "execute_result"
    }
   ],
   "source": [
    "32.0.divmod(5.0)"
   ]
  },
  {
   "cell_type": "code",
   "execution_count": 250,
   "metadata": {},
   "outputs": [
    {
     "data": {
      "text/plain": [
       "[-7, 3.0]"
      ]
     },
     "execution_count": 250,
     "metadata": {},
     "output_type": "execute_result"
    }
   ],
   "source": [
    "-32.0.divmod(5.0)"
   ]
  },
  {
   "cell_type": "code",
   "execution_count": 238,
   "metadata": {},
   "outputs": [
    {
     "name": "stdout",
     "output_type": "stream",
     "text": [
      "MAX = 1.7976931348623157e+308, MIN = 2.2250738585072014e-308, EPSILON=2.2204460492503131e-16\n",
      "INFINITY = Infinity, NAN = NaN\n",
      "MAX_EXP = 1024, MIN_EXP = -1021\n",
      "MAX_10_EXP = 308, MIN_10_EXP = -307\n"
     ]
    }
   ],
   "source": [
    "puts \"MAX = %.16e, MIN = %.16e, EPSILON=%.16e\" %[Float::MAX, Float::MIN, Float::EPSILON]\n",
    "puts \"INFINITY = %s, NAN = %s\" %[Float::INFINITY, Float::NAN]\n",
    "puts \"MAX_EXP = %s, MIN_EXP = %s\" %[Float::MAX_EXP, Float::MIN_EXP]\n",
    "puts \"MAX_10_EXP = %s, MIN_10_EXP = %s\" %[Float::MAX_10_EXP, Float::MIN_10_EXP]"
   ]
  },
  {
   "cell_type": "markdown",
   "metadata": {},
   "source": [
    "## 复数 Complex Numbers"
   ]
  },
  {
   "cell_type": "code",
   "execution_count": 252,
   "metadata": {},
   "outputs": [
    {
     "data": {
      "text/plain": [
       "Complex"
      ]
     },
     "execution_count": 252,
     "metadata": {},
     "output_type": "execute_result"
    }
   ],
   "source": [
    "a = 1 + 2i\n",
    "a.class"
   ]
  },
  {
   "cell_type": "code",
   "execution_count": 253,
   "metadata": {},
   "outputs": [
    {
     "data": {
      "text/plain": [
       "1"
      ]
     },
     "execution_count": 253,
     "metadata": {},
     "output_type": "execute_result"
    }
   ],
   "source": [
    "a.real"
   ]
  },
  {
   "cell_type": "code",
   "execution_count": 256,
   "metadata": {},
   "outputs": [
    {
     "data": {
      "text/plain": [
       "2"
      ]
     },
     "execution_count": 256,
     "metadata": {},
     "output_type": "execute_result"
    }
   ],
   "source": [
    "a.imag"
   ]
  },
  {
   "cell_type": "code",
   "execution_count": 258,
   "metadata": {},
   "outputs": [
    {
     "data": {
      "text/latex": [
       "$1+-2\\imath$"
      ],
      "text/plain": [
       "(1-2i)"
      ]
     },
     "execution_count": 258,
     "metadata": {},
     "output_type": "execute_result"
    }
   ],
   "source": [
    "a.conjugate"
   ]
  },
  {
   "cell_type": "markdown",
   "metadata": {},
   "source": [
    "## 简单的数学函数\n",
    "\n",
    "绝对值："
   ]
  },
  {
   "cell_type": "code",
   "execution_count": 261,
   "metadata": {},
   "outputs": [
    {
     "data": {
      "text/plain": [
       "3"
      ]
     },
     "execution_count": 261,
     "metadata": {},
     "output_type": "execute_result"
    }
   ],
   "source": [
    "-3.abs"
   ]
  },
  {
   "cell_type": "code",
   "execution_count": null,
   "metadata": {
    "collapsed": true
   },
   "outputs": [],
   "source": [
    "取整："
   ]
  },
  {
   "cell_type": "code",
   "execution_count": 262,
   "metadata": {},
   "outputs": [
    {
     "data": {
      "text/plain": [
       "3"
      ]
     },
     "execution_count": 262,
     "metadata": {},
     "output_type": "execute_result"
    }
   ],
   "source": [
    "3.2.round"
   ]
  },
  {
   "cell_type": "code",
   "execution_count": 263,
   "metadata": {},
   "outputs": [
    {
     "data": {
      "text/plain": [
       "3"
      ]
     },
     "execution_count": 263,
     "metadata": {},
     "output_type": "execute_result"
    }
   ],
   "source": [
    "3.2.floor"
   ]
  },
  {
   "cell_type": "code",
   "execution_count": 264,
   "metadata": {},
   "outputs": [
    {
     "data": {
      "text/plain": [
       "4"
      ]
     },
     "execution_count": 264,
     "metadata": {},
     "output_type": "execute_result"
    }
   ],
   "source": [
    "3.2.ceil"
   ]
  },
  {
   "cell_type": "code",
   "execution_count": 265,
   "metadata": {},
   "outputs": [
    {
     "data": {
      "text/plain": [
       "5"
      ]
     },
     "execution_count": 265,
     "metadata": {},
     "output_type": "execute_result"
    }
   ],
   "source": [
    "[1, 2, 3, 4, 5].max"
   ]
  },
  {
   "cell_type": "code",
   "execution_count": 266,
   "metadata": {},
   "outputs": [
    {
     "data": {
      "text/plain": [
       "1"
      ]
     },
     "execution_count": 266,
     "metadata": {},
     "output_type": "execute_result"
    }
   ],
   "source": [
    "[1, 2, 3, 4, 5].min"
   ]
  },
  {
   "cell_type": "code",
   "execution_count": 267,
   "metadata": {},
   "outputs": [
    {
     "data": {
      "text/plain": [
       "15"
      ]
     },
     "execution_count": 267,
     "metadata": {},
     "output_type": "execute_result"
    }
   ],
   "source": [
    "[1, 2, 3, 4, 5].sum"
   ]
  }
 ],
 "metadata": {
  "kernelspec": {
   "display_name": "Ruby 2.4.1",
   "language": "ruby",
   "name": "ruby"
  },
  "language_info": {
   "file_extension": ".rb",
   "mimetype": "application/x-ruby",
   "name": "ruby",
   "version": "2.4.1"
  }
 },
 "nbformat": 4,
 "nbformat_minor": 2
}
