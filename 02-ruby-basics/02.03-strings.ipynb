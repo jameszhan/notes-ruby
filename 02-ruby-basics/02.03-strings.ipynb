{
 "cells": [
  {
   "cell_type": "markdown",
   "metadata": {},
   "source": [
    "# 字符串"
   ]
  },
  {
   "cell_type": "markdown",
   "metadata": {},
   "source": [
    "## 生成字符串"
   ]
  },
  {
   "cell_type": "markdown",
   "metadata": {},
   "source": [
    "### 典型构造\n",
    "\n",
    "典型地，**Ruby**中可以使用一对单引号''或者双引号\"\"生成字符串。"
   ]
  },
  {
   "cell_type": "code",
   "execution_count": 1,
   "metadata": {},
   "outputs": [
    {
     "data": {
      "text/plain": [
       "\"Hello World!\""
      ]
     },
     "execution_count": 1,
     "metadata": {},
     "output_type": "execute_result"
    }
   ],
   "source": [
    "\"Hello World!\""
   ]
  },
  {
   "cell_type": "code",
   "execution_count": 2,
   "metadata": {},
   "outputs": [
    {
     "data": {
      "text/plain": [
       "\"Hello World!\""
      ]
     },
     "execution_count": 2,
     "metadata": {},
     "output_type": "execute_result"
    }
   ],
   "source": [
    "'Hello World!'"
   ]
  },
  {
   "cell_type": "markdown",
   "metadata": {},
   "source": [
    "双引号(`\"`) 允许 `内插值(interpolation)` 和 `转义(escaping)`"
   ]
  },
  {
   "cell_type": "code",
   "execution_count": 3,
   "metadata": {},
   "outputs": [
    {
     "name": "stdout",
     "output_type": "stream",
     "text": [
      "Hello\tJames\n"
     ]
    }
   ],
   "source": [
    "name = \"James\"\n",
    "puts \"Hello\\t#{name}\""
   ]
  },
  {
   "cell_type": "markdown",
   "metadata": {},
   "source": [
    "单引号(`'`) 则保留更多字符串的原始字面信息"
   ]
  },
  {
   "cell_type": "code",
   "execution_count": 4,
   "metadata": {},
   "outputs": [
    {
     "name": "stdout",
     "output_type": "stream",
     "text": [
      "Hello\\t#{name}\n"
     ]
    }
   ],
   "source": [
    "name = 'James'\n",
    "puts 'Hello\\t#{name}'"
   ]
  },
  {
   "cell_type": "markdown",
   "metadata": {},
   "source": [
    "### 特殊构造\n",
    "\n",
    "* %Q: 类似于双引号(\")，不需要特殊处理字符串中\"\n",
    "* %q: 类似于单引号(')，不需要特殊处理字符串中'\n",
    "* 你可以使用任何典型的分割字符，例如`%Q{...}`, `%Q(...)`, `%Q|...|`, `%Q?...?`, `%Q-....-`, `%Q/.../`, etc."
   ]
  },
  {
   "cell_type": "code",
   "execution_count": 5,
   "metadata": {},
   "outputs": [
    {
     "name": "stdout",
     "output_type": "stream",
     "text": [
      "Do \"interpolation\" and \t escaping\n",
      "Don't do \"#{interpolation}\" and \\t escaping\n"
     ]
    }
   ],
   "source": [
    "interpolation = \"interpolation\"\n",
    "puts %Q{Do \"#{interpolation}\" and \\t escaping}\n",
    "puts %q|Don't do \"#{interpolation}\" and \\t escaping|"
   ]
  },
  {
   "cell_type": "markdown",
   "metadata": {},
   "source": [
    "## 多行字符串"
   ]
  },
  {
   "cell_type": "markdown",
   "metadata": {},
   "source": [
    "#### `\"`和`'`支持直接换行"
   ]
  },
  {
   "cell_type": "code",
   "execution_count": 6,
   "metadata": {},
   "outputs": [
    {
     "data": {
      "text/plain": [
       "\"Hello\\tJames\\nHello\\tJames\\nHello\\tJames\""
      ]
     },
     "execution_count": 6,
     "metadata": {},
     "output_type": "execute_result"
    }
   ],
   "source": [
    "\"Hello\\t#{name}\n",
    "Hello\\t#{name}\n",
    "Hello\\t#{name}\""
   ]
  },
  {
   "cell_type": "code",
   "execution_count": 7,
   "metadata": {},
   "outputs": [
    {
     "data": {
      "text/plain": [
       "\"Hello\\\\t\\#{name}\\nHello\\\\t\\#{name}\\nHello\\\\t\\#{name}\""
      ]
     },
     "execution_count": 7,
     "metadata": {},
     "output_type": "execute_result"
    }
   ],
   "source": [
    "'Hello\\t#{name}\n",
    "Hello\\t#{name}\n",
    "Hello\\t#{name}'"
   ]
  },
  {
   "cell_type": "markdown",
   "metadata": {},
   "source": [
    "#### Ruby 也可以用一对 `\"\"\"` 或者 `'''` 来生成多行字符串："
   ]
  },
  {
   "cell_type": "code",
   "execution_count": 8,
   "metadata": {},
   "outputs": [
    {
     "name": "stdout",
     "output_type": "stream",
     "text": [
      "hello world.\n",
      "it is a nice day."
     ]
    }
   ],
   "source": [
    "s = \"\"\"hello world.\n",
    "it is a nice day.\"\"\"\n",
    "print s"
   ]
  },
  {
   "cell_type": "markdown",
   "metadata": {},
   "source": [
    "在储存时，我们在两行字符间加上一个换行符 `'\\n'`"
   ]
  },
  {
   "cell_type": "code",
   "execution_count": 9,
   "metadata": {},
   "outputs": [
    {
     "data": {
      "text/plain": [
       "\"hello world.\\nit is a nice day.\""
      ]
     },
     "execution_count": 9,
     "metadata": {},
     "output_type": "execute_result"
    }
   ],
   "source": [
    "s"
   ]
  },
  {
   "cell_type": "code",
   "execution_count": 10,
   "metadata": {},
   "outputs": [
    {
     "data": {
      "text/plain": [
       "\"\\nHello\\\\t\\#{name}\\nHello\\\\t\\#{name}\\nHello\\\\t\\#{name}\\n\""
      ]
     },
     "execution_count": 10,
     "metadata": {},
     "output_type": "execute_result"
    }
   ],
   "source": [
    "'''\n",
    "Hello\\t#{name}\n",
    "Hello\\t#{name}\n",
    "Hello\\t#{name}\n",
    "'''"
   ]
  },
  {
   "cell_type": "markdown",
   "metadata": {
    "collapsed": true
   },
   "source": [
    "#### 使用  `\\` 来换行"
   ]
  },
  {
   "cell_type": "markdown",
   "metadata": {},
   "source": [
    "当代码太长或者为了美观起见时，我们可以使用 `\\` 来将一行代码转为多行代码(不追加换行符 `\\n` )："
   ]
  },
  {
   "cell_type": "code",
   "execution_count": 11,
   "metadata": {},
   "outputs": [
    {
     "data": {
      "text/plain": [
       "\"hello, world. it's a nice day. my name is xxx\""
      ]
     },
     "execution_count": 11,
     "metadata": {},
     "output_type": "execute_result"
    }
   ],
   "source": [
    "a = \"hello, world. \" \\\n",
    "    \"it's a nice day. \" \\\n",
    "    \"my name is xxx\"\n",
    "a"
   ]
  },
  {
   "cell_type": "markdown",
   "metadata": {},
   "source": [
    "### Here Docs"
   ]
  },
  {
   "cell_type": "code",
   "execution_count": 12,
   "metadata": {},
   "outputs": [
    {
     "name": "stdout",
     "output_type": "stream",
     "text": [
      "Hello\tJames\n",
      "Hello\tJames\n",
      "Hello\tJames\n",
      "\n"
     ]
    }
   ],
   "source": [
    "s = <<-END\n",
    "Hello\\t#{name}\n",
    "Hello\\t#{name}\n",
    "Hello\\t#{name}\n",
    "END\n",
    "puts s"
   ]
  },
  {
   "cell_type": "code",
   "execution_count": 13,
   "metadata": {},
   "outputs": [
    {
     "name": "stdout",
     "output_type": "stream",
     "text": [
      "<?xml version=\"1.0\" encoding=\"utf-8\"?>\n",
      "<feed xmlns=\"http://www.w3.org/2005/Atom\">\n",
      "  <author>\n",
      "    <name>James Zhan</name>\n",
      "  </author>\n",
      "</feed>\n",
      "\n"
     ]
    }
   ],
   "source": [
    "xml = <<-XML\n",
    "<?xml version=\"1.0\" encoding=\"utf-8\"?>\n",
    "<feed xmlns=\"http://www.w3.org/2005/Atom\">\n",
    "  <author>\n",
    "    <name>James Zhan</name>\n",
    "  </author>\n",
    "</feed>\n",
    "XML\n",
    "puts xml"
   ]
  },
  {
   "cell_type": "code",
   "execution_count": 14,
   "metadata": {},
   "outputs": [
    {
     "name": "stdout",
     "output_type": "stream",
     "text": [
      "SELECT * FROM blogs \n",
      "WHERE id = 10086\n",
      "\n",
      "(0...10).each do|i|\n",
      "  puts \"%d: Hello World!\" % i\n",
      "end\n",
      "\n",
      "<main>\n",
      "6\n"
     ]
    }
   ],
   "source": [
    "puts <<-SQL\n",
    "SELECT * FROM blogs \n",
    "WHERE id = 10086\n",
    "SQL\n",
    "\n",
    "puts(<<-RUBY, __FILE__, __LINE__ + 1)\n",
    "(0...10).each do|i|\n",
    "  puts \"%d: Hello World!\" % i\n",
    "end\n",
    "RUBY"
   ]
  },
  {
   "cell_type": "code",
   "execution_count": 15,
   "metadata": {},
   "outputs": [
    {
     "name": "stdout",
     "output_type": "stream",
     "text": [
      "Hello World\n",
      "\n",
      "Hello World\n",
      "\n",
      "Hello World\n",
      "\n",
      "64\n"
     ]
    }
   ],
   "source": [
    "def repeat(content, times)\n",
    "  times.downto(1).each do\n",
    "    puts content\n",
    "  end\n",
    "end\n",
    "\n",
    "repeat(<<-CONTENT, 3)\n",
    "Hello World\n",
    "CONTENT\n",
    "\n",
    "puts <<-NUM.to_i ** 6\n",
    "2\n",
    "NUM"
   ]
  },
  {
   "cell_type": "markdown",
   "metadata": {},
   "source": [
    "## 简单操作"
   ]
  },
  {
   "cell_type": "markdown",
   "metadata": {},
   "source": [
    "加法："
   ]
  },
  {
   "cell_type": "code",
   "execution_count": 16,
   "metadata": {},
   "outputs": [
    {
     "data": {
      "text/plain": [
       "\"Hello World\""
      ]
     },
     "execution_count": 16,
     "metadata": {},
     "output_type": "execute_result"
    }
   ],
   "source": [
    "s = 'Hello ' + 'World'\n",
    "s"
   ]
  },
  {
   "cell_type": "markdown",
   "metadata": {},
   "source": [
    "字符串与数字相乘："
   ]
  },
  {
   "cell_type": "code",
   "execution_count": 17,
   "metadata": {},
   "outputs": [
    {
     "data": {
      "text/plain": [
       "\"echoechoecho\""
      ]
     },
     "execution_count": 17,
     "metadata": {},
     "output_type": "execute_result"
    }
   ],
   "source": [
    "\"echo\" * 3"
   ]
  },
  {
   "cell_type": "markdown",
   "metadata": {},
   "source": [
    "字符串长度："
   ]
  },
  {
   "cell_type": "code",
   "execution_count": 18,
   "metadata": {},
   "outputs": [
    {
     "name": "stdout",
     "output_type": "stream",
     "text": [
      "11\n",
      "11\n"
     ]
    }
   ],
   "source": [
    "puts s.length\n",
    "puts s.size"
   ]
  },
  {
   "cell_type": "markdown",
   "metadata": {},
   "source": [
    "## 字符串方法"
   ]
  },
  {
   "cell_type": "markdown",
   "metadata": {},
   "source": [
    "**Ruby**是一种面向对象的语言，面向对象的语言中一个必不可少的元素就是方法，而字符串是对象的一种，所以有很多可用的方法。\n",
    "\n",
    "跟很多语言一样，**Ruby**使用以下形式来调用方法(括号可选)：\n",
    "\n",
    "> `对象.方法(参数)` "
   ]
  },
  {
   "cell_type": "markdown",
   "metadata": {},
   "source": [
    "### 分割"
   ]
  },
  {
   "cell_type": "markdown",
   "metadata": {},
   "source": [
    "s.split()将s按照空格（包括多个空格，制表符`\\t`，换行符`\\n`等）分割，并返回所有分割得到的字符串。"
   ]
  },
  {
   "cell_type": "code",
   "execution_count": 19,
   "metadata": {},
   "outputs": [
    {
     "name": "stdout",
     "output_type": "stream",
     "text": [
      "[\"1\", \"2\", \"3\", \"4\", \"5\"]"
     ]
    }
   ],
   "source": [
    "line = \"1 2 3 4  5\"\n",
    "numbers = line.split()\n",
    "print numbers"
   ]
  },
  {
   "cell_type": "markdown",
   "metadata": {},
   "source": [
    "`s.split(pattern, [limit])`以给定的pattern为分隔符对s进行分割。"
   ]
  },
  {
   "cell_type": "code",
   "execution_count": 20,
   "metadata": {},
   "outputs": [
    {
     "name": "stdout",
     "output_type": "stream",
     "text": [
      "[\"1\", \"2\", \"3\", \"4\", \"5\"]"
     ]
    }
   ],
   "source": [
    "line = \"1,2,3,4,5\"\n",
    "numbers = line.split(',')\n",
    "print numbers"
   ]
  },
  {
   "cell_type": "code",
   "execution_count": 21,
   "metadata": {
    "scrolled": true
   },
   "outputs": [
    {
     "name": "stdout",
     "output_type": "stream",
     "text": [
      "[\"1\", \"2\", \"3, 4, 5\"]\n"
     ]
    }
   ],
   "source": [
    "puts '1, 2, ,3, 4, 5'.split(/[,\\s]*/, 3)"
   ]
  },
  {
   "cell_type": "markdown",
   "metadata": {},
   "source": [
    "### 连接"
   ]
  },
  {
   "cell_type": "markdown",
   "metadata": {},
   "source": [
    "与分割相反，`str_sequence.join(s)` 的作用是以s为连接符将字符串序列 `str_sequence` 中的元素连接起来，并返回连接后得到的新字符串："
   ]
  },
  {
   "cell_type": "code",
   "execution_count": 22,
   "metadata": {},
   "outputs": [
    {
     "data": {
      "text/plain": [
       "\"1 2 3 4 5\""
      ]
     },
     "execution_count": 22,
     "metadata": {},
     "output_type": "execute_result"
    }
   ],
   "source": [
    "s = ' '\n",
    "numbers.join(s)"
   ]
  },
  {
   "cell_type": "code",
   "execution_count": 23,
   "metadata": {},
   "outputs": [
    {
     "data": {
      "text/plain": [
       "\"1,2,3,4,5\""
      ]
     },
     "execution_count": 23,
     "metadata": {},
     "output_type": "execute_result"
    }
   ],
   "source": [
    "s = ','\n",
    "numbers.join(s)"
   ]
  },
  {
   "cell_type": "markdown",
   "metadata": {},
   "source": [
    "### 替换"
   ]
  },
  {
   "cell_type": "markdown",
   "metadata": {},
   "source": [
    "`s.gsub(pattern, replacement)` 将字符串s中匹配pattern的部分替换成想要的部分replacement，并返回新的字符串。"
   ]
  },
  {
   "cell_type": "code",
   "execution_count": 24,
   "metadata": {},
   "outputs": [
    {
     "data": {
      "text/plain": [
       "\"Hello World\""
      ]
     },
     "execution_count": 24,
     "metadata": {},
     "output_type": "execute_result"
    }
   ],
   "source": [
    "s = \"Hello World\"\n",
    "s.gsub('world', 'ruby')"
   ]
  },
  {
   "cell_type": "markdown",
   "metadata": {},
   "source": [
    "正则表达式分组替换"
   ]
  },
  {
   "cell_type": "code",
   "execution_count": 25,
   "metadata": {},
   "outputs": [
    {
     "name": "stdout",
     "output_type": "stream",
     "text": [
      "H<e>ll<o> W<o>rld\n",
      "H{e}ll{o} W{o}rld\n"
     ]
    }
   ],
   "source": [
    "puts s.gsub(/([aeiou])/i, '<\\1>')\n",
    "puts s.gsub(/(?<foo>[aeiou])/, '{\\k<foo>}')"
   ]
  },
  {
   "cell_type": "markdown",
   "metadata": {},
   "source": [
    "`s.gsub(pattern, hash)` 将字符串s中匹配pattern的部分按照hash的规则替换，并返回新的字符串"
   ]
  },
  {
   "cell_type": "code",
   "execution_count": 26,
   "metadata": {},
   "outputs": [
    {
     "name": "stdout",
     "output_type": "stream",
     "text": [
      "H<e>ll{*} W{*}rld\n"
     ]
    }
   ],
   "source": [
    "puts s.gsub(/[eo]/, 'e' => '<e>', 'o' => '{*}')"
   ]
  },
  {
   "cell_type": "markdown",
   "metadata": {},
   "source": [
    "此时，s的值并没有变化，替换方法只是生成了一个新的字符串。"
   ]
  },
  {
   "cell_type": "code",
   "execution_count": 27,
   "metadata": {},
   "outputs": [
    {
     "data": {
      "text/plain": [
       "\"Hello World\""
      ]
     },
     "execution_count": 27,
     "metadata": {},
     "output_type": "execute_result"
    }
   ],
   "source": [
    "s"
   ]
  },
  {
   "cell_type": "markdown",
   "metadata": {},
   "source": [
    "### 大小写转换"
   ]
  },
  {
   "cell_type": "markdown",
   "metadata": {},
   "source": [
    "s.upcase()方法返回一个将s中的字母全部大写的新字符串。\n",
    "\n",
    "s.downcase()方法返回一个将s中的字母全部小写的新字符串。\n",
    "\n",
    "这两种方法也不会改变原来s的值："
   ]
  },
  {
   "cell_type": "code",
   "execution_count": 28,
   "metadata": {},
   "outputs": [
    {
     "name": "stdout",
     "output_type": "stream",
     "text": [
      "HELLO WORLD\n",
      "hello world\n"
     ]
    },
    {
     "data": {
      "text/plain": [
       "\"Hello World\""
      ]
     },
     "execution_count": 28,
     "metadata": {},
     "output_type": "execute_result"
    }
   ],
   "source": [
    "s = \"Hello World\"\n",
    "puts s.upcase()\n",
    "puts s.downcase()\n",
    "\n",
    "s"
   ]
  },
  {
   "cell_type": "markdown",
   "metadata": {},
   "source": [
    "### 去除多余空格"
   ]
  },
  {
   "cell_type": "markdown",
   "metadata": {},
   "source": [
    "s.strip()返回一个将s两端的多余空格除去的新字符串。\n",
    "\n",
    "s.lstrip()返回一个将s开头的多余空格除去的新字符串。\n",
    "\n",
    "s.rstrip()返回一个将s结尾的多余空格除去的新字符串。"
   ]
  },
  {
   "cell_type": "code",
   "execution_count": 29,
   "metadata": {},
   "outputs": [
    {
     "data": {
      "text/plain": [
       "\"hello world\""
      ]
     },
     "execution_count": 29,
     "metadata": {},
     "output_type": "execute_result"
    }
   ],
   "source": [
    "s = \"  hello world   \"\n",
    "s.strip()"
   ]
  },
  {
   "cell_type": "markdown",
   "metadata": {},
   "source": [
    "s的值依然不会变化："
   ]
  },
  {
   "cell_type": "code",
   "execution_count": 30,
   "metadata": {},
   "outputs": [
    {
     "data": {
      "text/plain": [
       "\"  hello world   \""
      ]
     },
     "execution_count": 30,
     "metadata": {},
     "output_type": "execute_result"
    }
   ],
   "source": [
    "s"
   ]
  },
  {
   "cell_type": "code",
   "execution_count": 31,
   "metadata": {},
   "outputs": [
    {
     "data": {
      "text/plain": [
       "\"hello world   \""
      ]
     },
     "execution_count": 31,
     "metadata": {},
     "output_type": "execute_result"
    }
   ],
   "source": [
    "s.lstrip()"
   ]
  },
  {
   "cell_type": "code",
   "execution_count": 32,
   "metadata": {},
   "outputs": [
    {
     "data": {
      "text/plain": [
       "\"  hello world\""
      ]
     },
     "execution_count": 32,
     "metadata": {},
     "output_type": "execute_result"
    }
   ],
   "source": [
    "s.rstrip()"
   ]
  },
  {
   "cell_type": "markdown",
   "metadata": {},
   "source": [
    "### 去除换行符\n",
    "\n",
    "`s.chomp(separator=$/)` 一般用户去除字符串末尾出现的换行符"
   ]
  },
  {
   "cell_type": "code",
   "execution_count": 33,
   "metadata": {},
   "outputs": [
    {
     "name": "stdout",
     "output_type": "stream",
     "text": [
      "hello\n",
      "hello\n",
      "hello\n",
      "hello\n",
      "\n",
      "hello\n",
      "hello \n",
      " there\n",
      "he\n",
      "hello\n",
      "hello\n",
      "\n"
     ]
    }
   ],
   "source": [
    "puts \"hello\".chomp                #=> \"hello\"\n",
    "puts \"hello\\n\".chomp              #=> \"hello\"\n",
    "puts \"hello\\r\\n\".chomp            #=> \"hello\"\n",
    "puts \"hello\\n\\r\".chomp            #=> \"hello\\n\"\n",
    "puts \"hello\\r\".chomp              #=> \"hello\"\n",
    "puts \"hello \\n there\".chomp       #=> \"hello \\n there\"\n",
    "puts \"hello\".chomp(\"llo\")         #=> \"he\"\n",
    "puts \"hello\\r\\n\\r\\n\".chomp('')    #=> \"hello\"\n",
    "puts \"hello\\r\\n\\r\\r\\n\".chomp('')  #=> \"hello\\r\\n\\r\""
   ]
  },
  {
   "cell_type": "markdown",
   "metadata": {},
   "source": [
    "### 首字母大写\n",
    "\n",
    "仅首字母大写，其他字母全小写"
   ]
  },
  {
   "cell_type": "code",
   "execution_count": 34,
   "metadata": {},
   "outputs": [
    {
     "name": "stdout",
     "output_type": "stream",
     "text": [
      "Hello\n",
      "Hello\n"
     ]
    }
   ],
   "source": [
    "puts \"HELLO\".capitalize\n",
    "puts \"hello\".capitalize"
   ]
  },
  {
   "cell_type": "markdown",
   "metadata": {},
   "source": [
    "### 字符串翻转"
   ]
  },
  {
   "cell_type": "code",
   "execution_count": 35,
   "metadata": {},
   "outputs": [
    {
     "name": "stdout",
     "output_type": "stream",
     "text": [
      "dlorW olleH\n"
     ]
    }
   ],
   "source": [
    "puts \"Hello Wrold\".reverse"
   ]
  },
  {
   "cell_type": "markdown",
   "metadata": {},
   "source": [
    "### 字符填充\n",
    "\n",
    "`s.center(width, padstr=' ')` 用于把字符串s居中填充到指定长度"
   ]
  },
  {
   "cell_type": "code",
   "execution_count": 36,
   "metadata": {},
   "outputs": [
    {
     "name": "stdout",
     "output_type": "stream",
     "text": [
      "hello\n",
      "            hello             \n",
      "@@@@@@@@@@@@hello@@@@@@@@@@@@@\n"
     ]
    }
   ],
   "source": [
    "puts \"hello\".center(3)\n",
    "puts \"hello\".center(30)\n",
    "puts \"hello\".center(30, '@')"
   ]
  },
  {
   "cell_type": "markdown",
   "metadata": {},
   "source": [
    "## 更多方法"
   ]
  },
  {
   "cell_type": "markdown",
   "metadata": {},
   "source": [
    "可以使用 `s.methods(true)` 函数查看所有可以使用的方法："
   ]
  },
  {
   "cell_type": "code",
   "execution_count": 37,
   "metadata": {},
   "outputs": [
    {
     "data": {
      "text/plain": [
       "[:!, :!=, :!~, :%, :*, :+, :+@, :-@, :<, :<<, :<=, :<=>, :==, :===, :=~, :>, :>=, :[], :[]=, :__id__, :__send__, :ascii_only?, :b, :between?, :bytes, :bytesize, :byteslice, :capitalize, :capitalize!, :casecmp, :casecmp?, :center, :chars, :chomp, :chomp!, :chop, :chop!, :chr, :clamp, :class, :clear, :clone, :codepoints, :concat, :count, :crypt, :define_singleton_method, :delete, :delete!, :display, :downcase, :downcase!, :dump, :dup, :each_byte, :each_char, :each_codepoint, :each_line, :empty?, :encode, :encode!, :encoding, :end_with?, :enum_for, :eql?, :equal?, :extend, :force_encoding, :freeze, :frozen?, :gem, :getbyte, :gsub, :gsub!, :hash, :hex, :include?, :index, :insert, :inspect, :instance_eval, :instance_exec, :instance_of?, :instance_variable_defined?, :instance_variable_get, :instance_variable_set, :instance_variables, :intern, :is_a?, :itself, :kind_of?, :length, :lines, :ljust, :lsmagic, :lstrip, :lstrip!, :match, :match?, :method, :methods, :next, :next!, :nil?, :object_id, :oct, :ord, :partition, :prepend, :private_methods, :protected_methods, :public_method, :public_methods, :public_send, :remove_instance_variable, :replace, :respond_to?, :reverse, :reverse!, :rindex, :rjust, :rpartition, :rstrip, :rstrip!, :scan, :scrub, :scrub!, :send, :setbyte, :shellescape, :shellsplit, :singleton_class, :singleton_method, :singleton_methods, :size, :slice, :slice!, :split, :squeeze, :squeeze!, :start_with?, :strip, :strip!, :sub, :sub!, :succ, :succ!, :sum, :swapcase, :swapcase!, :taint, :tainted?, :tap, :to_c, :to_enum, :to_f, :to_i, :to_json, :to_json_raw, :to_json_raw_object, :to_r, :to_s, :to_str, :to_sym, :tr, :tr!, :tr_s, :tr_s!, :trust, :unicode_normalize, :unicode_normalize!, :unicode_normalized?, :unpack, :unpack1, :untaint, :untrust, :untrusted?, :upcase, :upcase!, :upto, :valid_encoding?]"
      ]
     },
     "execution_count": 37,
     "metadata": {},
     "output_type": "execute_result"
    }
   ],
   "source": [
    "s = \"Hello World\"\n",
    "s.methods().sort"
   ]
  },
  {
   "cell_type": "markdown",
   "metadata": {},
   "source": [
    "> 有别于其他语言，ruby的字符串是可变的，按照惯例，所有带`!`后缀的方法都是直接在原字符串上操作\n",
    "\n",
    "| 返回新串 | 原地修改  | 说明 |\n",
    "| :------ | :-------| :---- |\n",
    "| sub | sub! | 按照模式替换，仅替换第一次出现的 |\n",
    "| gsub | gsub! | 按照模式替换 |\n",
    "| lstrip | lstrip! | 将字符串开头的多余空格除去 |\n",
    "| rstrip | rstrip! | 将字符串结尾的多余空格除去 |\n",
    "| strip | strip! | 将字符串两端的多余空格除去 |\n",
    "| chomp | chomp! | 将字符串末尾的换行分隔符去除 |\n",
    "| tr | tr! | 替换，比gsub高效 |\n",
    "| upcase | upcase! | 转换为大写 |\n",
    "| downcase | downcase! | 转换为小写 |\n",
    "| capitalize | capitalize! | 首字母大写 |\n",
    "| squeeze | squeeze! | 字符串中多个重复指定字符保留一个 |\n",
    "| encode | encode! | 编码转换 |"
   ]
  },
  {
   "cell_type": "markdown",
   "metadata": {},
   "source": [
    "### 字符串操作"
   ]
  },
  {
   "cell_type": "code",
   "execution_count": 38,
   "metadata": {},
   "outputs": [
    {
     "data": {
      "text/plain": [
       "\"0123456789\""
      ]
     },
     "execution_count": 38,
     "metadata": {},
     "output_type": "execute_result"
    }
   ],
   "source": [
    "s = \"\"\n",
    "(0...10).each{|i| s << i.to_s}\n",
    "s"
   ]
  },
  {
   "cell_type": "code",
   "execution_count": 39,
   "metadata": {},
   "outputs": [
    {
     "name": "stdout",
     "output_type": "stream",
     "text": [
      "1\n",
      "3\n",
      "9\n",
      "123\n",
      "123\n"
     ]
    }
   ],
   "source": [
    "puts s[1]\n",
    "puts s[3]\n",
    "puts s[-1]\n",
    "puts s[1..3]\n",
    "puts s[1, 3]"
   ]
  },
  {
   "cell_type": "code",
   "execution_count": 40,
   "metadata": {},
   "outputs": [
    {
     "data": {
      "text/plain": [
       "\"ab12345678xyz\""
      ]
     },
     "execution_count": 40,
     "metadata": {},
     "output_type": "execute_result"
    }
   ],
   "source": [
    "s = \"0123456789\"\n",
    "s[0] = 'ab'\n",
    "s[-1] = 'xyz'\n",
    "s"
   ]
  },
  {
   "cell_type": "code",
   "execution_count": 41,
   "metadata": {},
   "outputs": [
    {
     "name": "stdout",
     "output_type": "stream",
     "text": [
      "reb\n",
      "Rub\n"
     ]
    }
   ],
   "source": [
    "s = 'Ruby Notes rebuild'\n",
    "puts s[/r../]\n",
    "puts s[/r../i]"
   ]
  },
  {
   "cell_type": "code",
   "execution_count": 42,
   "metadata": {},
   "outputs": [
    {
     "data": {
      "text/plain": [
       "\"Ruby note rebuild\""
      ]
     },
     "execution_count": 42,
     "metadata": {},
     "output_type": "execute_result"
    }
   ],
   "source": [
    "s = 'Ruby Notes rebuild'\n",
    "s['Notes'] = \"note\"\n",
    "s"
   ]
  },
  {
   "cell_type": "markdown",
   "metadata": {},
   "source": [
    "## 强制转换为字符串"
   ]
  },
  {
   "cell_type": "markdown",
   "metadata": {},
   "source": [
    "* `obj.to_s` 强制将 `obj` 转化成字符串。 \n",
    "* `obj.inspect`也是强制将 `obj` 转化成字符串。"
   ]
  },
  {
   "cell_type": "code",
   "execution_count": 43,
   "metadata": {},
   "outputs": [
    {
     "data": {
      "text/plain": [
       "\"3.3000000000000003\""
      ]
     },
     "execution_count": 43,
     "metadata": {},
     "output_type": "execute_result"
    }
   ],
   "source": [
    "(1.1 + 2.2).to_s"
   ]
  },
  {
   "cell_type": "code",
   "execution_count": 44,
   "metadata": {},
   "outputs": [
    {
     "data": {
      "text/plain": [
       "\"3.3000000000000003\""
      ]
     },
     "execution_count": 44,
     "metadata": {},
     "output_type": "execute_result"
    }
   ],
   "source": [
    "(1.1 + 2.2).inspect"
   ]
  },
  {
   "cell_type": "markdown",
   "metadata": {},
   "source": [
    "## 整数与不同进制的字符串的转化"
   ]
  },
  {
   "cell_type": "markdown",
   "metadata": {},
   "source": [
    "可以将整数按照不同进制转化为不同类型的字符串。\n",
    "\n",
    "十六进制："
   ]
  },
  {
   "cell_type": "code",
   "execution_count": 45,
   "metadata": {},
   "outputs": [
    {
     "data": {
      "text/plain": [
       "\"ff\""
      ]
     },
     "execution_count": 45,
     "metadata": {},
     "output_type": "execute_result"
    }
   ],
   "source": [
    "255.to_s(16)"
   ]
  },
  {
   "cell_type": "markdown",
   "metadata": {},
   "source": [
    "八进制："
   ]
  },
  {
   "cell_type": "code",
   "execution_count": 46,
   "metadata": {
    "scrolled": true
   },
   "outputs": [
    {
     "data": {
      "text/plain": [
       "\"377\""
      ]
     },
     "execution_count": 46,
     "metadata": {},
     "output_type": "execute_result"
    }
   ],
   "source": [
    "255.to_s(8)"
   ]
  },
  {
   "cell_type": "markdown",
   "metadata": {},
   "source": [
    "二进制："
   ]
  },
  {
   "cell_type": "code",
   "execution_count": 47,
   "metadata": {},
   "outputs": [
    {
     "data": {
      "text/plain": [
       "\"11111111\""
      ]
     },
     "execution_count": 47,
     "metadata": {},
     "output_type": "execute_result"
    }
   ],
   "source": [
    "255.to_s(2)"
   ]
  },
  {
   "cell_type": "markdown",
   "metadata": {},
   "source": [
    "可以使用 `to_i` 将字符串转为整数："
   ]
  },
  {
   "cell_type": "code",
   "execution_count": 48,
   "metadata": {},
   "outputs": [
    {
     "data": {
      "text/plain": [
       "255"
      ]
     },
     "execution_count": 48,
     "metadata": {},
     "output_type": "execute_result"
    }
   ],
   "source": [
    "'255'.to_i"
   ]
  },
  {
   "cell_type": "markdown",
   "metadata": {},
   "source": [
    "还可以指定按照多少进制来进行转换，最后返回十进制表达的整数："
   ]
  },
  {
   "cell_type": "code",
   "execution_count": 49,
   "metadata": {},
   "outputs": [
    {
     "data": {
      "text/plain": [
       "255"
      ]
     },
     "execution_count": 49,
     "metadata": {},
     "output_type": "execute_result"
    }
   ],
   "source": [
    "'FF'.to_i(16)"
   ]
  },
  {
   "cell_type": "code",
   "execution_count": 50,
   "metadata": {},
   "outputs": [
    {
     "data": {
      "text/plain": [
       "255"
      ]
     },
     "execution_count": 50,
     "metadata": {},
     "output_type": "execute_result"
    }
   ],
   "source": [
    "'377'.to_i(8)"
   ]
  },
  {
   "cell_type": "code",
   "execution_count": 51,
   "metadata": {},
   "outputs": [
    {
     "data": {
      "text/plain": [
       "255"
      ]
     },
     "execution_count": 51,
     "metadata": {},
     "output_type": "execute_result"
    }
   ],
   "source": [
    "'11111111'.to_i(2)"
   ]
  },
  {
   "cell_type": "markdown",
   "metadata": {},
   "source": [
    "`float` 可以将字符串转换为浮点数："
   ]
  },
  {
   "cell_type": "code",
   "execution_count": 52,
   "metadata": {
    "scrolled": true
   },
   "outputs": [
    {
     "data": {
      "text/plain": [
       "3.5"
      ]
     },
     "execution_count": 52,
     "metadata": {},
     "output_type": "execute_result"
    }
   ],
   "source": [
    "'3.5'.to_f"
   ]
  },
  {
   "cell_type": "markdown",
   "metadata": {},
   "source": [
    "## 格式化字符串\n",
    "\n",
    "**Ruby**用字符串的`%`方法来格式化字符串。\n",
    "\n",
    "具体用法如下，字符串中花括号 `%` 的部分会被 `%` 传入的参数替代，传入的值可以是 `Array`，`Hash`，单个替换可以是字符串，数字或者别的对象。"
   ]
  },
  {
   "cell_type": "code",
   "execution_count": 53,
   "metadata": {},
   "outputs": [
    {
     "data": {
      "text/plain": [
       "\"a b c\""
      ]
     },
     "execution_count": 53,
     "metadata": {},
     "output_type": "execute_result"
    }
   ],
   "source": [
    "'%s %s %s' % ['a', 'b', 'c']"
   ]
  },
  {
   "cell_type": "markdown",
   "metadata": {},
   "source": [
    "还可以指定传入参数的名称："
   ]
  },
  {
   "cell_type": "code",
   "execution_count": 54,
   "metadata": {},
   "outputs": [
    {
     "data": {
      "text/plain": [
       "\"c b a\""
      ]
     },
     "execution_count": 54,
     "metadata": {},
     "output_type": "execute_result"
    }
   ],
   "source": [
    "'%{c} %{b} %{a}' % {a: 'a', b: 'b', c: 'c'}"
   ]
  },
  {
   "cell_type": "code",
   "execution_count": 55,
   "metadata": {},
   "outputs": [
    {
     "data": {
      "text/plain": [
       "\"blue 10 1.5\""
      ]
     },
     "execution_count": 55,
     "metadata": {},
     "output_type": "execute_result"
    }
   ],
   "source": [
    "'%{color} %{n} %{x}' % {n: 10, x: 1.5, color: 'blue'}"
   ]
  },
  {
   "cell_type": "markdown",
   "metadata": {},
   "source": [
    "可以用`{<field name>:<format>}`指定格式："
   ]
  },
  {
   "cell_type": "code",
   "execution_count": 56,
   "metadata": {},
   "outputs": [
    {
     "data": {
      "text/plain": [
       "\"foo        0000000005 6.2831853071795862319959269370883703231811523437500000\""
      ]
     },
     "execution_count": 56,
     "metadata": {},
     "output_type": "execute_result"
    }
   ],
   "source": [
    "'%-10s %010d %2.52f' % ['foo', 5, 2 * Math::PI]"
   ]
  }
 ],
 "metadata": {
  "kernelspec": {
   "display_name": "Ruby 2.4.1",
   "language": "ruby",
   "name": "ruby"
  },
  "language_info": {
   "file_extension": ".rb",
   "mimetype": "application/x-ruby",
   "name": "ruby",
   "version": "2.4.1"
  }
 },
 "nbformat": 4,
 "nbformat_minor": 1
}
