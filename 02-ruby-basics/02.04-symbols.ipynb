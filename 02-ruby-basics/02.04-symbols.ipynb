{
 "cells": [
  {
   "cell_type": "markdown",
   "metadata": {},
   "source": [
    "# 符号"
   ]
  },
  {
   "cell_type": "markdown",
   "metadata": {
    "collapsed": true
   },
   "source": [
    "## `Symbol` 和 `String`\n",
    "\n",
    "`Symbol` 对象和 `String` 对象在 **Ruby** 内部的表示完全不同。`Symbol` 本质上是一个数字，这个数字和创建 `Symbol` 的名字形成一对一的映射。这个数字对应的名字在在 **符号表** 里。\n",
    "\n",
    "**符号表** 是一个全局数据结构，它存放了所有 `Symbol` 的（数字ID，名字）对， **Ruby** 不会从中删除 `Symbol` ，因此当你创建一个 `Symbol` 对象后，它将一直存在，直到程序结束。"
   ]
  },
  {
   "cell_type": "code",
   "execution_count": 29,
   "metadata": {},
   "outputs": [
    {
     "name": "stdout",
     "output_type": "stream",
     "text": [
      "70281609079360\n",
      "70281609079360\n",
      "70281609079340\n"
     ]
    },
    {
     "data": {
      "text/plain": [
       "70281609079340"
      ]
     },
     "execution_count": 29,
     "metadata": {},
     "output_type": "execute_result"
    }
   ],
   "source": [
    "str1 = str2 = \"hello\"\n",
    "str3 = 'hello'\n",
    "\n",
    "p str1.object_id\n",
    "p str2.object_id\n",
    "p str3.object_id"
   ]
  },
  {
   "cell_type": "code",
   "execution_count": 19,
   "metadata": {},
   "outputs": [
    {
     "name": "stdout",
     "output_type": "stream",
     "text": [
      "3300828\n",
      "3300828\n",
      "3300828\n"
     ]
    }
   ],
   "source": [
    "sym1 = :hello\n",
    "sym2 = :hello\n",
    "\n",
    "puts sym1.object_id\n",
    "puts sym2.object_id"
   ]
  },
  {
   "cell_type": "markdown",
   "metadata": {},
   "source": [
    "`Symbol` 内容是不可变的，`String` 内容是可以更改的。"
   ]
  },
  {
   "cell_type": "code",
   "execution_count": 33,
   "metadata": {},
   "outputs": [
    {
     "name": "stdout",
     "output_type": "stream",
     "text": [
      "strng.object_id = 70281604315880\n",
      "strng.object_id = 70281604315880\n",
      "strng.object_id = 70281604315880\n",
      "strng.object_id = 70281604315880\n"
     ]
    },
    {
     "data": {
      "text/plain": [
       "\"hello\""
      ]
     },
     "execution_count": 33,
     "metadata": {},
     "output_type": "execute_result"
    }
   ],
   "source": [
    "strng = \"hello\"\n",
    "puts \"strng.object_id = #{strng.object_id}\"\n",
    "strng << 'e'\n",
    "puts \"strng.object_id = #{strng.object_id}\"\n",
    "strng.replace(\"hel\")\n",
    "puts \"strng.object_id = #{strng.object_id}\"\n",
    "strng[-1] = 'llo'\n",
    "puts \"strng.object_id = #{strng.object_id}\"\n",
    "strng"
   ]
  },
  {
   "cell_type": "markdown",
   "metadata": {},
   "source": [
    "#### 转换"
   ]
  },
  {
   "cell_type": "code",
   "execution_count": 22,
   "metadata": {},
   "outputs": [
    {
     "name": "stdout",
     "output_type": "stream",
     "text": [
      ":hello\n",
      ":hello\n",
      ":hello\n"
     ]
    },
    {
     "data": {
      "text/plain": [
       ":hello"
      ]
     },
     "execution_count": 22,
     "metadata": {},
     "output_type": "execute_result"
    }
   ],
   "source": [
    "p str1.intern\n",
    "p str2.to_sym\n",
    "p str3.intern"
   ]
  },
  {
   "cell_type": "code",
   "execution_count": 30,
   "metadata": {},
   "outputs": [
    {
     "name": "stdout",
     "output_type": "stream",
     "text": [
      "\"hello\"\n",
      "\"hello\"\n"
     ]
    },
    {
     "data": {
      "text/plain": [
       "\"hello\""
      ]
     },
     "execution_count": 30,
     "metadata": {},
     "output_type": "execute_result"
    }
   ],
   "source": [
    "p sym1.id2name\n",
    "p sym2.to_s"
   ]
  },
  {
   "cell_type": "markdown",
   "metadata": {},
   "source": [
    "#### 符号表"
   ]
  },
  {
   "cell_type": "code",
   "execution_count": 27,
   "metadata": {},
   "outputs": [
    {
     "data": {
      "text/plain": [
       "10389"
      ]
     },
     "execution_count": 27,
     "metadata": {},
     "output_type": "execute_result"
    }
   ],
   "source": [
    "Symbol.all_symbols.size"
   ]
  },
  {
   "cell_type": "code",
   "execution_count": 44,
   "metadata": {},
   "outputs": [
    {
     "data": {
      "text/plain": [
       "[:!, :\"\\\"\", :\"#\", :\"$\", :%, :&, :\"'\", :\"(\", :\")\", :*, :+, :\",\", :-, :\".\", :/, :\":\", :\";\", :<, :\"=\", :>, :\"?\", :\"@\", :\"[\", :\"\\\\\", :\"]\", :^, :`, :\"{\", :|, :\"}\", :~, :\"..\", :\"...\", :+@, :-@, :**, :<=>, :<<, :>>, :<=, :>=, :==, :===, :!=, :=~, :!~, :[], :[]=, :\"::\", :\"&&\", :\"||\", :\"&.\", :max, :min, :freeze, :inspect, :intern, :object_id, :const_missing, :method_missing, :method_added, :singleton_method_added, :method_removed, :singleton_method_removed, :method_undefined, :singleton_method_undefined, :length, :size, :gets, :succ, :each, :proc, :lambda, :send, :__send__, :__attached__, :initialize, :initialize_copy, :initialize_clone, :initialize_dup, :to_int, :to_ary, :to_str, :to_sym, :to_hash, :to_proc, :to_io, :to_a, :to_s, :to_i, :bt, :bt_locations, :call, :mesg, :exception, :_, :\"\", :empty?, :eql?, :respond_to?, :respond_to_missing?]"
      ]
     },
     "execution_count": 44,
     "metadata": {},
     "output_type": "execute_result"
    }
   ],
   "source": [
    "Symbol.all_symbols[0..100]"
   ]
  },
  {
   "cell_type": "code",
   "execution_count": 45,
   "metadata": {},
   "outputs": [
    {
     "data": {
      "text/plain": [
       "[:insert_text, :delete_text, :redisplay, :special_prefixes=, :orig_prompt, :last_prompt, :HISTORY, :USERNAME_COMPLETION_PROC, :modules, :attribute_imethods, :attribute_cmethods, :column_names, :instance_meths, :send_methods, :_1, :_i1, :sym1, :hello, :sym2, :_2, :_i2, :_3, :_i3, :_4, :_i4, :_5, :_i5, :_6, :_i6, :_7, :_i7, :_8, :_i8, :_9, :_i9, :_10, :_i10, :_11, :_i11, :_12, :_i12, :_13, :_i13, :_14, :_i14, :_15, :_i15, :_16, :_i16, :_17, :_i17, :_18, :_i18, :_19, :_i19, :_20, :_i20, :_21, :_i21, :_22, :_i22, :_23, :_i23, :_24, :_i24, :_25, :_i25, :_26, :_i26, :_27, :_i27, :_28, :_i28, :_29, :_i29, :_30, :_i30, :strng, :symbl, :helloworld, :_31, :_i31, :_32, :_i32, :_33, :_i33, :world, :_34, :_i34, :_35, :_i35, :_36, :_i36, :Hello, :_37, :_i37, :_38, :_i38, :_39, :_i39]"
      ]
     },
     "execution_count": 45,
     "metadata": {},
     "output_type": "execute_result"
    }
   ],
   "source": [
    "Symbol.all_symbols[-100..-1]"
   ]
  },
  {
   "cell_type": "markdown",
   "metadata": {},
   "source": [
    "通常来讲，当你面临 String 还是 Symbol 的选择时，可以参考以下标准：\n",
    "\n",
    "* 如果使用字符串的内容，这个内容可能会变化，使用 `String`\n",
    "* 如果字符串是动态构建的，使用 `String`\n",
    "* 如果使用固定的名字或者说是标识符，使用 `Symbol`\n",
    "* 如果用作Hash的键值，尽量使用 `Symbol`"
   ]
  },
  {
   "cell_type": "markdown",
   "metadata": {},
   "source": [
    "## `Symbol` 方法\n",
    "\n",
    "`Symbol` 支持大部分 `String` 中的非破坏性方法，这使得 `Symbol` 使用起来更像 `String`。"
   ]
  },
  {
   "cell_type": "code",
   "execution_count": 95,
   "metadata": {},
   "outputs": [
    {
     "name": "stdout",
     "output_type": "stream",
     "text": [
      "5\n",
      "5\n",
      "-1\n",
      "1\n",
      "-1\n",
      "-1\n",
      "true\n",
      "false\n"
     ]
    }
   ],
   "source": [
    "puts :hello.size\n",
    "puts :hello.length\n",
    "\n",
    "puts :A <=> :z\n",
    "puts :a <=> :Z\n",
    "puts :A.casecmp :z\n",
    "puts :a.casecmp :Z\n",
    "\n",
    "puts :''.empty?\n",
    "puts :hello.empty?"
   ]
  },
  {
   "cell_type": "markdown",
   "metadata": {},
   "source": [
    "#### 索引"
   ]
  },
  {
   "cell_type": "code",
   "execution_count": 86,
   "metadata": {},
   "outputs": [
    {
     "name": "stdout",
     "output_type": "stream",
     "text": [
      ":hello[2] \t= \"l\"\n",
      ":hello[0..2] \t= \"hel\"\n",
      ":hello[0, 2] \t= \"he\"\n",
      ":hello[0, 9] \t= \"hello\"\n",
      ":hello[-3, -1] \t= nil\n",
      ":hello[-3..-1] \t= \"llo\"\n"
     ]
    }
   ],
   "source": [
    "symbl = :hello\n",
    "\n",
    "puts \"%s[2] \\t= %s\" % [symbl.inspect, symbl[2].inspect]\n",
    "puts \"%s[0..2] \\t= %s\" % [symbl.inspect, symbl[0..2].inspect]\n",
    "puts \"%s[0, 2] \\t= %s\" % [symbl.inspect, symbl[0, 2].inspect]\n",
    "puts \"%s[0, 9] \\t= %s\" % [symbl.inspect, symbl[0, 9].inspect]\n",
    "puts \"%s[-3, -1] \\t= %s\" % [symbl.inspect, symbl[-3, -1].inspect]\n",
    "puts \"%s[-3..-1] \\t= %s\" % [symbl.inspect, symbl[-3..-1].inspect]"
   ]
  },
  {
   "cell_type": "markdown",
   "metadata": {},
   "source": [
    "#### 变形"
   ]
  },
  {
   "cell_type": "code",
   "execution_count": 66,
   "metadata": {},
   "outputs": [
    {
     "name": "stdout",
     "output_type": "stream",
     "text": [
      "@000000000032ED24: :HeLLo\n",
      "@00003FEBB6096064: :Hello\n",
      "@00000000002EE724: :HELLO\n",
      "@0000000000325DDC: :hello\n",
      "@00003FEBB6096064: :Hello\n",
      "@00000000002EE724: :HELLO\n",
      "@0000000000325DDC: :hello\n"
     ]
    }
   ],
   "source": [
    "symbl = :HeLLo\n",
    "puts \"@%016X: %s\" % [symbl.object_id, symbl.inspect]\n",
    "puts \"@%016X: %s\" % [symbl.capitalize.object_id, symbl.capitalize.inspect]\n",
    "puts \"@%016X: %s\" % [symbl.upcase.object_id, symbl.upcase.inspect]\n",
    "puts \"@%016X: %s\" % [symbl.downcase.object_id, symbl.downcase.inspect]\n",
    "\n",
    "puts \"@%016X: %s\" % [:Hello.object_id, :Hello.inspect]\n",
    "puts \"@%016X: %s\" % [:HELLO.object_id, :HELLO.inspect]\n",
    "puts \"@%016X: %s\" % [:hello.object_id, :hello.inspect]"
   ]
  },
  {
   "cell_type": "markdown",
   "metadata": {},
   "source": [
    "#### 编码"
   ]
  },
  {
   "cell_type": "code",
   "execution_count": 73,
   "metadata": {},
   "outputs": [
    {
     "name": "stdout",
     "output_type": "stream",
     "text": [
      "hello with encoding US-ASCII\n",
      "唐诗选集 with encoding UTF-8\n"
     ]
    }
   ],
   "source": [
    "symbl = :hello\n",
    "puts \"%s with encoding %s\" % [symbl, symbl.encoding]\n",
    "\n",
    "china = :唐诗选集\n",
    "puts \"%s with encoding %s\" % [china, china.encoding]"
   ]
  }
 ],
 "metadata": {
  "kernelspec": {
   "display_name": "Ruby 2.4.1",
   "language": "ruby",
   "name": "ruby"
  },
  "language_info": {
   "file_extension": ".rb",
   "mimetype": "application/x-ruby",
   "name": "ruby",
   "version": "2.4.1"
  }
 },
 "nbformat": 4,
 "nbformat_minor": 2
}
