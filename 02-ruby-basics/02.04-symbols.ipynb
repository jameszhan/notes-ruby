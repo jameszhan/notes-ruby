{
 "cells": [
  {
   "cell_type": "markdown",
   "metadata": {},
   "source": [
    "# 符号"
   ]
  },
  {
   "cell_type": "markdown",
   "metadata": {},
   "source": [
    "## 创建 `Symbol`\n",
    "\n",
    "### 典型构造\n",
    "\n",
    "典型地，**Ruby**中可以在字符串之前加上 `:` 生成 `Symbol`。"
   ]
  },
  {
   "cell_type": "code",
   "execution_count": 2,
   "metadata": {},
   "outputs": [
    {
     "data": {
      "text/plain": [
       ":hello"
      ]
     },
     "execution_count": 2,
     "metadata": {},
     "output_type": "execute_result"
    }
   ],
   "source": [
    ":hello"
   ]
  },
  {
   "cell_type": "code",
   "execution_count": 3,
   "metadata": {},
   "outputs": [
    {
     "data": {
      "text/plain": [
       ":\"hello world\""
      ]
     },
     "execution_count": 3,
     "metadata": {},
     "output_type": "execute_result"
    }
   ],
   "source": [
    ":'hello world'"
   ]
  },
  {
   "cell_type": "markdown",
   "metadata": {},
   "source": [
    "### 特殊构造\n",
    "\n",
    "* %s: 不支持 `interpolation` 和 `escaping`\n",
    "* 你可以使用任何典型的分割字符，例如`%s{...}`, `%s(...)`, `%s|...|`, `%s?...?`, `%s-....-`, `%s/.../`, etc"
   ]
  },
  {
   "cell_type": "code",
   "execution_count": 4,
   "metadata": {},
   "outputs": [
    {
     "data": {
      "text/plain": [
       ":\"this is \\\"hello\\\" 'world'\""
      ]
     },
     "execution_count": 4,
     "metadata": {},
     "output_type": "execute_result"
    }
   ],
   "source": [
    "s = %s(this is \"hello\" 'world')\n",
    "s"
   ]
  },
  {
   "cell_type": "markdown",
   "metadata": {
    "collapsed": true
   },
   "source": [
    "## `Symbol` 和 `String`\n",
    "\n",
    "`Symbol` 对象和 `String` 对象在 **Ruby** 内部的表示完全不同。`Symbol` 本质上是一个数字，这个数字和创建 `Symbol` 的名字形成一对一的映射。这个数字对应的名字在在 **符号表** 里。\n",
    "\n",
    "**符号表** 是一个全局数据结构，它存放了所有 `Symbol` 的（数字ID，名字）对， **Ruby** 不会从中删除 `Symbol` ，因此当你创建一个 `Symbol` 对象后，它将一直存在，直到程序结束。"
   ]
  },
  {
   "cell_type": "code",
   "execution_count": 1,
   "metadata": {},
   "outputs": [
    {
     "name": "stdout",
     "output_type": "stream",
     "text": [
      "70148384505300\n",
      "70148384505300\n",
      "70148384505280\n"
     ]
    },
    {
     "data": {
      "text/plain": [
       "70148384505280"
      ]
     },
     "execution_count": 1,
     "metadata": {},
     "output_type": "execute_result"
    }
   ],
   "source": [
    "str1 = str2 = \"hello\"\n",
    "str3 = 'hello'\n",
    "\n",
    "p str1.object_id\n",
    "p str2.object_id\n",
    "p str3.object_id"
   ]
  },
  {
   "cell_type": "code",
   "execution_count": 2,
   "metadata": {},
   "outputs": [
    {
     "name": "stdout",
     "output_type": "stream",
     "text": [
      "3300828\n",
      "3300828\n"
     ]
    }
   ],
   "source": [
    "sym1 = :hello\n",
    "sym2 = :hello\n",
    "\n",
    "puts sym1.object_id\n",
    "puts sym2.object_id"
   ]
  },
  {
   "cell_type": "markdown",
   "metadata": {},
   "source": [
    "`Symbol` 内容是不可变的，`String` 内容是可以更改的。"
   ]
  },
  {
   "cell_type": "code",
   "execution_count": 3,
   "metadata": {},
   "outputs": [
    {
     "name": "stdout",
     "output_type": "stream",
     "text": [
      "strng.object_id = 70148377768560\n",
      "strng.object_id = 70148377768560\n",
      "strng.object_id = 70148377768560\n",
      "strng.object_id = 70148377768560\n"
     ]
    },
    {
     "data": {
      "text/plain": [
       "\"hello\""
      ]
     },
     "execution_count": 3,
     "metadata": {},
     "output_type": "execute_result"
    }
   ],
   "source": [
    "strng = \"hello\"\n",
    "puts \"strng.object_id = #{strng.object_id}\"\n",
    "strng << 'e'\n",
    "puts \"strng.object_id = #{strng.object_id}\"\n",
    "strng.replace(\"hel\")\n",
    "puts \"strng.object_id = #{strng.object_id}\"\n",
    "strng[-1] = 'llo'\n",
    "puts \"strng.object_id = #{strng.object_id}\"\n",
    "strng"
   ]
  },
  {
   "cell_type": "markdown",
   "metadata": {},
   "source": [
    "#### 转换"
   ]
  },
  {
   "cell_type": "code",
   "execution_count": 4,
   "metadata": {},
   "outputs": [
    {
     "name": "stdout",
     "output_type": "stream",
     "text": [
      ":hello\n",
      ":hello\n",
      ":hello\n"
     ]
    },
    {
     "data": {
      "text/plain": [
       ":hello"
      ]
     },
     "execution_count": 4,
     "metadata": {},
     "output_type": "execute_result"
    }
   ],
   "source": [
    "p str1.intern\n",
    "p str2.to_sym\n",
    "p str3.intern"
   ]
  },
  {
   "cell_type": "code",
   "execution_count": 5,
   "metadata": {},
   "outputs": [
    {
     "name": "stdout",
     "output_type": "stream",
     "text": [
      "\"hello\"\n",
      "\"hello\"\n"
     ]
    },
    {
     "data": {
      "text/plain": [
       "\"hello\""
      ]
     },
     "execution_count": 5,
     "metadata": {},
     "output_type": "execute_result"
    }
   ],
   "source": [
    "p sym1.id2name\n",
    "p sym2.to_s"
   ]
  },
  {
   "cell_type": "markdown",
   "metadata": {},
   "source": [
    "#### 符号表"
   ]
  },
  {
   "cell_type": "code",
   "execution_count": 6,
   "metadata": {},
   "outputs": [
    {
     "data": {
      "text/plain": [
       "10349"
      ]
     },
     "execution_count": 6,
     "metadata": {},
     "output_type": "execute_result"
    }
   ],
   "source": [
    "Symbol.all_symbols.size"
   ]
  },
  {
   "cell_type": "code",
   "execution_count": 7,
   "metadata": {},
   "outputs": [
    {
     "data": {
      "text/plain": [
       "[:!, :\"\\\"\", :\"#\", :\"$\", :%, :&, :\"'\", :\"(\", :\")\", :*, :+, :\",\", :-, :\".\", :/, :\":\", :\";\", :<, :\"=\", :>, :\"?\", :\"@\", :\"[\", :\"\\\\\", :\"]\", :^, :`, :\"{\", :|, :\"}\", :~, :\"..\", :\"...\", :+@, :-@, :**, :<=>, :<<, :>>, :<=, :>=, :==, :===, :!=, :=~, :!~, :[], :[]=, :\"::\", :\"&&\", :\"||\", :\"&.\", :max, :min, :freeze, :inspect, :intern, :object_id, :const_missing, :method_missing, :method_added, :singleton_method_added, :method_removed, :singleton_method_removed, :method_undefined, :singleton_method_undefined, :length, :size, :gets, :succ, :each, :proc, :lambda, :send, :__send__, :__attached__, :initialize, :initialize_copy, :initialize_clone, :initialize_dup, :to_int, :to_ary, :to_str, :to_sym, :to_hash, :to_proc, :to_io, :to_a, :to_s, :to_i, :bt, :bt_locations, :call, :mesg, :exception, :_, :\"\", :empty?, :eql?, :respond_to?, :respond_to_missing?]"
      ]
     },
     "execution_count": 7,
     "metadata": {},
     "output_type": "execute_result"
    }
   ],
   "source": [
    "Symbol.all_symbols[0..100]"
   ]
  },
  {
   "cell_type": "code",
   "execution_count": 8,
   "metadata": {},
   "outputs": [
    {
     "data": {
      "text/plain": [
       "[:completions, :call_action, :call_search, :CONDITION, :unique_id, :create_input, :condition_with_objects, :eval_object, :@evaled_object, :eval_debug, :ReservedWords, :class_actions, :last_find, :last_class, :klass_meth, :split_method, :current_actions, :meths, :@actions, :@class_actions, :action_methods, :find_with, :@last_class, :@last_find, :any_const_get, :find_meth, :get_class, :@klasses, :@meth, :matched_method, :current_methods, :set_action_and_search, :typed, :input_options, :actions=, :class_actions=, :last_find=, :last_class=, :@object_condition, :candidates, :quoted_files, :completion_case_fold, :pre_input_hook, :special_prefixes, :quoting_detection_proc, :input=, :output=, :quoting_detection_proc=, :completion_case_fold=, :point, :point=, :set_screen_size, :get_screen_size, :vi_editing_mode, :vi_editing_mode?, :emacs_editing_mode, :emacs_editing_mode?, :completer_word_break_characters=, :completer_word_break_characters, :basic_quote_characters=, :basic_quote_characters, :completer_quote_characters=, :completer_quote_characters, :filename_quote_characters=, :filename_quote_characters, :refresh_line, :pre_input_hook=, :insert_text, :delete_text, :redisplay, :special_prefixes=, :orig_prompt, :last_prompt, :HISTORY, :USERNAME_COMPLETION_PROC, :modules, :attribute_imethods, :attribute_cmethods, :column_names, :instance_meths, :send_methods, :comm_info_request, :_1, :_i1, :sym1, :hello, :sym2, :_2, :_i2, :strng, :_3, :_i3, :_4, :_i4, :_5, :_i5, :_6, :_i6, :_7, :_i7]"
      ]
     },
     "execution_count": 8,
     "metadata": {},
     "output_type": "execute_result"
    }
   ],
   "source": [
    "Symbol.all_symbols[-100..-1]"
   ]
  },
  {
   "cell_type": "markdown",
   "metadata": {},
   "source": [
    "通常来讲，当你面临 String 还是 Symbol 的选择时，可以参考以下标准：\n",
    "\n",
    "* 如果使用字符串的内容，这个内容可能会变化，使用 `String`\n",
    "* 如果字符串是动态构建的，使用 `String`\n",
    "* 如果使用固定的名字或者说是标识符，使用 `Symbol`\n",
    "* 如果用作Hash的键值，尽量使用 `Symbol`"
   ]
  },
  {
   "cell_type": "markdown",
   "metadata": {},
   "source": [
    "## `Symbol` 方法\n",
    "\n",
    "`Symbol` 支持大部分 `String` 中的非破坏性方法，这使得 `Symbol` 使用起来更像 `String`。"
   ]
  },
  {
   "cell_type": "code",
   "execution_count": 9,
   "metadata": {},
   "outputs": [
    {
     "name": "stdout",
     "output_type": "stream",
     "text": [
      "5\n",
      "5\n",
      "-1\n",
      "1\n",
      "-1\n",
      "-1\n",
      "true\n",
      "false\n"
     ]
    }
   ],
   "source": [
    "puts :hello.size\n",
    "puts :hello.length\n",
    "\n",
    "puts :A <=> :z\n",
    "puts :a <=> :Z\n",
    "puts :A.casecmp :z\n",
    "puts :a.casecmp :Z\n",
    "\n",
    "puts :''.empty?\n",
    "puts :hello.empty?"
   ]
  },
  {
   "cell_type": "markdown",
   "metadata": {},
   "source": [
    "#### 索引"
   ]
  },
  {
   "cell_type": "code",
   "execution_count": 10,
   "metadata": {},
   "outputs": [
    {
     "name": "stdout",
     "output_type": "stream",
     "text": [
      ":hello[2] \t= \"l\"\n",
      ":hello[0..2] \t= \"hel\"\n",
      ":hello[0, 2] \t= \"he\"\n",
      ":hello[0, 9] \t= \"hello\"\n",
      ":hello[-3, -1] \t= nil\n",
      ":hello[-3..-1] \t= \"llo\"\n"
     ]
    }
   ],
   "source": [
    "symbl = :hello\n",
    "\n",
    "puts \"%s[2] \\t= %s\" % [symbl.inspect, symbl[2].inspect]\n",
    "puts \"%s[0..2] \\t= %s\" % [symbl.inspect, symbl[0..2].inspect]\n",
    "puts \"%s[0, 2] \\t= %s\" % [symbl.inspect, symbl[0, 2].inspect]\n",
    "puts \"%s[0, 9] \\t= %s\" % [symbl.inspect, symbl[0, 9].inspect]\n",
    "puts \"%s[-3, -1] \\t= %s\" % [symbl.inspect, symbl[-3, -1].inspect]\n",
    "puts \"%s[-3..-1] \\t= %s\" % [symbl.inspect, symbl[-3..-1].inspect]"
   ]
  },
  {
   "cell_type": "markdown",
   "metadata": {},
   "source": [
    "#### 变形"
   ]
  },
  {
   "cell_type": "code",
   "execution_count": 11,
   "metadata": {},
   "outputs": [
    {
     "name": "stdout",
     "output_type": "stream",
     "text": [
      "@0000000000327DE4: :HeLLo\n",
      "@0000000000327F24: :Hello\n",
      "@00000000002EE724: :HELLO\n",
      "@0000000000325DDC: :hello\n",
      "@0000000000327F24: :Hello\n",
      "@00000000002EE724: :HELLO\n",
      "@0000000000325DDC: :hello\n"
     ]
    }
   ],
   "source": [
    "symbl = :HeLLo\n",
    "puts \"@%016X: %s\" % [symbl.object_id, symbl.inspect]\n",
    "puts \"@%016X: %s\" % [symbl.capitalize.object_id, symbl.capitalize.inspect]\n",
    "puts \"@%016X: %s\" % [symbl.upcase.object_id, symbl.upcase.inspect]\n",
    "puts \"@%016X: %s\" % [symbl.downcase.object_id, symbl.downcase.inspect]\n",
    "\n",
    "puts \"@%016X: %s\" % [:Hello.object_id, :Hello.inspect]\n",
    "puts \"@%016X: %s\" % [:HELLO.object_id, :HELLO.inspect]\n",
    "puts \"@%016X: %s\" % [:hello.object_id, :hello.inspect]"
   ]
  },
  {
   "cell_type": "markdown",
   "metadata": {},
   "source": [
    "#### 编码"
   ]
  },
  {
   "cell_type": "code",
   "execution_count": 12,
   "metadata": {},
   "outputs": [
    {
     "name": "stdout",
     "output_type": "stream",
     "text": [
      "hello with encoding US-ASCII\n",
      "唐诗选集 with encoding UTF-8\n"
     ]
    }
   ],
   "source": [
    "symbl = :hello\n",
    "puts \"%s with encoding %s\" % [symbl, symbl.encoding]\n",
    "\n",
    "china = :唐诗选集\n",
    "puts \"%s with encoding %s\" % [china, china.encoding]"
   ]
  }
 ],
 "metadata": {
  "kernelspec": {
   "display_name": "Ruby 2.4.1",
   "language": "ruby",
   "name": "ruby"
  },
  "language_info": {
   "file_extension": ".rb",
   "mimetype": "application/x-ruby",
   "name": "ruby",
   "version": "2.4.1"
  }
 },
 "nbformat": 4,
 "nbformat_minor": 2
}
