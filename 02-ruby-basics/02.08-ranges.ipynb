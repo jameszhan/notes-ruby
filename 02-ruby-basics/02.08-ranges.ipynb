{
 "cells": [
  {
   "cell_type": "markdown",
   "metadata": {},
   "source": [
    "# 范围 (Range)"
   ]
  },
  {
   "cell_type": "markdown",
   "metadata": {},
   "source": [
    "范围（Range）无处不在：`a` 到 `z`、 `0` 到 `9`、等等。**Ruby** 支持范围，并允许我们以不同的方式使用范围："
   ]
  },
  {
   "cell_type": "markdown",
   "metadata": {},
   "source": [
    "## 创建 `Range`\n",
    "\n",
    "**Ruby** 使用如下两种方式创建 `Range`\n",
    "\n",
    "* `begin..end` (包含 `end` )\n",
    "* `begin...end` (不包含 `end` )"
   ]
  },
  {
   "cell_type": "code",
   "execution_count": 1,
   "metadata": {},
   "outputs": [
    {
     "name": "stdout",
     "output_type": "stream",
     "text": [
      "[1, 2, 3, 4, 5]\n",
      "[1, 2, 3, 4, 5]\n",
      "[1, 2, 3, 4]\n",
      "[1, 2, 3, 4]\n",
      "[]\n",
      "[-5, -4, -3, -2, -1]\n"
     ]
    }
   ],
   "source": [
    "puts (1..5).to_a\n",
    "puts Range.new(1, 5).to_a\n",
    "puts (1...5).to_a\n",
    "puts Range.new(1, 5, exclude_end=true).to_a\n",
    "\n",
    "puts (-1..-5).to_a\n",
    "puts (-5..-1).to_a"
   ]
  },
  {
   "cell_type": "markdown",
   "metadata": {},
   "source": [
    "`begin` 和 `end`"
   ]
  },
  {
   "cell_type": "code",
   "execution_count": 2,
   "metadata": {},
   "outputs": [
    {
     "data": {
      "text/plain": [
       "[0, 9, 10]"
      ]
     },
     "execution_count": 2,
     "metadata": {},
     "output_type": "execute_result"
    }
   ],
   "source": [
    "r = 0..9\n",
    "[r.begin, r.end, r.size]"
   ]
  },
  {
   "cell_type": "markdown",
   "metadata": {},
   "source": [
    "指定步长(`step`)："
   ]
  },
  {
   "cell_type": "code",
   "execution_count": 3,
   "metadata": {},
   "outputs": [
    {
     "data": {
      "text/plain": [
       "[0, 2, 4, 6, 8]"
      ]
     },
     "execution_count": 3,
     "metadata": {},
     "output_type": "execute_result"
    }
   ],
   "source": [
    "r = 0..9\n",
    "r.step(2).to_a"
   ]
  },
  {
   "cell_type": "markdown",
   "metadata": {},
   "source": [
    "## `Range`方法\n",
    "\n",
    "序列范围的第一个也是最常见的用途是表达序列。序列有一个起点、一个终点和一个在序列产生连续值的方式。\n",
    "\n",
    "#### 转换成数组"
   ]
  },
  {
   "cell_type": "code",
   "execution_count": 4,
   "metadata": {},
   "outputs": [
    {
     "name": "stdout",
     "output_type": "stream",
     "text": [
      "range1 = [1, 2, 3, 4, 5, 6, 7, 8, 9, 10]\n",
      "range2 = [\"bar\", \"bas\", \"bat\"]\n"
     ]
    }
   ],
   "source": [
    "range1 = (1..10).to_a\n",
    "range2 = ('bar'..'bat').to_a\n",
    "\n",
    "puts \"range1 = #{range1}\"\n",
    "puts \"range2 = #{range2}\""
   ]
  },
  {
   "cell_type": "markdown",
   "metadata": {},
   "source": [
    "数据访问：\n",
    "\n",
    "`Range` 不支持访问符 `[]`"
   ]
  },
  {
   "cell_type": "code",
   "execution_count": 5,
   "metadata": {},
   "outputs": [
    {
     "name": "stdout",
     "output_type": "stream",
     "text": [
      "min is a, max is y\n",
      "begin is a, end is z\n",
      "first is a, last is z\n"
     ]
    }
   ],
   "source": [
    "r = 'a'...'z'\n",
    "\n",
    "puts \"min is #{r.min}, max is #{r.max}\"\n",
    "puts \"begin is #{r.begin}, end is #{r.end}\"\n",
    "puts \"first is #{r.first}, last is #{r.last}\""
   ]
  },
  {
   "cell_type": "markdown",
   "metadata": {},
   "source": [
    "#### 测试从属关系\n",
    "\n",
    "`r.include?(obj)` 和 `r.member?(obj)` 可以判断 `r` 是否包含 `obj`。\n",
    "\n",
    "因为 `Range` 是有序序列，并且是连续的，所以也可以使用 `r.cover?(obj)` 来判断 `r` 是否包含 `obj`，即是否满足 `r.min < obj < r.max`。"
   ]
  },
  {
   "cell_type": "code",
   "execution_count": 6,
   "metadata": {},
   "outputs": [
    {
     "name": "stdout",
     "output_type": "stream",
     "text": [
      "digits.include?(5) is true\n",
      "digits.member?(5) is true\n",
      "digits.cover?(5) is true\n",
      "digits.include?(15) is false\n",
      "digits.member?(15) is false\n",
      "digits.cover?(15) is false\n"
     ]
    }
   ],
   "source": [
    "digits = 0..9\n",
    "\n",
    "puts \"digits.include?(5) is #{digits.include?(5)}\"\n",
    "puts \"digits.member?(5) is #{digits.member?(5)}\"\n",
    "puts \"digits.cover?(5) is #{digits.cover?(5)}\"\n",
    "\n",
    "puts \"digits.include?(15) is #{digits.include?(15)}\"\n",
    "puts \"digits.member?(15) is #{digits.member?(15)}\"\n",
    "puts \"digits.cover?(15) is #{digits.cover?(15)}\""
   ]
  },
  {
   "cell_type": "markdown",
   "metadata": {},
   "source": [
    "#### 数据过滤："
   ]
  },
  {
   "cell_type": "code",
   "execution_count": 7,
   "metadata": {},
   "outputs": [
    {
     "data": {
      "text/plain": [
       "[0, 1, 2, 3, 4, 5, 6, 7, 8, 9]"
      ]
     },
     "execution_count": 7,
     "metadata": {},
     "output_type": "execute_result"
    }
   ],
   "source": [
    "big_range = 0..(10**100)\n",
    "big_range.take(10)"
   ]
  },
  {
   "cell_type": "code",
   "execution_count": 8,
   "metadata": {},
   "outputs": [
    {
     "data": {
      "text/plain": [
       "[0, 1, 2, 3, 4, 5, 6, 7, 8, 9]"
      ]
     },
     "execution_count": 8,
     "metadata": {},
     "output_type": "execute_result"
    }
   ],
   "source": [
    "big_range.take_while{|i| i < 10}"
   ]
  },
  {
   "cell_type": "code",
   "execution_count": 9,
   "metadata": {},
   "outputs": [
    {
     "data": {
      "text/plain": [
       "[0, 3, 6, 9, 12, 15, 18, 21, 24, 27]"
      ]
     },
     "execution_count": 9,
     "metadata": {},
     "output_type": "execute_result"
    }
   ],
   "source": [
    "big_range.step(3).take(10)"
   ]
  },
  {
   "cell_type": "code",
   "execution_count": 10,
   "metadata": {},
   "outputs": [
    {
     "data": {
      "text/plain": [
       "[0, 6, 12, 18, 24, 30, 36, 42, 48, 54, 60, 66, 72, 78, 84, 90, 96]"
      ]
     },
     "execution_count": 10,
     "metadata": {},
     "output_type": "execute_result"
    }
   ],
   "source": [
    "big_range.step(6).take_while{|i| i < 100}"
   ]
  },
  {
   "cell_type": "code",
   "execution_count": 11,
   "metadata": {},
   "outputs": [
    {
     "data": {
      "text/plain": [
       "[0, 6, 12, 18, 24, 30, 36, 42, 48, 54, 60, 66, 72, 78, 84, 90, 96]"
      ]
     },
     "execution_count": 11,
     "metadata": {},
     "output_type": "execute_result"
    }
   ],
   "source": [
    "r = 0..100\n",
    "r.select{|i| i % 6 == 0}"
   ]
  },
  {
   "cell_type": "code",
   "execution_count": 12,
   "metadata": {},
   "outputs": [
    {
     "data": {
      "text/plain": [
       "[8, 9, 10, 11, 12, 13, 14, 15, 16, 17, 18, 19, 20]"
      ]
     },
     "execution_count": 12,
     "metadata": {},
     "output_type": "execute_result"
    }
   ],
   "source": [
    "r.reject{|i| i < 8 || i > 20}"
   ]
  },
  {
   "cell_type": "markdown",
   "metadata": {},
   "source": [
    "## 用作 `case` 语句"
   ]
  },
  {
   "cell_type": "markdown",
   "metadata": {},
   "source": [
    "`Range` 重写了 比较运算符 `===`，该运算符主要用于 `case` 语句。\n",
    "\n",
    "`r === obj` 判断 `r` 是否包含 `obj`，与 `include?` 及 `member?` 功能等同。"
   ]
  },
  {
   "cell_type": "code",
   "execution_count": 13,
   "metadata": {},
   "outputs": [
    {
     "data": {
      "text/plain": [
       "true"
      ]
     },
     "execution_count": 13,
     "metadata": {},
     "output_type": "execute_result"
    }
   ],
   "source": [
    "(1..9) === 5"
   ]
  },
  {
   "cell_type": "code",
   "execution_count": 14,
   "metadata": {},
   "outputs": [
    {
     "data": {
      "text/plain": [
       "true"
      ]
     },
     "execution_count": 14,
     "metadata": {},
     "output_type": "execute_result"
    }
   ],
   "source": [
    "('a'..'g') === 'e'"
   ]
  },
  {
   "cell_type": "code",
   "execution_count": 15,
   "metadata": {},
   "outputs": [
    {
     "data": {
      "text/plain": [
       "false"
      ]
     },
     "execution_count": 15,
     "metadata": {},
     "output_type": "execute_result"
    }
   ],
   "source": [
    "('a'..'g') === 'z'"
   ]
  },
  {
   "cell_type": "code",
   "execution_count": 16,
   "metadata": {},
   "outputs": [
    {
     "name": "stdout",
     "output_type": "stream",
     "text": [
      "high\n"
     ]
    }
   ],
   "source": [
    "case 79\n",
    "when 1..50   then   print \"low\\n\"\n",
    "when 51..75  then   print \"medium\\n\"\n",
    "when 76..100 then   print \"high\\n\"\n",
    "end"
   ]
  },
  {
   "cell_type": "markdown",
   "metadata": {},
   "source": [
    "## `Range` 性能\n",
    "\n",
    "生成很大的数字序列的时候，用`Range`会比`Array`性能优很多，因为不需要一上来就开辟一块很大的内存空间。"
   ]
  },
  {
   "cell_type": "code",
   "execution_count": 17,
   "metadata": {},
   "outputs": [
    {
     "name": "stdout",
     "output_type": "stream",
     "text": [
      "       user     system      total        real\n",
      "array(     10)\t  0.000000   0.000000   0.000000 (  0.000009)\n",
      "range(     10)\t  0.000000   0.000000   0.000000 (  0.000009)\n",
      "array(    100)\t  0.000000   0.000000   0.000000 (  0.000018)\n",
      "range(    100)\t  0.000000   0.000000   0.000000 (  0.000027)\n",
      "array(   1000)\t  0.000000   0.000000   0.000000 (  0.000136)\n",
      "range(   1000)\t  0.000000   0.000000   0.000000 (  0.000036)\n",
      "array(  10000)\t  0.000000   0.000000   0.000000 (  0.000739)\n",
      "range(  10000)\t  0.000000   0.000000   0.000000 (  0.000018)\n",
      "array( 100000)\t  0.010000   0.000000   0.010000 (  0.005997)\n",
      "range( 100000)\t  0.000000   0.000000   0.000000 (  0.000016)\n",
      "array(1000000)\t  0.060000   0.000000   0.060000 (  0.069126)\n",
      "range(1000000)\t  0.000000   0.000000   0.000000 (  0.000013)\n",
      "That's All!\n"
     ]
    }
   ],
   "source": [
    "require \"benchmark\"\n",
    "\n",
    "Benchmark.bm do |x|\n",
    "  (1..6).each do |i|\n",
    "    max = 10 ** i\n",
    "    x.report(\"array(%7d)\\t\" % max) do\n",
    "      a = Array.new(max){|i| i}\n",
    "      a.take(100)\n",
    "    end\n",
    "    x.report(\"range(%7d)\\t\" % max) do\n",
    "      r = Range.new(0, max, true)\n",
    "      r.take(100)\n",
    "    end\n",
    "  end\n",
    "end\n",
    "\n",
    "puts \"That's All!\""
   ]
  },
  {
   "cell_type": "markdown",
   "metadata": {},
   "source": [
    "要生成很大的数字序列的时候，用 `Range` 会比 `Array` 性能优很多，因为不需要一上来就开辟一块很大的内存空间。"
   ]
  }
 ],
 "metadata": {
  "kernelspec": {
   "display_name": "Ruby 2.4.1",
   "language": "ruby",
   "name": "ruby"
  },
  "language_info": {
   "file_extension": ".rb",
   "mimetype": "application/x-ruby",
   "name": "ruby",
   "version": "2.4.1"
  }
 },
 "nbformat": 4,
 "nbformat_minor": 1
}
