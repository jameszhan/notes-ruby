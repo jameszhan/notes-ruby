{
 "cells": [
  {
   "cell_type": "markdown",
   "metadata": {},
   "source": [
    "# Ruby 赋值机制"
   ]
  },
  {
   "cell_type": "markdown",
   "metadata": {},
   "source": [
    "先看一个例子："
   ]
  },
  {
   "cell_type": "code",
   "execution_count": 1,
   "metadata": {},
   "outputs": [
    {
     "name": "stdout",
     "output_type": "stream",
     "text": [
      "[1, 100, 3]"
     ]
    }
   ],
   "source": [
    "x = [1, 2, 3]\n",
    "y = x\n",
    "x[1] = 100\n",
    "print y"
   ]
  },
  {
   "cell_type": "markdown",
   "metadata": {},
   "source": [
    "改变变量`x`的值，变量`y`的值也随着改变，这与**Ruby**内部的赋值机制有关。"
   ]
  },
  {
   "cell_type": "markdown",
   "metadata": {},
   "source": [
    "## 简单类型\n",
    "\n",
    "先来看这一段代码在 **Ruby** 中的执行过程。"
   ]
  },
  {
   "cell_type": "code",
   "execution_count": 2,
   "metadata": {},
   "outputs": [
    {
     "data": {
      "text/plain": [
       "500"
      ]
     },
     "execution_count": 2,
     "metadata": {},
     "output_type": "execute_result"
    }
   ],
   "source": [
    "x = 500\n",
    "y = x\n",
    "y = 'foo'\n",
    "\n",
    "x"
   ]
  },
  {
   "cell_type": "markdown",
   "metadata": {},
   "source": [
    "**Ruby** 分配了一个 `Integer` 大小的内存 `pos1` 用来储存对象 `500` ，然后，**Ruby** 在命名空间中让变量 `x` 指向了这一块内存，注意，整数是不可变类型，所以这块内存的内容是不可变的。\n",
    "\n",
    "| 内存 |命名空间|\n",
    "| --- | --- |\n",
    "|`pos1 : Integer(500)` (不可变)|          `x : pos1`         |"
   ]
  },
  {
   "cell_type": "markdown",
   "metadata": {},
   "source": [
    "```ruby\n",
    "y = x\n",
    "```\n",
    "\n",
    "**Ruby** 并没有使用新的内存来储存变量 `y` 的值，而是在命名空间中，让变量 `y` 与变量 `x` 指向了同一块内存空间。\n",
    "\n",
    "|内存 | 命名空间|\n",
    "| --- | --- |\n",
    "|`pos1 : Integer(500)` (不可变)|`x : pos1`<br /> `y : pos1`|\n",
    "\n"
   ]
  },
  {
   "cell_type": "markdown",
   "metadata": {},
   "source": [
    "```ruby\n",
    "y = 'foo'\n",
    "```\n",
    "\n",
    "**Ruby** 此时分配一个 `String` 大小的内存 `pos2` 来储存对象 `foo` ，然后改变变量 `y` 所指的对象。\n",
    "\n",
    "| 内存 | 命名空间|\n",
    "| :--- | --- |\n",
    "|`pos1 : Integer(500)` (不可变)<br /> `pos2 : String('foo')` (可变)|`x : pos1`<br />`y : pos2`|\n"
   ]
  },
  {
   "cell_type": "markdown",
   "metadata": {},
   "source": [
    "对这一过程进行验证，可以使用 `object_id` 函数。\n",
    "\n",
    "```ruby\n",
    "x.object_id\n",
    "```\n",
    "\n",
    "返回变量 `x` 的内存地址。"
   ]
  },
  {
   "cell_type": "code",
   "execution_count": 4,
   "metadata": {},
   "outputs": [
    {
     "data": {
      "text/plain": [
       "1001"
      ]
     },
     "execution_count": 4,
     "metadata": {},
     "output_type": "execute_result"
    }
   ],
   "source": [
    "x = 500\n",
    "x.object_id"
   ]
  },
  {
   "cell_type": "code",
   "execution_count": 5,
   "metadata": {},
   "outputs": [
    {
     "data": {
      "text/plain": [
       "1001"
      ]
     },
     "execution_count": 5,
     "metadata": {},
     "output_type": "execute_result"
    }
   ],
   "source": [
    "y = x\n",
    "y.object_id"
   ]
  },
  {
   "cell_type": "markdown",
   "metadata": {
    "collapsed": true
   },
   "source": [
    "现在 `y` 指向另一块内存："
   ]
  },
  {
   "cell_type": "code",
   "execution_count": 7,
   "metadata": {},
   "outputs": [
    {
     "data": {
      "text/plain": [
       "70181391938800"
      ]
     },
     "execution_count": 7,
     "metadata": {},
     "output_type": "execute_result"
    }
   ],
   "source": [
    "y = 'foo'\n",
    "y.object_id"
   ]
  },
  {
   "cell_type": "markdown",
   "metadata": {
    "collapsed": true
   },
   "source": [
    "**Ruby** 会为每个出现的对象进行赋值，哪怕它们的值是一样的，例如："
   ]
  },
  {
   "cell_type": "code",
   "execution_count": 8,
   "metadata": {},
   "outputs": [
    {
     "data": {
      "text/plain": [
       "70181391906460"
      ]
     },
     "execution_count": 8,
     "metadata": {},
     "output_type": "execute_result"
    }
   ],
   "source": [
    "x = 'foo'\n",
    "x.object_id"
   ]
  },
  {
   "cell_type": "code",
   "execution_count": 9,
   "metadata": {},
   "outputs": [
    {
     "data": {
      "text/plain": [
       "70181391854320"
      ]
     },
     "execution_count": 9,
     "metadata": {},
     "output_type": "execute_result"
    }
   ],
   "source": [
    "y = 'foo'\n",
    "y.object_id"
   ]
  },
  {
   "cell_type": "code",
   "execution_count": 13,
   "metadata": {},
   "outputs": [
    {
     "data": {
      "text/plain": [
       "false"
      ]
     },
     "execution_count": 13,
     "metadata": {},
     "output_type": "execute_result"
    }
   ],
   "source": [
    "x.equal?(y)"
   ]
  },
  {
   "cell_type": "markdown",
   "metadata": {
    "collapsed": true
   },
   "source": [
    "## 容器类型\n",
    "\n",
    "现在来看另一段代码："
   ]
  },
  {
   "cell_type": "code",
   "execution_count": 14,
   "metadata": {},
   "outputs": [
    {
     "data": {
      "text/plain": [
       "[[500, 600, 502], [700, 800]]"
      ]
     },
     "execution_count": 14,
     "metadata": {},
     "output_type": "execute_result"
    }
   ],
   "source": [
    "x = [500, 501, 502]\n",
    "y = x\n",
    "y[1] = 600\n",
    "y = [700, 800]\n",
    "\n",
    "[x, y]"
   ]
  },
  {
   "cell_type": "markdown",
   "metadata": {},
   "source": [
    "```ruby\n",
    "x = [500, 501, 502]\n",
    "```\n",
    "\n",
    "**Ruby** 为3个Integer分配内存 `pos1` ， `pos2` ， `pos3` （不可变），然后为列表分配一段内存 `pos4` ，它包含3个位置，分别指向这3个内存，最后再让变量 `x` 指向这个列表。\n",
    "\n",
    "| 内存 | 命名空间 |\n",
    "| :--- | --- |\n",
    "|`pos1 : Integer(500)` (不可变) <br /> `pos2 : Integer(501)` (不可变) <br />`pos3 : Integer(502)` (不可变) <br /> `pos4 : Array(pos1, pos2, pos3)` (可变)|`x : pos4`|"
   ]
  },
  {
   "cell_type": "markdown",
   "metadata": {},
   "source": [
    "```ruby\n",
    "y = x\n",
    "```\n",
    "\n",
    "并没有创建新的对象，只需要将 `y` 指向 `pos4` 即可。\n",
    "\n",
    "| 内存 | 命名空间 |\n",
    "| :--- | --- |\n",
    "|`pos1 : Integer(500)` (不可变) <br /> `pos2 : Integer(501)` (不可变) <br /> `pos3 : Integer(502)` (不可变) <br /> `pos4 : Array(pos1, pos2, pos3)` (可变)|`x : pos4`<br>`y : pos4`|\n"
   ]
  },
  {
   "cell_type": "markdown",
   "metadata": {},
   "source": [
    "```ruby\n",
    "y[1] = 600\n",
    "```\n",
    "\n",
    "原来 `y[1]` 这个位置指向的是 `pos2` ，由于不能修改 `pos2` 的值，所以首先为 `600` 分配新内存 `pos5` 。\n",
    "\n",
    "再把 `y[1]` 指向的位置修改为 `pos5` 。此时，由于 `pos2` 位置的对象已经没有用了，**Ruby**会自动调用垃圾处理机制将它回收。\n",
    "\n",
    "| 内存 | 命名空间 |\n",
    "| :--- | --- |\n",
    "|`pos1 : Integer(500)` (不可变) <br /> `pos2 :` 垃圾回收 <br /> `pos3 : Integer(502)` (不可变) <br /> `pos4 : Array(pos1, pos5, pos3)` (可变)<br />`pos5 : Integer(600)` (不可变) |`x : pos4`<br> `y : pos4`|\n"
   ]
  },
  {
   "cell_type": "markdown",
   "metadata": {},
   "source": [
    "```ruby\n",
    "y = [700, 800]\n",
    "```\n",
    "\n",
    "首先创建这个列表，然后将变量 `y` 指向它。\n",
    "\n",
    "| 内存 | 命名空间 |\n",
    "| :--- | ---: |\n",
    "|`pos1 : Integer(500)` (不可变) <br/> `pos3 : Integer(502)` (不可变) <br />`pos4 : Integer(pos1, pos5, pos3)` (可变)<br />`pos5 : Integer(600)` (不可变) <br />`pos6 : Integer(700)` (不可变)<br>`pos7 : Integer(800)` (不可变)<br />`pos8 : Array(pos6, pos7)` (可变)|`x : pos4`<br /> `y : pos8`|"
   ]
  },
  {
   "cell_type": "markdown",
   "metadata": {},
   "source": [
    "对这一过程进行验证："
   ]
  },
  {
   "cell_type": "code",
   "execution_count": 17,
   "metadata": {},
   "outputs": [
    {
     "name": "stdout",
     "output_type": "stream",
     "text": [
      "1001\n",
      "1003\n",
      "1005\n",
      "70181391531660\n"
     ]
    }
   ],
   "source": [
    "x = [500, 501, 502]\n",
    "puts x[0].object_id\n",
    "puts x[1].object_id\n",
    "puts x[2].object_id\n",
    "puts x.object_id"
   ]
  },
  {
   "cell_type": "markdown",
   "metadata": {},
   "source": [
    "赋值，`y.object_id` 与 `x.object_id` 相同。"
   ]
  },
  {
   "cell_type": "code",
   "execution_count": 19,
   "metadata": {
    "scrolled": true
   },
   "outputs": [
    {
     "name": "stdout",
     "output_type": "stream",
     "text": [
      "70181391531660\n"
     ]
    }
   ],
   "source": [
    "y = x\n",
    "puts y.object_id"
   ]
  },
  {
   "cell_type": "code",
   "execution_count": 20,
   "metadata": {},
   "outputs": [
    {
     "data": {
      "text/plain": [
       "true"
      ]
     },
     "execution_count": 20,
     "metadata": {},
     "output_type": "execute_result"
    }
   ],
   "source": [
    "x.equal?(y)"
   ]
  },
  {
   "cell_type": "markdown",
   "metadata": {},
   "source": [
    "修改 `y[1]` ，`y.object_id` 并不改变。"
   ]
  },
  {
   "cell_type": "code",
   "execution_count": 21,
   "metadata": {
    "scrolled": true
   },
   "outputs": [
    {
     "name": "stdout",
     "output_type": "stream",
     "text": [
      "70181391531660\n"
     ]
    }
   ],
   "source": [
    "y[1] = 600\n",
    "puts y.object_id"
   ]
  },
  {
   "cell_type": "markdown",
   "metadata": {},
   "source": [
    "`x[1].object_id` 和 `y[1].object_id` 的值改变了。"
   ]
  },
  {
   "cell_type": "code",
   "execution_count": 22,
   "metadata": {},
   "outputs": [
    {
     "name": "stdout",
     "output_type": "stream",
     "text": [
      "1201\n",
      "1201\n"
     ]
    }
   ],
   "source": [
    "puts x[1].object_id\n",
    "puts y[1].object_id"
   ]
  },
  {
   "cell_type": "markdown",
   "metadata": {},
   "source": [
    "更改 `y` 的值，`y.object_id` 的值改变"
   ]
  },
  {
   "cell_type": "code",
   "execution_count": 23,
   "metadata": {},
   "outputs": [
    {
     "name": "stdout",
     "output_type": "stream",
     "text": [
      "70181393572940\n",
      "70181391531660\n"
     ]
    }
   ],
   "source": [
    "y = [700, 800]\n",
    "puts y.object_id\n",
    "puts x.object_id"
   ]
  }
 ],
 "metadata": {
  "kernelspec": {
   "display_name": "Ruby 2.4.1",
   "language": "ruby",
   "name": "ruby"
  },
  "language_info": {
   "file_extension": ".rb",
   "mimetype": "application/x-ruby",
   "name": "ruby",
   "version": "2.4.1"
  }
 },
 "nbformat": 4,
 "nbformat_minor": 1
}
