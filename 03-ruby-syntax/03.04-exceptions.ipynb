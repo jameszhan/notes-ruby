{
 "cells": [
  {
   "cell_type": "markdown",
   "metadata": {},
   "source": [
    "# 异常"
   ]
  },
  {
   "cell_type": "markdown",
   "metadata": {},
   "source": [
    "## **Ruby**中的异常"
   ]
  },
  {
   "cell_type": "markdown",
   "metadata": {},
   "source": [
    "写代码的时候，出现错误必不可免，即使代码没有问题，也可能遇到别的问题。异常提供了一种比较好的方式来提示错误。\n",
    "\n",
    "\n",
    "### **Ruby**异常层次结构\n",
    "\n",
    "```\n",
    "Exception\n",
    " NoMemoryError\n",
    " ScriptError\n",
    "   LoadError\n",
    "   NotImplementedError\n",
    "   SyntaxError\n",
    " SignalException\n",
    "   Interrupt\n",
    " StandardError\n",
    "   ArgumentError\n",
    "   IOError\n",
    "     EOFError\n",
    "   IndexError\n",
    "   LocalJumpError\n",
    "   NameError\n",
    "     NoMethodError\n",
    "   RangeError\n",
    "     FloatDomainError\n",
    "   RegexpError\n",
    "   RuntimeError\n",
    "   SecurityError\n",
    "   SystemCallError\n",
    "   SystemStackError\n",
    "   ThreadError\n",
    "   TypeError\n",
    "   ZeroDivisionError\n",
    " SystemExit\n",
    " fatal\n",
    "```"
   ]
  },
  {
   "cell_type": "markdown",
   "metadata": {},
   "source": [
    "### 异常处理代码\n",
    "\n",
    "```\n",
    "begin\n",
    "    <statements>\n",
    "rescue <args> [do]\n",
    "    <statements>\n",
    "else\n",
    "    <statements>\n",
    "ensure\n",
    "    <statements>\n",
    "end\n",
    "```\n",
    "\n",
    "`[do]` 可以使用 `do`, `\\n` 及 `;` 代替，`rescue` 块可以出现多次，`else` 及 `ensure`可选。`rescue` 类似于其他语言中的 `catch`，`ensure` 类似于其他语言中的 `finally`。\n",
    "\n",
    "#### 代码结构说明\n",
    "- 执行 `begin` 块中的代码，\n",
    "- 如果出现错误，则会寻找 `rescue` 中对应的异常块，如果找到，就执行对应的块，没有则抛出这个异常，\n",
    "- 如果没有出错，则执行 `else` 块中的代码，\n",
    "- `ensure` 块中的代码，无论前面是否有执行错误，都会被执行。\n",
    "\n",
    "先来看一个例子："
   ]
  },
  {
   "cell_type": "code",
   "execution_count": 13,
   "metadata": {},
   "outputs": [
    {
     "data": {
      "text/plain": [
       "0"
      ]
     },
     "execution_count": 13,
     "metadata": {},
     "output_type": "execute_result"
    }
   ],
   "source": [
    "begin\n",
    "  x = 100 / 0\n",
    "rescue  \n",
    "  x = 0\n",
    "end\n",
    "\n",
    "x"
   ]
  },
  {
   "cell_type": "markdown",
   "metadata": {},
   "source": [
    "## 异常处理"
   ]
  },
  {
   "cell_type": "markdown",
   "metadata": {},
   "source": [
    "### 捕捉所有异常\n",
    "\n",
    "```ruby\n",
    "begin\n",
    "  do_something_dangerous\n",
    "rescue Exception\n",
    "  do_something_when_error\n",
    "end\n",
    "```\n",
    "\n",
    "或者\n",
    "\n",
    "```ruby\n",
    "begin\n",
    "  do_something_really_dangerous\n",
    "rescue Exception => e\n",
    "  fix_unknown_error(e)\n",
    "end\n",
    "```\n",
    "\n",
    "完整版本\n",
    "\n",
    "```ruby\n",
    "begin\n",
    "  do_something_dangerous\n",
    "rescue SomeError => e\n",
    "  fix_some_error(e)\n",
    "rescue SomeOtherError => e\n",
    "  fix_some_other_error(e)\n",
    "rescue Exception => e\n",
    "  fix_unknown_error(e)\n",
    "else\n",
    "  something_dangerous_finished\n",
    "ensure\n",
    "  whether_or_not_an_error_was_raised\n",
    "end\n",
    "```\n",
    "\n",
    "看个例子："
   ]
  },
  {
   "cell_type": "code",
   "execution_count": 36,
   "metadata": {},
   "outputs": [
    {
     "name": "stdout",
     "output_type": "stream",
     "text": [
      "LoadError\n",
      "cannot load such file -- nonexist\n",
      "ensure code is executed\n"
     ]
    }
   ],
   "source": [
    "begin\n",
    "  require 'nonexist'\n",
    "rescue Exception => e\n",
    "  puts e.class, e.message\n",
    "else\n",
    "  puts \"code execute successful\"\n",
    "ensure\n",
    "  puts \"ensure code is executed\"\n",
    "end"
   ]
  },
  {
   "cell_type": "markdown",
   "metadata": {},
   "source": [
    "### 处理标准异常\n",
    "\n",
    "```ruby\n",
    "begin\n",
    "  do_something_dangerous\n",
    "rescue\n",
    "  do_something_when_error\n",
    "end\n",
    "```\n",
    "\n",
    "或者\n",
    "\n",
    "```ruby\n",
    "begin\n",
    "  do_something_dangerous\n",
    "rescue => e\n",
    "  fix_unknown_error(e)\n",
    "end\n",
    "```\n",
    "\n",
    "如果不指定异常类型，默认可以处理 `StandardError` 下的所有子类。"
   ]
  },
  {
   "cell_type": "code",
   "execution_count": 35,
   "metadata": {},
   "outputs": [
    {
     "name": "stdout",
     "output_type": "stream",
     "text": [
      "ZeroDivisionError\n",
      "divided by 0\n"
     ]
    }
   ],
   "source": [
    "begin\n",
    "  1 / 0\n",
    "rescue => e\n",
    "  puts e.class, e.message\n",
    "end"
   ]
  },
  {
   "cell_type": "code",
   "execution_count": 41,
   "metadata": {},
   "outputs": [
    {
     "ename": "LoadError",
     "evalue": "cannot load such file -- nonexists",
     "output_type": "error",
     "traceback": [
      "\u001b[31mLoadError\u001b[0m: cannot load such file -- nonexists",
      "\u001b[37m<main>:1:in `require'\u001b[0m",
      "\u001b[37m<main>:1:in `<main>'\u001b[0m",
      "\u001b[37m/usr/local/rvm/gems/ruby-2.4.1/bundler/gems/iruby-a2d7f8bcd676/lib/iruby/backend.rb:72:in `eval'\u001b[0m",
      "\u001b[37m/usr/local/rvm/gems/ruby-2.4.1/bundler/gems/iruby-a2d7f8bcd676/lib/iruby/backend.rb:72:in `block in eval'\u001b[0m",
      "\u001b[37m/usr/local/rvm/gems/ruby-2.4.1/bundler/gems/iruby-a2d7f8bcd676/lib/iruby/backend.rb:55:in `eval_with_magic'\u001b[0m",
      "\u001b[37m/usr/local/rvm/gems/ruby-2.4.1/bundler/gems/iruby-a2d7f8bcd676/lib/iruby/backend.rb:71:in `eval'\u001b[0m",
      "\u001b[37m/usr/local/rvm/gems/ruby-2.4.1/bundler/gems/iruby-a2d7f8bcd676/lib/iruby/backend.rb:13:in `eval'\u001b[0m",
      "\u001b[37m/usr/local/rvm/gems/ruby-2.4.1/bundler/gems/iruby-a2d7f8bcd676/lib/iruby/kernel.rb:87:in `execute_request'\u001b[0m",
      "\u001b[37m/usr/local/rvm/gems/ruby-2.4.1/bundler/gems/iruby-a2d7f8bcd676/lib/iruby/kernel.rb:47:in `dispatch'\u001b[0m",
      "\u001b[37m/usr/local/rvm/gems/ruby-2.4.1/bundler/gems/iruby-a2d7f8bcd676/lib/iruby/kernel.rb:37:in `run'\u001b[0m",
      "\u001b[37m/usr/local/rvm/gems/ruby-2.4.1/bundler/gems/iruby-a2d7f8bcd676/lib/iruby/command.rb:70:in `run_kernel'\u001b[0m",
      "\u001b[37m/usr/local/rvm/gems/ruby-2.4.1/bundler/gems/iruby-a2d7f8bcd676/lib/iruby/command.rb:34:in `run'\u001b[0m",
      "\u001b[37m/usr/local/rvm/gems/ruby-2.4.1/bundler/gems/iruby-a2d7f8bcd676/bin/iruby:5:in `<top (required)>'\u001b[0m",
      "\u001b[37m/usr/local/rvm/gems/ruby-2.4.1/bin/iruby:23:in `load'\u001b[0m",
      "\u001b[37m/usr/local/rvm/gems/ruby-2.4.1/bin/iruby:23:in `<main>'\u001b[0m",
      "\u001b[37m/usr/local/rvm/gems/ruby-2.4.1/bin/ruby_executable_hooks:15:in `eval'\u001b[0m",
      "\u001b[37m/usr/local/rvm/gems/ruby-2.4.1/bin/ruby_executable_hooks:15:in `<main>'\u001b[0m"
     ]
    }
   ],
   "source": [
    "begin\n",
    "  require 'nonexists'\n",
    "rescue\n",
    "  puts \"just can handle standard error\"\n",
    "end"
   ]
  },
  {
   "cell_type": "markdown",
   "metadata": {},
   "source": [
    "## 捕捉具体的错误类型"
   ]
  },
  {
   "cell_type": "code",
   "execution_count": 39,
   "metadata": {},
   "outputs": [
    {
     "name": "stdout",
     "output_type": "stream",
     "text": [
      "standard error:\n",
      "divided by 0\n"
     ]
    }
   ],
   "source": [
    "begin\n",
    "  100 / 0\n",
    "rescue ArgumentError, ZeroDivisionError => e\n",
    "  puts \"standard error:\", e.message  \n",
    "rescue LoadError => e\n",
    "  puts \"load error:\", e.message  \n",
    "end"
   ]
  },
  {
   "cell_type": "code",
   "execution_count": 40,
   "metadata": {},
   "outputs": [
    {
     "name": "stdout",
     "output_type": "stream",
     "text": [
      "load error:\n",
      "cannot load such file -- nonexist\n"
     ]
    }
   ],
   "source": [
    "begin\n",
    "  require 'nonexist'\n",
    "rescue ArgumentError, ZeroDivisionError => e\n",
    "  puts \"standard error:\", e.message  \n",
    "rescue LoadError => e\n",
    "  puts \"load error:\", e.message  \n",
    "end"
   ]
  },
  {
   "cell_type": "markdown",
   "metadata": {},
   "source": [
    "## 获取异常的具体信息\n",
    "\n",
    "可以使用 `Exception` 的方法 `message`, `backtrace` 获取更多的异常信息"
   ]
  },
  {
   "cell_type": "code",
   "execution_count": 49,
   "metadata": {
    "scrolled": true
   },
   "outputs": [
    {
     "name": "stdout",
     "output_type": "stream",
     "text": [
      "MESSAGE: divided by 0\n",
      "BACKTRACE: \n",
      " <main>:1:in `/'\n",
      "<main>:1:in `<main>'\n",
      "/usr/local/rvm/gems/ruby-2.4.1/bundler/gems/iruby-a2d7f8bcd676/lib/iruby/backend.rb:72:in `eval'\n",
      "/usr/local/rvm/gems/ruby-2.4.1/bundler/gems/iruby-a2d7f8bcd676/lib/iruby/backend.rb:72:in `block in eval'\n",
      "/usr/local/rvm/gems/ruby-2.4.1/bundler/gems/iruby-a2d7f8bcd676/lib/iruby/backend.rb:55:in `eval_with_magic'\n",
      "/usr/local/rvm/gems/ruby-2.4.1/bundler/gems/iruby-a2d7f8bcd676/lib/iruby/backend.rb:71:in `eval'\n",
      "/usr/local/rvm/gems/ruby-2.4.1/bundler/gems/iruby-a2d7f8bcd676/lib/iruby/backend.rb:13:in `eval'\n",
      "/usr/local/rvm/gems/ruby-2.4.1/bundler/gems/iruby-a2d7f8bcd676/lib/iruby/kernel.rb:87:in `execute_request'\n",
      "/usr/local/rvm/gems/ruby-2.4.1/bundler/gems/iruby-a2d7f8bcd676/lib/iruby/kernel.rb:47:in `dispatch'\n",
      "/usr/local/rvm/gems/ruby-2.4.1/bundler/gems/iruby-a2d7f8bcd676/lib/iruby/kernel.rb:37:in `run'\n",
      "/usr/local/rvm/gems/ruby-2.4.1/bundler/gems/iruby-a2d7f8bcd676/lib/iruby/command.rb:70:in `run_kernel'\n",
      "/usr/local/rvm/gems/ruby-2.4.1/bundler/gems/iruby-a2d7f8bcd676/lib/iruby/command.rb:34:in `run'\n",
      "/usr/local/rvm/gems/ruby-2.4.1/bundler/gems/iruby-a2d7f8bcd676/bin/iruby:5:in `<top (required)>'\n",
      "/usr/local/rvm/gems/ruby-2.4.1/bin/iruby:23:in `load'\n",
      "/usr/local/rvm/gems/ruby-2.4.1/bin/iruby:23:in `<main>'\n",
      "/usr/local/rvm/gems/ruby-2.4.1/bin/ruby_executable_hooks:15:in `eval'\n",
      "/usr/local/rvm/gems/ruby-2.4.1/bin/ruby_executable_hooks:15:in `<main>'\n"
     ]
    }
   ],
   "source": [
    "begin\n",
    "  1 / 0\n",
    "rescue => e\n",
    "  puts \"MESSAGE: #{e.message}\"\n",
    "  puts \"BACKTRACE: \\n #{e.backtrace.join(\"\\n\")}\"\n",
    "end"
   ]
  },
  {
   "cell_type": "markdown",
   "metadata": {},
   "source": [
    "## 抛出异常"
   ]
  },
  {
   "cell_type": "markdown",
   "metadata": {},
   "source": [
    "使用 `raise` 可以快速抛出异常："
   ]
  },
  {
   "cell_type": "code",
   "execution_count": 58,
   "metadata": {
    "scrolled": true
   },
   "outputs": [
    {
     "name": "stdout",
     "output_type": "stream",
     "text": [
      "ArgumentError\n",
      "Here is a exception\n"
     ]
    }
   ],
   "source": [
    "begin\n",
    "  raise ArgumentError, \"Here is a exception\"\n",
    "rescue => e\n",
    "  puts e.class, e.message\n",
    "end"
   ]
  },
  {
   "cell_type": "markdown",
   "metadata": {},
   "source": [
    "也可以不指定具体异常类型，默认异常为 `RuntimeError`"
   ]
  },
  {
   "cell_type": "code",
   "execution_count": 59,
   "metadata": {},
   "outputs": [
    {
     "name": "stdout",
     "output_type": "stream",
     "text": [
      "RuntimeError\n",
      "Here is a exception\n"
     ]
    }
   ],
   "source": [
    "begin\n",
    "  raise \"Here is a exception\"\n",
    "rescue => e\n",
    "  puts e.class, e.message\n",
    "end"
   ]
  },
  {
   "cell_type": "markdown",
   "metadata": {},
   "source": [
    "自定义异常"
   ]
  },
  {
   "cell_type": "code",
   "execution_count": 60,
   "metadata": {},
   "outputs": [
    {
     "name": "stdout",
     "output_type": "stream",
     "text": [
      "NoJuice\n",
      "need at least 1.21 jigawatts, but only had 1\n"
     ]
    }
   ],
   "source": [
    "class NoJuice < StandardError\n",
    "end\n",
    "\n",
    "def bang(power)\n",
    "  raise NoJuice, \"need at least 1.21 jigawatts, but only had #{power}\" unless power >= 1.21\n",
    "end\n",
    "\n",
    "begin\n",
    "  bang(1)\n",
    "rescue => e\n",
    "    puts e.class, e.message\n",
    "end"
   ]
  },
  {
   "cell_type": "markdown",
   "metadata": {},
   "source": [
    "## 其他"
   ]
  },
  {
   "cell_type": "markdown",
   "metadata": {},
   "source": [
    "### `else`\n",
    "\n",
    "如果 `begin` 代码块执行过程中，没有任何错误，则执行 `else` 代码块中的代码。 "
   ]
  },
  {
   "cell_type": "code",
   "execution_count": 61,
   "metadata": {},
   "outputs": [
    {
     "name": "stdout",
     "output_type": "stream",
     "text": [
      "Here is no error\n",
      "It should be executed\n"
     ]
    }
   ],
   "source": [
    "begin\n",
    "  puts \"Here is no error\"\n",
    "rescue\n",
    "  puts \"never executed\"\n",
    "else\n",
    "  puts \"It should be executed\"\n",
    "end"
   ]
  },
  {
   "cell_type": "markdown",
   "metadata": {},
   "source": [
    "### ensure\n",
    "\n",
    "`ensure` 代码块中的代码，无论是 `begin` 代码块中的代码是否执行错误，甚至是 `else`, `ensure` 代码块中的代码是否执行错误，都会被执行。"
   ]
  },
  {
   "cell_type": "code",
   "execution_count": 62,
   "metadata": {},
   "outputs": [
    {
     "name": "stdout",
     "output_type": "stream",
     "text": [
      "Here is no error\n",
      "It should be executed\n",
      "finally executed\n"
     ]
    }
   ],
   "source": [
    "begin\n",
    "  puts \"Here is no error\"\n",
    "rescue\n",
    "  puts \"never executed\"\n",
    "else\n",
    "  puts \"It should be executed\"\n",
    "ensure\n",
    "  puts \"finally executed\"\n",
    "end"
   ]
  },
  {
   "cell_type": "code",
   "execution_count": 63,
   "metadata": {},
   "outputs": [
    {
     "name": "stdout",
     "output_type": "stream",
     "text": [
      "finally executed\n"
     ]
    },
    {
     "ename": "RuntimeError",
     "evalue": "rescue is error",
     "output_type": "error",
     "traceback": [
      "\u001b[31mRuntimeError\u001b[0m: rescue is error",
      "\u001b[37m<main>:3:in `rescue in <main>'\u001b[0m",
      "\u001b[37m<main>:8:in `<main>'\u001b[0m",
      "\u001b[37m/usr/local/rvm/gems/ruby-2.4.1/bundler/gems/iruby-a2d7f8bcd676/lib/iruby/backend.rb:72:in `eval'\u001b[0m",
      "\u001b[37m/usr/local/rvm/gems/ruby-2.4.1/bundler/gems/iruby-a2d7f8bcd676/lib/iruby/backend.rb:72:in `block in eval'\u001b[0m",
      "\u001b[37m/usr/local/rvm/gems/ruby-2.4.1/bundler/gems/iruby-a2d7f8bcd676/lib/iruby/backend.rb:55:in `eval_with_magic'\u001b[0m",
      "\u001b[37m/usr/local/rvm/gems/ruby-2.4.1/bundler/gems/iruby-a2d7f8bcd676/lib/iruby/backend.rb:71:in `eval'\u001b[0m",
      "\u001b[37m/usr/local/rvm/gems/ruby-2.4.1/bundler/gems/iruby-a2d7f8bcd676/lib/iruby/backend.rb:13:in `eval'\u001b[0m",
      "\u001b[37m/usr/local/rvm/gems/ruby-2.4.1/bundler/gems/iruby-a2d7f8bcd676/lib/iruby/kernel.rb:87:in `execute_request'\u001b[0m",
      "\u001b[37m/usr/local/rvm/gems/ruby-2.4.1/bundler/gems/iruby-a2d7f8bcd676/lib/iruby/kernel.rb:47:in `dispatch'\u001b[0m",
      "\u001b[37m/usr/local/rvm/gems/ruby-2.4.1/bundler/gems/iruby-a2d7f8bcd676/lib/iruby/kernel.rb:37:in `run'\u001b[0m",
      "\u001b[37m/usr/local/rvm/gems/ruby-2.4.1/bundler/gems/iruby-a2d7f8bcd676/lib/iruby/command.rb:70:in `run_kernel'\u001b[0m",
      "\u001b[37m/usr/local/rvm/gems/ruby-2.4.1/bundler/gems/iruby-a2d7f8bcd676/lib/iruby/command.rb:34:in `run'\u001b[0m",
      "\u001b[37m/usr/local/rvm/gems/ruby-2.4.1/bundler/gems/iruby-a2d7f8bcd676/bin/iruby:5:in `<top (required)>'\u001b[0m",
      "\u001b[37m/usr/local/rvm/gems/ruby-2.4.1/bin/iruby:23:in `load'\u001b[0m",
      "\u001b[37m/usr/local/rvm/gems/ruby-2.4.1/bin/iruby:23:in `<main>'\u001b[0m",
      "\u001b[37m/usr/local/rvm/gems/ruby-2.4.1/bin/ruby_executable_hooks:15:in `eval'\u001b[0m",
      "\u001b[37m/usr/local/rvm/gems/ruby-2.4.1/bin/ruby_executable_hooks:15:in `<main>'\u001b[0m"
     ]
    }
   ],
   "source": [
    "begin\n",
    "  raise 'begin raise error'\n",
    "rescue\n",
    "  raise \"rescue is error\"\n",
    "else\n",
    "  puts \"never executed\"\n",
    "ensure\n",
    "  puts \"finally executed\"\n",
    "end"
   ]
  }
 ],
 "metadata": {
  "kernelspec": {
   "display_name": "Ruby 2.4.1",
   "language": "ruby",
   "name": "ruby"
  },
  "language_info": {
   "file_extension": ".rb",
   "mimetype": "application/x-ruby",
   "name": "ruby",
   "version": "2.4.1"
  }
 },
 "nbformat": 4,
 "nbformat_minor": 1
}
