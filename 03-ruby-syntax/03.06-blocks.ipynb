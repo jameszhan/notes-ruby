{
 "cells": [
  {
   "cell_type": "markdown",
   "metadata": {},
   "source": [
    "# 代码块"
   ]
  },
  {
   "cell_type": "markdown",
   "metadata": {},
   "source": [
    "## 简介\n",
    "\n",
    "**Block** 是 **Ruby** 的一个独特特性，它本质上就是一组代码，通过它，可以很容易实现回调，或传递一组代码（远比C的函数指针灵活），以及实现迭代器。这是一个不可思议的功能强大的特性。\n",
    "\n",
    "语法表现上，**Block** 是花括号或者`do`和`end`之间的一组代码，按照社区约定，我们可以通过以下两种方式来书写 **Block**\n",
    "\n",
    "- 多行，使用`do`和`end`作为开始和结束。\n",
    "- 单行，使用花括号"
   ]
  },
  {
   "cell_type": "code",
   "execution_count": 5,
   "metadata": {},
   "outputs": [
    {
     "name": "stdout",
     "output_type": "stream",
     "text": [
      "1\n",
      "2\n",
      "3\n",
      "1\n",
      "2\n",
      "3\n"
     ]
    },
    {
     "data": {
      "text/plain": [
       "[1, 2, 3]"
      ]
     },
     "execution_count": 5,
     "metadata": {},
     "output_type": "execute_result"
    }
   ],
   "source": [
    "[1, 2, 3].each do |i|\n",
    "  puts i\n",
    "end\n",
    "\n",
    "[1, 2, 3].each{ |i| puts i }"
   ]
  },
  {
   "cell_type": "markdown",
   "metadata": {},
   "source": [
    "## 概念\n",
    "\n",
    "**Block** 相关的一些术语\n",
    "\n",
    "- 闭包，`proc`，`lambda`, 函数，函数指针，匿名函数\n",
    "- 回调，`callable`，`functor`，`delegate`"
   ]
  },
  {
   "cell_type": "markdown",
   "metadata": {},
   "source": [
    "我们介绍下其中的几个概念。\n",
    "\n",
    "#### 闭包\n",
    "\n",
    "在计算机科学中，闭包（Closure）是词法闭包（Lexical Closure）的简称，是引用了自由变量的表达式（通常是函数）。这些被引用的自由变量将和这个函数一同存在，即使已经离开了创造它的环境也不例外。 词法作用域(lexical scope)等同于静态作用域(static scope)。所谓的词法作用域其实是指作用域在词法解析阶段既确定了，不会改变。\n",
    "\n",
    "闭包的数据结构可以定义为，包含一个函数定义 f 和它定义时所在的环境 (struct Closure (f env))\n",
    "\n",
    "- 全局函数是一个有名字但不会捕获任何值的闭包。\n",
    "- 嵌套函数是一个有名字并可以捕获其封闭函数域内值得闭包。\n",
    "- Lambda(闭包表达式)是一个利用轻量级语法所写的可以捕获其上下文中变量值的匿名闭包。\n",
    "\n",
    "#### 函数指针\n",
    "\n",
    "函数指针在`C`语言中用的比较多，本质上，它就是一个内存地址，只不过指向的是一块可执行代码的首地址。和闭包相比，它并没有附带定义该函数的上下文信息，也不负责指针类型检查。\n",
    "\n",
    "#### functor\n",
    "\n",
    "在`C++`中，`functor`是行为类似函数的对象，可以拥有成员函数和成员变量，即仿函数拥有状态，其本质和闭包很接近，只是用起来比较繁琐。\n",
    "\n",
    "#### delegate\n",
    "\n",
    "`C#`中的 `delegate` 类似于 `C` 或 `C++` 中的函数指针。使用 `delegate` 使程序员可以将方法引用封装在委托对象内。然后可以将该 ``delegate`` 对象传递给可调用所引用方法的代码，而不必在编译时知道将调用哪个方法。与C或C++中的函数指针不同，`delegate` 是面向对象、类型安全的，并且是安全的。"
   ]
  },
  {
   "cell_type": "markdown",
   "metadata": {},
   "source": [
    "## 可调用对象(`callable object`)\n",
    "\n",
    "**Ruby** 中，可调用对象是可执行的代码片段，它们都有自己的作用域，可调用对象有以下几种方式：\n",
    "\n",
    "- **Block**，在定义它们的作用域中执行，它是闭包的一种。\n",
    "- **proc**，`Proc` 类的对象，和块一样，它们也在定义自身的作用域中执行，它也是闭包的一种。\n",
    "- **lambda**，也是 `Proc` 类的对象，和块一样，它们也在定义自身的作用域中执行，它和 `proc` 用法有细微的区别，也是闭包的一种。\n",
    "- **Method**，绑定于对象，在所绑定对象的作用域中执行。"
   ]
  },
  {
   "cell_type": "code",
   "execution_count": 42,
   "metadata": {},
   "outputs": [
    {
     "name": "stdout",
     "output_type": "stream",
     "text": [
      "level1: [:level1_v, :level1, :level0_v]\n",
      "level2: [:level2_v, :level1_v, :level1, :level0_v]\n",
      "level3: [:level3_v, :level2_v, :level1_v, :level1, :level0_v]\n",
      "level1: [:level1_v, :level1, :level0_v]\n",
      "level2: [:level2_v, :level1_v, :level1, :level0_v]\n",
      "level3: [:level3_v, :level2_v, :level1_v, :level1, :level0_v]\n"
     ]
    }
   ],
   "source": [
    "def capture_block(&block)\n",
    "  block\n",
    "end\n",
    "\n",
    "level0_v = 'level0_v'\n",
    "lambda0 = lambda do\n",
    "  level1_v = 'level1_v'\n",
    "  proc0 = proc do\n",
    "    level2_v = 'level2_v'\n",
    "    block0 = capture_block do\n",
    "      level3_v = 'level3_v'\n",
    "      puts format(\"level3: %s\", binding.local_variables.grep(/level/))\n",
    "    end\n",
    "    puts format(\"level2: %s\", binding.local_variables.grep(/level/))\n",
    "    block0\n",
    "  end\n",
    "  puts format(\"level1: %s\", binding.local_variables.grep(/level/))\n",
    "  proc0\n",
    "end\n",
    "\n",
    "l2 = lambda0.call\n",
    "l3 = l2.call\n",
    "l3.call\n",
    "\n",
    "lambda0.call.call.call"
   ]
  },
  {
   "cell_type": "code",
   "execution_count": 17,
   "metadata": {},
   "outputs": [
    {
     "name": "stdout",
     "output_type": "stream",
     "text": [
      "c1 = 6, c2 = 3\n",
      "c1 = 3, c2 = 0\n",
      "c1 = 0, c2 = -3\n"
     ]
    }
   ],
   "source": [
    "def capture_block(&block)\n",
    "  block\n",
    "end\n",
    "\n",
    "def make_counter(n)\n",
    "  capture_block do\n",
    "    n -= 3\n",
    "  end\n",
    "end\n",
    "\n",
    "c1 = make_counter(9)\n",
    "c2 = make_counter(6)\n",
    "\n",
    "puts \"c1 = #{c1.call}, c2 = #{c2.call}\"\n",
    "puts \"c1 = #{c1.call}, c2 = #{c2.call}\"\n",
    "puts \"c1 = #{c1.call}, c2 = #{c2.call}\""
   ]
  },
  {
   "cell_type": "code",
   "execution_count": 18,
   "metadata": {},
   "outputs": [
    {
     "name": "stdout",
     "output_type": "stream",
     "text": [
      "c1 = 7, c2 = 4\n",
      "c1 = 5, c2 = 2\n",
      "c1 = 3, c2 = 0\n"
     ]
    }
   ],
   "source": [
    "def make_counter(n)\n",
    "    lambda{ n -= 2 }\n",
    "end\n",
    "\n",
    "c1 = make_counter(9)\n",
    "c2 = make_counter(6)\n",
    "\n",
    "puts \"c1 = #{c1.call}, c2 = #{c2.call}\"\n",
    "puts \"c1 = #{c1.call}, c2 = #{c2.call}\"\n",
    "puts \"c1 = #{c1.call}, c2 = #{c2.call}\""
   ]
  },
  {
   "cell_type": "code",
   "execution_count": 19,
   "metadata": {},
   "outputs": [
    {
     "name": "stdout",
     "output_type": "stream",
     "text": [
      "c1 = 8, c2 = 5\n",
      "c1 = 7, c2 = 4\n",
      "c1 = 6, c2 = 3\n"
     ]
    }
   ],
   "source": [
    "def make_counter(n)\n",
    "    proc{ n -= 1 }\n",
    "end\n",
    "\n",
    "c1 = make_counter(9)\n",
    "c2 = make_counter(6)\n",
    "\n",
    "puts \"c1 = #{c1.call}, c2 = #{c2.call}\"\n",
    "puts \"c1 = #{c1.call}, c2 = #{c2.call}\"\n",
    "puts \"c1 = #{c1.call}, c2 = #{c2.call}\""
   ]
  },
  {
   "cell_type": "markdown",
   "metadata": {},
   "source": [
    "## yield\n",
    "\n",
    "有别于其他语言，**Ruby** 中的 `yield` 是一种调用匿名函数的快捷方式。**Ruby** 有一种特殊的语法把匿名函数传递给一个方法，这种语法就是`Block`。"
   ]
  },
  {
   "cell_type": "code",
   "execution_count": 62,
   "metadata": {},
   "outputs": [
    {
     "name": "stdout",
     "output_type": "stream",
     "text": [
      "hi!\n",
      "hi!\n"
     ]
    }
   ],
   "source": [
    "def twice\n",
    "   yield\n",
    "   yield\n",
    "end\n",
    "\n",
    "twice do\n",
    "  puts \"hi!\"\n",
    "end"
   ]
  },
  {
   "cell_type": "markdown",
   "metadata": {},
   "source": [
    "**Ruby** 中对于所有方法，无论它的参数列表长什么样，它都可以在后面跟上一个可选的 `block` 参数。这个参数就叫做默认块，这个块可以使用 `yield` 来调用。"
   ]
  },
  {
   "cell_type": "code",
   "execution_count": 63,
   "metadata": {},
   "outputs": [
    {
     "data": {
      "text/plain": [
       "3"
      ]
     },
     "execution_count": 63,
     "metadata": {},
     "output_type": "execute_result"
    }
   ],
   "source": [
    "def add(a, b)\n",
    "  a + b\n",
    "end\n",
    "\n",
    "add(1, 2) do\n",
    "  puts \"This code never called without yield!\"\n",
    "end"
   ]
  },
  {
   "cell_type": "markdown",
   "metadata": {},
   "source": [
    "一个方法只能有一个 `block` 参数，如果显式地指定 `&block` 参数，则 `yield` 调用的就是 `&block` 传入的代码块。"
   ]
  },
  {
   "cell_type": "code",
   "execution_count": 69,
   "metadata": {},
   "outputs": [
    {
     "name": "stdout",
     "output_type": "stream",
     "text": [
      "3\n",
      "3\n"
     ]
    }
   ],
   "source": [
    "def op(a, b, &block)\n",
    "  puts block.call(a, b)\n",
    "  puts yield a, b\n",
    "end\n",
    "\n",
    "op(1, 2) do|i, j|\n",
    "  i + j\n",
    "end"
   ]
  },
  {
   "cell_type": "markdown",
   "metadata": {},
   "source": [
    "`&block` 只可以是最后一个方法参数，如果需要传入多个代码块到同一个方法，则其它对象需要使用 `Proc` 对象。"
   ]
  },
  {
   "cell_type": "code",
   "execution_count": 79,
   "metadata": {},
   "outputs": [
    {
     "ename": "SyntaxError",
     "evalue": "<main>: syntax error, unexpected ',', expecting ')'\ndef block_first(&block, a)\n                       ^",
     "output_type": "error",
     "traceback": [
      "\u001b[31mSyntaxError\u001b[0m: <main>: syntax error, unexpected ',', expecting ')'\ndef block_first(&block, a)\n                       ^",
      "\u001b[37m/usr/local/rvm/gems/ruby-2.4.1/bundler/gems/iruby-a2d7f8bcd676/lib/iruby/backend.rb:72:in `eval'\u001b[0m",
      "\u001b[37m/usr/local/rvm/gems/ruby-2.4.1/bundler/gems/iruby-a2d7f8bcd676/lib/iruby/backend.rb:72:in `block in eval'\u001b[0m",
      "\u001b[37m/usr/local/rvm/gems/ruby-2.4.1/bundler/gems/iruby-a2d7f8bcd676/lib/iruby/backend.rb:55:in `eval_with_magic'\u001b[0m",
      "\u001b[37m/usr/local/rvm/gems/ruby-2.4.1/bundler/gems/iruby-a2d7f8bcd676/lib/iruby/backend.rb:71:in `eval'\u001b[0m",
      "\u001b[37m/usr/local/rvm/gems/ruby-2.4.1/bundler/gems/iruby-a2d7f8bcd676/lib/iruby/backend.rb:13:in `eval'\u001b[0m",
      "\u001b[37m/usr/local/rvm/gems/ruby-2.4.1/bundler/gems/iruby-a2d7f8bcd676/lib/iruby/kernel.rb:87:in `execute_request'\u001b[0m",
      "\u001b[37m/usr/local/rvm/gems/ruby-2.4.1/bundler/gems/iruby-a2d7f8bcd676/lib/iruby/kernel.rb:47:in `dispatch'\u001b[0m",
      "\u001b[37m/usr/local/rvm/gems/ruby-2.4.1/bundler/gems/iruby-a2d7f8bcd676/lib/iruby/kernel.rb:37:in `run'\u001b[0m",
      "\u001b[37m/usr/local/rvm/gems/ruby-2.4.1/bundler/gems/iruby-a2d7f8bcd676/lib/iruby/command.rb:70:in `run_kernel'\u001b[0m",
      "\u001b[37m/usr/local/rvm/gems/ruby-2.4.1/bundler/gems/iruby-a2d7f8bcd676/lib/iruby/command.rb:34:in `run'\u001b[0m",
      "\u001b[37m/usr/local/rvm/gems/ruby-2.4.1/bundler/gems/iruby-a2d7f8bcd676/bin/iruby:5:in `<top (required)>'\u001b[0m",
      "\u001b[37m/usr/local/rvm/gems/ruby-2.4.1/bin/iruby:23:in `load'\u001b[0m",
      "\u001b[37m/usr/local/rvm/gems/ruby-2.4.1/bin/iruby:23:in `<main>'\u001b[0m",
      "\u001b[37m/usr/local/rvm/gems/ruby-2.4.1/bin/ruby_executable_hooks:15:in `eval'\u001b[0m",
      "\u001b[37m/usr/local/rvm/gems/ruby-2.4.1/bin/ruby_executable_hooks:15:in `<main>'\u001b[0m"
     ]
    }
   ],
   "source": [
    "def block_first(&block, a)\n",
    "end"
   ]
  },
  {
   "cell_type": "code",
   "execution_count": 81,
   "metadata": {},
   "outputs": [
    {
     "ename": "SyntaxError",
     "evalue": "<main>: syntax error, unexpected ',', expecting ')'\ndef multi_block(&block1, &block2)\n                        ^",
     "output_type": "error",
     "traceback": [
      "\u001b[31mSyntaxError\u001b[0m: <main>: syntax error, unexpected ',', expecting ')'\ndef multi_block(&block1, &block2)\n                        ^",
      "\u001b[37m/usr/local/rvm/gems/ruby-2.4.1/bundler/gems/iruby-a2d7f8bcd676/lib/iruby/backend.rb:72:in `eval'\u001b[0m",
      "\u001b[37m/usr/local/rvm/gems/ruby-2.4.1/bundler/gems/iruby-a2d7f8bcd676/lib/iruby/backend.rb:72:in `block in eval'\u001b[0m",
      "\u001b[37m/usr/local/rvm/gems/ruby-2.4.1/bundler/gems/iruby-a2d7f8bcd676/lib/iruby/backend.rb:55:in `eval_with_magic'\u001b[0m",
      "\u001b[37m/usr/local/rvm/gems/ruby-2.4.1/bundler/gems/iruby-a2d7f8bcd676/lib/iruby/backend.rb:71:in `eval'\u001b[0m",
      "\u001b[37m/usr/local/rvm/gems/ruby-2.4.1/bundler/gems/iruby-a2d7f8bcd676/lib/iruby/backend.rb:13:in `eval'\u001b[0m",
      "\u001b[37m/usr/local/rvm/gems/ruby-2.4.1/bundler/gems/iruby-a2d7f8bcd676/lib/iruby/kernel.rb:87:in `execute_request'\u001b[0m",
      "\u001b[37m/usr/local/rvm/gems/ruby-2.4.1/bundler/gems/iruby-a2d7f8bcd676/lib/iruby/kernel.rb:47:in `dispatch'\u001b[0m",
      "\u001b[37m/usr/local/rvm/gems/ruby-2.4.1/bundler/gems/iruby-a2d7f8bcd676/lib/iruby/kernel.rb:37:in `run'\u001b[0m",
      "\u001b[37m/usr/local/rvm/gems/ruby-2.4.1/bundler/gems/iruby-a2d7f8bcd676/lib/iruby/command.rb:70:in `run_kernel'\u001b[0m",
      "\u001b[37m/usr/local/rvm/gems/ruby-2.4.1/bundler/gems/iruby-a2d7f8bcd676/lib/iruby/command.rb:34:in `run'\u001b[0m",
      "\u001b[37m/usr/local/rvm/gems/ruby-2.4.1/bundler/gems/iruby-a2d7f8bcd676/bin/iruby:5:in `<top (required)>'\u001b[0m",
      "\u001b[37m/usr/local/rvm/gems/ruby-2.4.1/bin/iruby:23:in `load'\u001b[0m",
      "\u001b[37m/usr/local/rvm/gems/ruby-2.4.1/bin/iruby:23:in `<main>'\u001b[0m",
      "\u001b[37m/usr/local/rvm/gems/ruby-2.4.1/bin/ruby_executable_hooks:15:in `eval'\u001b[0m",
      "\u001b[37m/usr/local/rvm/gems/ruby-2.4.1/bin/ruby_executable_hooks:15:in `<main>'\u001b[0m"
     ]
    }
   ],
   "source": [
    "def multi_block(&block1, &block2)\n",
    "end"
   ]
  },
  {
   "cell_type": "code",
   "execution_count": 85,
   "metadata": {},
   "outputs": [
    {
     "name": "stdout",
     "output_type": "stream",
     "text": [
      "It is executed\n"
     ]
    }
   ],
   "source": [
    "def ifthen(predict, *args)\n",
    "  if predict.call(*args)\n",
    "    yield\n",
    "  else\n",
    "    puts \"Ignore\"\n",
    "  end\n",
    "end\n",
    "\n",
    "ifthen(lambda{ |m, n| m < n }, 1, 3) do\n",
    "  puts \"It is executed\"\n",
    "end"
   ]
  },
  {
   "cell_type": "markdown",
   "metadata": {},
   "source": [
    "## `proc` vs. `lamba`"
   ]
  },
  {
   "cell_type": "markdown",
   "metadata": {},
   "source": [
    "`proc` 和 `lambda` 之间的差异可能是 **Ruby** 中最令人费解的特性。"
   ]
  },
  {
   "cell_type": "code",
   "execution_count": 48,
   "metadata": {},
   "outputs": [
    {
     "name": "stdout",
     "output_type": "stream",
     "text": [
      "Proc called\n",
      "Lambda called\n"
     ]
    }
   ],
   "source": [
    "def run(callable)\n",
    "  puts callable.call\n",
    "end\n",
    "\n",
    "p = proc{ \"Proc called\" }\n",
    "l = lambda{ \"Lambda called\" }\n",
    "\n",
    "run(p)\n",
    "run(l)"
   ]
  },
  {
   "cell_type": "markdown",
   "metadata": {},
   "source": [
    "在 **Ruby** 中，最后一行的 `return` 关键字是经常可以省略的，但是在 `proc` 和 `lambda` 当中，加上 `return` 关键字后，他们的行为是不一致的。\n",
    "\n",
    "在 `lambda` 中，`return` 仅仅表示从这个 `lambda` 中返回，在 `proc` 当中，它不是从 `proc` 中返回，而是从定义 `proc` 的上下文中返回。"
   ]
  },
  {
   "cell_type": "code",
   "execution_count": 52,
   "metadata": {},
   "outputs": [
    {
     "name": "stdout",
     "output_type": "stream",
     "text": [
      "proc executed error unexpected return.\n",
      "Lambda called\n"
     ]
    }
   ],
   "source": [
    "def run(callable)\n",
    "  puts callable.call\n",
    "end\n",
    "\n",
    "p = proc{ return \"Proc called\" }\n",
    "l = lambda{ return \"Lambda called\" }\n",
    "\n",
    "begin \n",
    "  run(p)  \n",
    "rescue LocalJumpError => e\n",
    "  puts \"proc executed error #{e.message}.\"\n",
    "end\n",
    "\n",
    "run(l)"
   ]
  },
  {
   "cell_type": "markdown",
   "metadata": {},
   "source": [
    "`proc` 的行为比较诡异，更好的设计应该是从 `run` 方法返回，`lambda` 可以认为是一个方法调用，而 `proc` 则相当于把代码块插入到调用的位置去执行。\n",
    "\n",
    "```ruby\n",
    "def run(callable)\n",
    "    callable.call\n",
    "    ...\n",
    "end\n",
    "\n",
    "p = proc{ return \"Proc called\" }\n",
    "\n",
    "run(p)\n",
    "```\n",
    "\n",
    "如果不考虑闭包的绑定，展开的过程应该这样的。\n",
    "\n",
    "```ruby\n",
    "def run(callable)\n",
    "    return \"Proc called\"\n",
    "    ...\n",
    "end\n",
    "\n",
    "run\n",
    "```\n",
    "\n",
    "当执行到 `return \"Proc called\"` 的时候，原本应该返回到 `run` 的返回地址，但是因为 `proc` 记录的确是定义它的 `main` 返回地址，因此报错，它等价于如下的代码。"
   ]
  },
  {
   "cell_type": "code",
   "execution_count": 55,
   "metadata": {},
   "outputs": [
    {
     "name": "stdout",
     "output_type": "stream",
     "text": [
      "proc executed error unexpected return.\n"
     ]
    }
   ],
   "source": [
    "begin \n",
    "  return \"Proc called\"\n",
    "rescue LocalJumpError => e\n",
    "  puts \"proc executed error #{e.message}.\"\n",
    "end"
   ]
  },
  {
   "cell_type": "markdown",
   "metadata": {},
   "source": [
    "不过只要我们弄明白了这个坑点，倒是可以用来做一些有意思的事情。"
   ]
  },
  {
   "cell_type": "code",
   "execution_count": 61,
   "metadata": {},
   "outputs": [
    {
     "name": "stdout",
     "output_type": "stream",
     "text": [
      "10, 9, 8, 7, 6, 5, 4, 3, count down finish!\n",
      "10, 9, 8, 7, 6, 5, 4, 3, 2, 1, 0, count down finished by sentry!\n"
     ]
    }
   ],
   "source": [
    "def count_down_to(n)\n",
    "  sentry = proc do|n|\n",
    "    if n <= 0\n",
    "      return \"count down finished by sentry!\"\n",
    "    end\n",
    "  end\n",
    "  \n",
    "  10.downto(n) do|i|\n",
    "    print i, ', '\n",
    "    sentry.call(i)\n",
    "  end\n",
    "  \n",
    "  return \"count down finish!\"\n",
    "end\n",
    "\n",
    "puts count_down_to(3)\n",
    "puts count_down_to(-3)"
   ]
  },
  {
   "cell_type": "markdown",
   "metadata": {},
   "source": [
    "我们再来看 `block`，它的行为更像 `proc`，所以一般我们最好不要在 `block` 块中使用 `return`，除非你明确知道自己在干什么。"
   ]
  },
  {
   "cell_type": "code",
   "execution_count": 53,
   "metadata": {},
   "outputs": [
    {
     "name": "stdout",
     "output_type": "stream",
     "text": [
      "Block called\n",
      "block executed error unexpected return.\n"
     ]
    }
   ],
   "source": [
    "def capture_block(&block)\n",
    "  block\n",
    "end\n",
    "\n",
    "b1 = capture_block{ \"Block called\" }\n",
    "b2 = capture_block{ return \"Block called\" }\n",
    "\n",
    "begin \n",
    "  run(b1)\n",
    "  run(b2)\n",
    "rescue LocalJumpError => e\n",
    "  puts \"block executed error #{e.message}.\"\n",
    "end"
   ]
  },
  {
   "cell_type": "markdown",
   "metadata": {},
   "source": [
    "`proc` 和 `lambda` 还有点重要的区别来自他们检查参数的方式，`lambda` 总是检查传入的参数数量，如果和定义的不匹配，会抛出一个 `ArgumentError`。而 `proc` 则会把传递进来的参数调整为自己期望的参数形式，如果参数比期望的要多，`proc` 会忽略多余的参数，如果参数数量不足，那么对未指定的参数，proc会赋一个 `nil` 值。"
   ]
  },
  {
   "cell_type": "markdown",
   "metadata": {},
   "source": [
    "整体而言，`lambda` 更直观，也更像一个方法，它不仅对参数数量要求严格，而且在调用 `return` 时，只在 `lambda` 的代码块返回。基于这些原因，如没有使用到某些 `proc` 的特殊功能，应该总是优先选择使用 `lambda`。"
   ]
  }
 ],
 "metadata": {
  "kernelspec": {
   "display_name": "Ruby 2.4.1",
   "language": "ruby",
   "name": "ruby"
  },
  "language_info": {
   "file_extension": ".rb",
   "mimetype": "application/x-ruby",
   "name": "ruby",
   "version": "2.4.1"
  }
 },
 "nbformat": 4,
 "nbformat_minor": 1
}
