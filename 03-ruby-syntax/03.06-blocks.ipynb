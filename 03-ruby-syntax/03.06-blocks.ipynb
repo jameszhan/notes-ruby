{
 "cells": [
  {
   "cell_type": "markdown",
   "metadata": {},
   "source": [
    "# 代码块"
   ]
  },
  {
   "cell_type": "markdown",
   "metadata": {},
   "source": [
    "## 简介\n",
    "\n",
    "**Block** 是 **Ruby** 的一个独特特性，它本质上就是一组代码，通过它，可以很容易实现回调，或传递一组代码（远比C的函数指针灵活），以及实现迭代器。这是一个不可思议的功能强大的特性。\n",
    "\n",
    "语法表现上，**Block** 是花括号或者`do`和`end`之间的一组代码，按照社区约定，我们可以通过以下两种方式来书写 **Block**\n",
    "\n",
    "- 多行，使用`do`和`end`作为开始和结束。\n",
    "- 单行，使用花括号"
   ]
  },
  {
   "cell_type": "code",
   "execution_count": 5,
   "metadata": {},
   "outputs": [
    {
     "name": "stdout",
     "output_type": "stream",
     "text": [
      "1\n",
      "2\n",
      "3\n",
      "1\n",
      "2\n",
      "3\n"
     ]
    },
    {
     "data": {
      "text/plain": [
       "[1, 2, 3]"
      ]
     },
     "execution_count": 5,
     "metadata": {},
     "output_type": "execute_result"
    }
   ],
   "source": [
    "[1, 2, 3].each do |i|\n",
    "  puts i\n",
    "end\n",
    "\n",
    "[1, 2, 3].each{ |i| puts i }"
   ]
  },
  {
   "cell_type": "markdown",
   "metadata": {},
   "source": [
    "## 概念\n",
    "\n",
    "**Block** 相关的一些术语\n",
    "\n",
    "- 闭包，`proc`，`lambda`, 函数，函数指针，匿名函数\n",
    "- 回调，`callable`，`functor`，`delegate`"
   ]
  },
  {
   "cell_type": "markdown",
   "metadata": {},
   "source": [
    "我们介绍下其中的几个概念。\n",
    "\n",
    "#### 闭包\n",
    "\n",
    "在计算机科学中，闭包（Closure）是词法闭包（Lexical Closure）的简称，是引用了自由变量的表达式（通常是函数）。这些被引用的自由变量将和这个函数一同存在，即使已经离开了创造它的环境也不例外。 词法作用域(lexical scope)等同于静态作用域(static scope)。所谓的词法作用域其实是指作用域在词法解析阶段既确定了，不会改变。\n",
    "\n",
    "闭包的数据结构可以定义为，包含一个函数定义 f 和它定义时所在的环境 (struct Closure (f env))\n",
    "\n",
    "- 全局函数是一个有名字但不会捕获任何值的闭包。\n",
    "- 嵌套函数是一个有名字并可以捕获其封闭函数域内值得闭包。\n",
    "- Lambda(闭包表达式)是一个利用轻量级语法所写的可以捕获其上下文中变量值的匿名闭包。\n",
    "\n",
    "#### 函数指针\n",
    "\n",
    "函数指针在`C`语言中用的比较多，本质上，它就是一个内存地址，只不过指向的是一块可执行代码的首地址。和闭包相比，它并没有附带定义该函数的上下文信息，也不负责指针类型检查。\n",
    "\n",
    "#### functor\n",
    "\n",
    "在`C++`中，`functor`是行为类似函数的对象，可以拥有成员函数和成员变量，即仿函数拥有状态，其本质和闭包很接近，只是用起来比较繁琐。\n",
    "\n",
    "#### delegate\n",
    "\n",
    "`C#`中的 `delegate` 类似于 `C` 或 `C++` 中的函数指针。使用 `delegate` 使程序员可以将方法引用封装在委托对象内。然后可以将该 ``delegate`` 对象传递给可调用所引用方法的代码，而不必在编译时知道将调用哪个方法。与C或C++中的函数指针不同，`delegate` 是面向对象、类型安全的，并且是安全的。"
   ]
  },
  {
   "cell_type": "markdown",
   "metadata": {},
   "source": [
    "## 可调用对象(`callable object`)\n",
    "\n",
    "**Ruby** 中，可调用对象是可执行的代码片段，它们都有自己的作用域，可调用对象有以下几种方式：\n",
    "\n",
    "- **block**，在定义它们的作用域中执行，它是闭包的一种。\n",
    "- **proc**，`Proc` 类的对象，和块一样，它们也在定义自身的作用域中执行，它也是闭包的一种。\n",
    "- **lambda**，也是 `Proc` 类的对象，和块一样，它们也在定义自身的作用域中执行，它和 `proc` 用法有细微的区别，也是闭包的一种。\n",
    "- **method**，绑定于对象，在所绑定对象的作用域中执行。"
   ]
  },
  {
   "cell_type": "markdown",
   "metadata": {},
   "source": [
    "### `block`\n",
    "\n",
    "`block` 闭包测试要麻烦一些，因为很多时候，很多时候都是在定义它的作用域中直接执行它，达不到逃逸的效果，为了验证 `block` 的闭包特性，我们需要先把 `block` 捕获起来，然后再调用。"
   ]
  },
  {
   "cell_type": "code",
   "execution_count": 60,
   "metadata": {},
   "outputs": [
    {
     "name": "stdout",
     "output_type": "stream",
     "text": [
      "level_3\n",
      "[:level_2, :level_1, :level_0]\n"
     ]
    },
    {
     "data": {
      "text/plain": [
       "\"level0\""
      ]
     },
     "execution_count": 60,
     "metadata": {},
     "output_type": "execute_result"
    }
   ],
   "source": [
    "def capture_block(&block)\n",
    "  block\n",
    "end\n",
    "\n",
    "def clean_room\n",
    "  level_0 = \"level0\"\n",
    "  lambda do\n",
    "    level_1 = 'level_1'\n",
    "    proc do\n",
    "      level_2 = 'level_2'\n",
    "      capture_block do\n",
    "        level_3 = 'level_3'\n",
    "      end \n",
    "    end\n",
    "  end\n",
    "end\n",
    "\n",
    "callable = clean_room\n",
    "block0 = callable.call.call\n",
    "\n",
    "puts block0.call\n",
    "\n",
    "puts block0.binding.local_variables\n",
    "\n",
    "block0.binding.local_variable_get(:level_0)"
   ]
  },
  {
   "cell_type": "markdown",
   "metadata": {},
   "source": [
    "上面的例子中其实有一个不严谨的地方，捕获块的时候，其实有一个隐式的转换。\n",
    "\n",
    "上例中，`&block` 对应的就是代码块：\n",
    "\n",
    "```ruby\n",
    "do\n",
    "    level_3 = 'level_3'\n",
    "end \n",
    "```\n",
    "\n",
    "当去掉 `&` 直接访问 `block` 的时候，**Ruby** 会自动把 `&block` 对应的代码块封装成一个 `Proc` 对象。"
   ]
  },
  {
   "cell_type": "code",
   "execution_count": 61,
   "metadata": {},
   "outputs": [
    {
     "data": {
      "text/plain": [
       "Proc"
      ]
     },
     "execution_count": 61,
     "metadata": {},
     "output_type": "execute_result"
    }
   ],
   "source": [
    "block0.class"
   ]
  },
  {
   "cell_type": "markdown",
   "metadata": {},
   "source": [
    "`&block` 应该算是 **Ruby** 中的唯一一个不是对象的实体，它代表的是一组可以执行的代码，无法直接访问它，下面的代码会抛 `SyntaxError`。\n",
    "\n",
    "```ruby\n",
    "proc0 = Proc.new{ puts \"hello world\" }\n",
    "obj = &proc0\n",
    "```\n",
    "\n",
    "通过 `&` 运算符，我们可以在 `&block` 和 `Proc` 对象之间进行转换。"
   ]
  },
  {
   "cell_type": "code",
   "execution_count": 73,
   "metadata": {},
   "outputs": [
    {
     "data": {
      "text/plain": [
       "\"Hello World\""
      ]
     },
     "execution_count": 73,
     "metadata": {},
     "output_type": "execute_result"
    }
   ],
   "source": [
    "proc0 = Proc.new{ \"Hello World\" }\n",
    "\n",
    "def run\n",
    "  yield\n",
    "end\n",
    "\n",
    "run &proc0"
   ]
  },
  {
   "cell_type": "markdown",
   "metadata": {},
   "source": [
    "### proc"
   ]
  },
  {
   "cell_type": "code",
   "execution_count": 75,
   "metadata": {},
   "outputs": [
    {
     "name": "stdout",
     "output_type": "stream",
     "text": [
      "level_3\n",
      "[:level_2, :level_1, :level_0]\n"
     ]
    },
    {
     "data": {
      "text/plain": [
       "\"level0\""
      ]
     },
     "execution_count": 75,
     "metadata": {},
     "output_type": "execute_result"
    }
   ],
   "source": [
    "def clean_room\n",
    "  level_0 = \"level0\"\n",
    "  lambda do\n",
    "    level_1 = 'level_1'\n",
    "    proc do\n",
    "      level_2 = 'level_2'\n",
    "      proc do\n",
    "        level_3 = 'level_3'\n",
    "      end \n",
    "    end\n",
    "  end\n",
    "end\n",
    "\n",
    "callable = clean_room\n",
    "proc0 = callable.call.call\n",
    "\n",
    "puts proc0.call\n",
    "\n",
    "puts proc0.binding.local_variables\n",
    "\n",
    "proc0.binding.local_variable_get(:level_0)"
   ]
  },
  {
   "cell_type": "markdown",
   "metadata": {},
   "source": [
    "### lambda"
   ]
  },
  {
   "cell_type": "code",
   "execution_count": 76,
   "metadata": {},
   "outputs": [
    {
     "name": "stdout",
     "output_type": "stream",
     "text": [
      "level_3\n",
      "[:level_2, :level_1, :level_0]\n"
     ]
    },
    {
     "data": {
      "text/plain": [
       "\"level0\""
      ]
     },
     "execution_count": 76,
     "metadata": {},
     "output_type": "execute_result"
    }
   ],
   "source": [
    "def clean_room\n",
    "  level_0 = \"level0\"\n",
    "  lambda do\n",
    "    level_1 = 'level_1'\n",
    "    proc do\n",
    "      level_2 = 'level_2'\n",
    "      lambda do\n",
    "        level_3 = 'level_3'\n",
    "      end \n",
    "    end\n",
    "  end\n",
    "end\n",
    "\n",
    "callable = clean_room\n",
    "lambda0 = callable.call.call\n",
    "\n",
    "puts lambda0.call\n",
    "\n",
    "puts lambda0.binding.local_variables\n",
    "\n",
    "lambda0.binding.local_variable_get(:level_0)"
   ]
  },
  {
   "cell_type": "markdown",
   "metadata": {},
   "source": [
    "**ruby 1.9** 之后，`lambda`还可以使用更简便的 `->` 记法。"
   ]
  },
  {
   "cell_type": "code",
   "execution_count": 89,
   "metadata": {},
   "outputs": [
    {
     "name": "stdout",
     "output_type": "stream",
     "text": [
      "Hello World!\n",
      "3\n"
     ]
    }
   ],
   "source": [
    "->{ puts \"Hello World!\" }.call\n",
    "->(a, b){ puts a + b }.call(1, 2)"
   ]
  },
  {
   "cell_type": "markdown",
   "metadata": {},
   "source": [
    "`block`，`proc` 和 `lambda` 的区别，后面再重点介绍。\n",
    "\n",
    "再来看一个例子："
   ]
  },
  {
   "cell_type": "code",
   "execution_count": 18,
   "metadata": {},
   "outputs": [
    {
     "name": "stdout",
     "output_type": "stream",
     "text": [
      "c1 = 7, c2 = 4\n",
      "c1 = 5, c2 = 2\n",
      "c1 = 3, c2 = 0\n"
     ]
    }
   ],
   "source": [
    "def make_counter(n)\n",
    "    lambda{ n -= 2 }\n",
    "end\n",
    "\n",
    "c1 = make_counter(9)\n",
    "c2 = make_counter(6)\n",
    "\n",
    "puts \"c1 = #{c1.call}, c2 = #{c2.call}\"\n",
    "puts \"c1 = #{c1.call}, c2 = #{c2.call}\"\n",
    "puts \"c1 = #{c1.call}, c2 = #{c2.call}\""
   ]
  },
  {
   "cell_type": "code",
   "execution_count": 19,
   "metadata": {},
   "outputs": [
    {
     "name": "stdout",
     "output_type": "stream",
     "text": [
      "c1 = 8, c2 = 5\n",
      "c1 = 7, c2 = 4\n",
      "c1 = 6, c2 = 3\n"
     ]
    }
   ],
   "source": [
    "def make_counter(n)\n",
    "    proc{ n -= 1 }\n",
    "end\n",
    "\n",
    "c1 = make_counter(9)\n",
    "c2 = make_counter(6)\n",
    "\n",
    "puts \"c1 = #{c1.call}, c2 = #{c2.call}\"\n",
    "puts \"c1 = #{c1.call}, c2 = #{c2.call}\"\n",
    "puts \"c1 = #{c1.call}, c2 = #{c2.call}\""
   ]
  },
  {
   "cell_type": "markdown",
   "metadata": {},
   "source": [
    "## yield\n",
    "\n",
    "有别于其他语言，**Ruby** 中的 `yield` 是一种调用闭包的快捷方式。**Ruby** 有一种特殊的语法把匿名函数传递给一个方法，这种语法就是`block`。"
   ]
  },
  {
   "cell_type": "code",
   "execution_count": 62,
   "metadata": {},
   "outputs": [
    {
     "name": "stdout",
     "output_type": "stream",
     "text": [
      "hi!\n",
      "hi!\n"
     ]
    }
   ],
   "source": [
    "def twice\n",
    "   yield\n",
    "   yield\n",
    "end\n",
    "\n",
    "twice do\n",
    "  puts \"hi!\"\n",
    "end"
   ]
  },
  {
   "cell_type": "markdown",
   "metadata": {},
   "source": [
    "**Ruby** 中对于所有方法，无论它的参数列表长什么样，它都可以在后面跟上一个可选的 `&block`。\n",
    "\n",
    "```ruby\n",
    "def func(a, b, *args, *kwargs, &block)\n",
    "...\n",
    "end\n",
    "```\n",
    "\n",
    "`&block` 严格来说不是一个参数，更像是一个声明，它指示一组执行代码的地址，如果直接访问 `block` 则会把这组代码封装在 `Proc` 对象当中，并把引用赋值给 `block`。这个块也可以使用 `yield` 来调用，这样可以不用关心代码块的名称。\n",
    "\n",
    "如果显式地指定 `&block` 参数，则 `yield` 调用的就是 `&block` 传入的代码块。\n",
    "\n",
    "直观理解，`yield` 可以理解是一个占位，指示 `&block` 被调用的位置，并把 `&block` 所需参数传递过去。"
   ]
  },
  {
   "cell_type": "code",
   "execution_count": 82,
   "metadata": {},
   "outputs": [
    {
     "name": "stdout",
     "output_type": "stream",
     "text": [
      "3\n",
      "3\n"
     ]
    }
   ],
   "source": [
    "def op(a, b, &block)\n",
    "  puts block.call(a, b)\n",
    "  puts yield a, b\n",
    "end\n",
    "\n",
    "op(1, 2) do|i, j|\n",
    "  i + j\n",
    "end"
   ]
  },
  {
   "cell_type": "markdown",
   "metadata": {},
   "source": [
    "一个方法只能有一个 `&block` 参数，`&block` 只可以是最后一个方法参数。\n",
    "\n",
    "以下的方法定义，都会抛 `SyntaxError`。\n",
    "\n",
    "```ruby\n",
    "def multi_block(&block1, &block2); end      # 超过一个 block 参数\n",
    "```\n",
    "\n",
    "```ruby\n",
    "def block_first(&block, arg); end           # 出错，block 不是最后一个参数\n",
    "```"
   ]
  },
  {
   "cell_type": "markdown",
   "metadata": {},
   "source": [
    "如果需要传入多个代码块到同一个方法，则其它对象需要使用 **可调用对象**"
   ]
  },
  {
   "cell_type": "code",
   "execution_count": 43,
   "metadata": {},
   "outputs": [
    {
     "name": "stdout",
     "output_type": "stream",
     "text": [
      "lambda is executed\n",
      "proc is executed\n",
      "method is executed\n"
     ]
    }
   ],
   "source": [
    "def ifthen(predict, *args)\n",
    "  if predict.call(*args)\n",
    "    yield\n",
    "  else\n",
    "    puts \"Ignore\"\n",
    "  end\n",
    "end\n",
    "\n",
    "ifthen(lambda{ |m, n| m < n }, 1, 3) do\n",
    "  puts \"lambda is executed\"\n",
    "end\n",
    "\n",
    "ifthen(proc{ |i, j, k| i + j < k }, 1, 2, 8) do\n",
    "  puts \"proc is executed\"\n",
    "end\n",
    "\n",
    "def my_method(a, b)\n",
    "  a > b\n",
    "end\n",
    "\n",
    "ifthen(method(:my_method), 3, 1) do\n",
    "  puts \"method is executed\"\n",
    "end"
   ]
  },
  {
   "cell_type": "markdown",
   "metadata": {},
   "source": [
    "## block_given?\n",
    "\n",
    "任何方法在调用的时候后面都可以挂载一个**代码块**，尽管有时完全用不上这个**代码块**。"
   ]
  },
  {
   "cell_type": "code",
   "execution_count": 90,
   "metadata": {},
   "outputs": [
    {
     "data": {
      "text/plain": [
       "3"
      ]
     },
     "execution_count": 90,
     "metadata": {},
     "output_type": "execute_result"
    }
   ],
   "source": [
    "def add(a, b)\n",
    "  a + b\n",
    "end\n",
    "\n",
    "add(1, 2) do\n",
    "  puts \"This code never called without yield!\"\n",
    "end"
   ]
  },
  {
   "cell_type": "markdown",
   "metadata": {},
   "source": [
    "如果你定义的方法想使用**代码块**做点事情，那么你需要使用 `yield` 关键字或者 `&block`。\n",
    "\n",
    "但是一旦方法中使用了 `yield` 关键字或者 `block.call`，则方法在调用的时候必须跟上一个代码块，哪怕这个代码块什么都不做。"
   ]
  },
  {
   "cell_type": "code",
   "execution_count": 98,
   "metadata": {},
   "outputs": [
    {
     "name": "stdout",
     "output_type": "stream",
     "text": [
      "LocalJumpError: no block given (yield)\n"
     ]
    }
   ],
   "source": [
    "def f1(a, b)\n",
    "  yield a, b\n",
    "end\n",
    "\n",
    "f1(1, 2){}\n",
    "\n",
    "begin\n",
    "  f1(1, 2)\n",
    "rescue LocalJumpError => e\n",
    "  puts \"LocalJumpError: #{e.message}\"\n",
    "end"
   ]
  },
  {
   "cell_type": "code",
   "execution_count": 102,
   "metadata": {},
   "outputs": [
    {
     "name": "stdout",
     "output_type": "stream",
     "text": [
      "NoMethodError: undefined method `call' for nil:NilClass\n"
     ]
    }
   ],
   "source": [
    "def f2(a, b, &block)\n",
    "  block.call a, b\n",
    "end\n",
    "\n",
    "run(1, 2){}\n",
    "\n",
    "begin\n",
    "  f2(1, 2)\n",
    "rescue NoMethodError => e\n",
    "  puts \"NoMethodError: #{e.message}\"\n",
    "end"
   ]
  },
  {
   "cell_type": "markdown",
   "metadata": {},
   "source": [
    "如下两种方法定义是等效的：\n",
    "\n",
    "```ruby\n",
    "def f2(a, b, &block); yield a, b; end\n",
    "\n",
    "def f2(a, b); yield a, b; end\n",
    "```\n",
    "\n",
    "如果方法实现中，使用 `yield` 调用代码块的话，方法声明可以省掉 `&block`。如果单看方法声明，使用方完全意识不到使用该方法还必须挂一个代码块，否则就会抛出 `LocalJumpError`。\n",
    "\n",
    "基于以上原因， **Ruby** 提供了 `block_given?` 方法来判断方法后面是否挂了代码块，方便开发者在定义方法时能够考虑调用方忘记带上代码块的情形。"
   ]
  },
  {
   "cell_type": "code",
   "execution_count": 103,
   "metadata": {},
   "outputs": [],
   "source": [
    "def f1(a, b)\n",
    "  yield a, b if block_given?\n",
    "end\n",
    "\n",
    "def f2(a, b, &block)\n",
    "  block.call a, b if block_given?\n",
    "end\n",
    "\n",
    "f1(1, 2)\n",
    "f2(1, 2)"
   ]
  },
  {
   "cell_type": "markdown",
   "metadata": {},
   "source": [
    "## `yield` vs `block.call`\n",
    "\n",
    "理论上，`yield` 比 `block.call` 执行起来要高效一些，因为在调用之前需要先将 `&block` 转换成 `Proc` 对象。"
   ]
  },
  {
   "cell_type": "code",
   "execution_count": 106,
   "metadata": {},
   "outputs": [
    {
     "name": "stdout",
     "output_type": "stream",
     "text": [
      "Hello World\n"
     ]
    }
   ],
   "source": [
    "def f2(a, b, &block)\n",
    "  block.call a, b if block_given?\n",
    "end\n",
    "\n",
    "f2(1, 2){ puts \"Hello World\" }"
   ]
  },
  {
   "cell_type": "markdown",
   "metadata": {},
   "source": [
    "上面的代码，如果把过程展开，等价于："
   ]
  },
  {
   "cell_type": "code",
   "execution_count": 107,
   "metadata": {},
   "outputs": [
    {
     "name": "stdout",
     "output_type": "stream",
     "text": [
      "Hello World\n"
     ]
    }
   ],
   "source": [
    "def f2(a, b, &block)\n",
    "  if block_given?\n",
    "    blk = Proc.new &block \n",
    "    blk.call a, b\n",
    "  end\n",
    "end\n",
    "\n",
    "f2(1, 2){ puts \"Hello World\" }"
   ]
  },
  {
   "cell_type": "markdown",
   "metadata": {},
   "source": [
    "另外，使用匿名代码块的写法也要简洁一些，不过显式的代码块要灵活一些，你可以显式把 `block` 传递给其他被调用方法。"
   ]
  },
  {
   "cell_type": "code",
   "execution_count": 123,
   "metadata": {},
   "outputs": [
    {
     "name": "stdout",
     "output_type": "stream",
     "text": [
      "03.02-conditional-statements.ipynb\n",
      "03.04-iterators.ipynb\n",
      "03.10-ruby-meta-programming.ipynb\n",
      "03.11-ruby-style-guide.ipynb\n",
      "03.03-loop-statements.ipynb\n",
      "03.07-scope.ipynb\n",
      "03.01-assignment-statements.ipynb\n",
      "03.05-functions.ipynb\n",
      "03.06-blocks.ipynb\n",
      "03.09-exceptions.ipynb\n"
     ]
    }
   ],
   "source": [
    "def ls_files\n",
    "  Dir.glob(\"*.ipynb\") do |ipynb|\n",
    "    yield ipynb\n",
    "  end\n",
    "end\n",
    "\n",
    "ls_files{ |file| puts file }"
   ]
  },
  {
   "cell_type": "code",
   "execution_count": 124,
   "metadata": {},
   "outputs": [
    {
     "name": "stdout",
     "output_type": "stream",
     "text": [
      "03.02-conditional-statements.ipynb\n",
      "03.04-iterators.ipynb\n",
      "03.10-ruby-meta-programming.ipynb\n",
      "03.11-ruby-style-guide.ipynb\n",
      "03.03-loop-statements.ipynb\n",
      "03.07-scope.ipynb\n",
      "03.01-assignment-statements.ipynb\n",
      "03.05-functions.ipynb\n",
      "03.06-blocks.ipynb\n",
      "03.09-exceptions.ipynb\n"
     ]
    }
   ],
   "source": [
    "def ls_files2(&block)\n",
    "  Dir.glob(\"*.ipynb\", &block)\n",
    "end\n",
    "\n",
    "ls_files2{ |file| puts file }"
   ]
  },
  {
   "cell_type": "markdown",
   "metadata": {},
   "source": [
    "## `Symbol#to_proc`\n",
    "\n",
    "这种有点诡异的法术在Ruby程序员中很流行，请看下面的代码："
   ]
  },
  {
   "cell_type": "code",
   "execution_count": 129,
   "metadata": {},
   "outputs": [
    {
     "data": {
      "text/plain": [
       "[\"Bob\", \"Bill\", \"Heather\"]"
      ]
     },
     "execution_count": 129,
     "metadata": {},
     "output_type": "execute_result"
    }
   ],
   "source": [
    "names = ['bob' , 'bill' , 'heather' ]\n",
    "names.map { |name| name.capitalize }"
   ]
  },
  {
   "cell_type": "markdown",
   "metadata": {},
   "source": [
    "更简洁的写法"
   ]
  },
  {
   "cell_type": "code",
   "execution_count": 128,
   "metadata": {},
   "outputs": [
    {
     "data": {
      "text/plain": [
       "[\"Bob\", \"Bill\", \"Heather\"]"
      ]
     },
     "execution_count": 128,
     "metadata": {},
     "output_type": "execute_result"
    }
   ],
   "source": [
    "names = ['bob' , 'bill' , 'heather' ]\n",
    "names.map(&:capitalize)"
   ]
  },
  {
   "cell_type": "markdown",
   "metadata": {},
   "source": [
    "当`&`操作符作用于一个对象时，它会调用该对象的`to_proc`方法，先将其转化为一个`proc`对象，再把他转换为对应的代码块。\n",
    "\n",
    "`:capitalize` 是 `Symbol` 类的实例, `Symbol` 中的 `to_proc` 方法的实现类似于：\n",
    "\n",
    "```ruby\n",
    "class Symbol\n",
    "    def to_proc\n",
    "        Proc.new {|x| x.send(self) }\n",
    "    end\n",
    "end\n",
    "```\n",
    "\n",
    "上面的代码等价于："
   ]
  },
  {
   "cell_type": "code",
   "execution_count": 132,
   "metadata": {},
   "outputs": [
    {
     "data": {
      "text/plain": [
       "[\"Bob\", \"Bill\", \"Heather\"]"
      ]
     },
     "execution_count": 132,
     "metadata": {},
     "output_type": "execute_result"
    }
   ],
   "source": [
    "names = ['bob' , 'bill' , 'heather' ]\n",
    "block = :capitalize.to_proc\n",
    "names.map(&block)"
   ]
  },
  {
   "cell_type": "markdown",
   "metadata": {},
   "source": [
    "## `proc` vs. `lamba`"
   ]
  },
  {
   "cell_type": "markdown",
   "metadata": {},
   "source": [
    "`proc` 和 `lambda` 之间的差异可能是 **Ruby** 中最令人费解的特性。"
   ]
  },
  {
   "cell_type": "code",
   "execution_count": 48,
   "metadata": {},
   "outputs": [
    {
     "name": "stdout",
     "output_type": "stream",
     "text": [
      "Proc called\n",
      "Lambda called\n"
     ]
    }
   ],
   "source": [
    "def run(callable)\n",
    "  puts callable.call\n",
    "end\n",
    "\n",
    "p = proc{ \"Proc called\" }\n",
    "l = lambda{ \"Lambda called\" }\n",
    "\n",
    "run(p)\n",
    "run(l)"
   ]
  },
  {
   "cell_type": "markdown",
   "metadata": {},
   "source": [
    "在 **Ruby** 中，最后一行的 `return` 关键字是经常可以省略的，但是在 `proc` 和 `lambda` 当中，加上 `return` 关键字后，他们的行为是不一致的。\n",
    "\n",
    "在 `lambda` 中，`return` 仅仅表示从这个 `lambda` 中返回，在 `proc` 当中，它不是从 `proc` 中返回，而是从定义 `proc` 的上下文中返回。"
   ]
  },
  {
   "cell_type": "code",
   "execution_count": 17,
   "metadata": {},
   "outputs": [
    {
     "data": {
      "text/plain": [
       ":run"
      ]
     },
     "execution_count": 17,
     "metadata": {},
     "output_type": "execute_result"
    }
   ],
   "source": [
    "def run(callable)\n",
    "  puts \"before callable called\"\n",
    "  puts callable.call\n",
    "  puts \"after callable called\"\n",
    "end"
   ]
  },
  {
   "cell_type": "code",
   "execution_count": 18,
   "metadata": {},
   "outputs": [
    {
     "name": "stdout",
     "output_type": "stream",
     "text": [
      "before callable with bindings([:_i13, :_13, :_i12, :_12, :_i11, :_11, :_i10, :_10, :_i9, :_9, :_i8, :_8, :_i7, :_7, :_i6, :_6, :_i5, :_5, :_i4, :_4, :_i3, :_3, :l, :_i2, :_2, :e, :p, :_i, :_ii, :_iii, :_, :__, :___, :_i1, :_1, :_oh, :_ih, :title]) called\n",
      "Lambda called\n",
      "after callable called\n"
     ]
    }
   ],
   "source": [
    "l = lambda{ return \"Lambda called\" }\n",
    "run(l)"
   ]
  },
  {
   "cell_type": "markdown",
   "metadata": {},
   "source": [
    "`proc` 的行为比较诡异，更好的设计应该是从 `run` 方法返回，`lambda` 更像是一个方法调用，而 `proc` 则相当于把代码块插入到调用的位置去执行，上面的执行代码等价于："
   ]
  },
  {
   "cell_type": "code",
   "execution_count": 24,
   "metadata": {},
   "outputs": [
    {
     "name": "stdout",
     "output_type": "stream",
     "text": [
      "before callable called\n",
      "proc executed error unexpected return.\n"
     ]
    }
   ],
   "source": [
    "def run(code, binding)\n",
    "  puts \"before callable called\"\n",
    "  puts eval(code, binding)\n",
    "  puts \"after callable called\"\n",
    "end\n",
    "\n",
    "p = proc{ return \"Proc called\" }\n",
    "\n",
    "begin \n",
    "  run('return \"Proc called\"', p.binding)  \n",
    "rescue LocalJumpError => e\n",
    "  puts \"proc executed error #{e.message}.\"\n",
    "end"
   ]
  },
  {
   "cell_type": "markdown",
   "metadata": {},
   "source": [
    "当执行到 `return \"Proc called\"` 的时候，原本应该返回到 `run` 的返回地址，但是因为 `proc` 记录的确是定义它的 `main` 返回地址，因此报错，如果不考虑绑定，更直观的展开如下。\n",
    "\n",
    "```ruby\n",
    "def run()\n",
    "  puts \"before callable called\"\n",
    "  puts return \"Proc called\"\n",
    "  puts \"after callable called\"\n",
    "end\n",
    "\n",
    "run\n",
    "```"
   ]
  },
  {
   "cell_type": "code",
   "execution_count": 4,
   "metadata": {},
   "outputs": [
    {
     "name": "stdout",
     "output_type": "stream",
     "text": [
      "before callable called\n",
      "proc executed error unexpected return.\n"
     ]
    }
   ],
   "source": [
    "def run(callable)\n",
    "  puts \"before callable called\"\n",
    "  callable.call\n",
    "  puts \"after callable called\"\n",
    "end\n",
    "\n",
    "p = proc{ return \"proc called\" }\n",
    "  \n",
    "begin \n",
    "  run(p)  \n",
    "rescue LocalJumpError => e\n",
    "  puts \"proc executed error #{e.message}.\"\n",
    "end"
   ]
  },
  {
   "cell_type": "code",
   "execution_count": 55,
   "metadata": {},
   "outputs": [
    {
     "name": "stdout",
     "output_type": "stream",
     "text": [
      "proc executed error unexpected return.\n"
     ]
    }
   ],
   "source": [
    "begin \n",
    "  return \"Proc called\"\n",
    "rescue LocalJumpError => e\n",
    "  puts \"proc executed error #{e.message}.\"\n",
    "end"
   ]
  },
  {
   "cell_type": "markdown",
   "metadata": {},
   "source": [
    "不过只要我们弄明白了这个坑点，倒是可以用来做一些有意思的事情。"
   ]
  },
  {
   "cell_type": "code",
   "execution_count": 2,
   "metadata": {},
   "outputs": [
    {
     "name": "stdout",
     "output_type": "stream",
     "text": [
      "10, 9, 8, 7, 6, 5, 4, 3, count down finish!\n",
      "10, 9, 8, 7, 6, 5, 4, 3, 2, 1, 0, count down finished by sentry!\n"
     ]
    }
   ],
   "source": [
    "def count_down_to(n)\n",
    "  sentry = proc do|n|\n",
    "    if n <= 0\n",
    "      return \"count down finished by sentry!\"\n",
    "    end\n",
    "  end\n",
    "  \n",
    "  l = lambda{ |i| sentry.call(i) }\n",
    "  \n",
    "  10.downto(n) do|i|\n",
    "    print i, ', '\n",
    "    lambda{ l.call(i) }.call\n",
    "  end\n",
    "  \n",
    "  return \"count down finish!\"\n",
    "end\n",
    "\n",
    "puts count_down_to(3)\n",
    "puts count_down_to(-3)"
   ]
  },
  {
   "cell_type": "markdown",
   "metadata": {},
   "source": [
    "`proc` 和 `lambda` 还有点重要的区别来自他们检查参数的方式，`lambda` 总是检查传入的参数数量，如果和定义的不匹配，会抛出一个 `ArgumentError`。而 `proc` 则会把传递进来的参数调整为自己期望的参数形式，如果参数比期望的要多，`proc` 会忽略多余的参数，如果参数数量不足，那么对未指定的参数，proc会赋一个 `nil` 值。"
   ]
  },
  {
   "cell_type": "markdown",
   "metadata": {},
   "source": [
    "我们再来看 `block`，它的行为更像 `proc`，所以一般我们最好不要在 `block` 块中使用 `return`，除非你明确知道自己在干什么。"
   ]
  },
  {
   "cell_type": "code",
   "execution_count": 84,
   "metadata": {},
   "outputs": [
    {
     "name": "stdout",
     "output_type": "stream",
     "text": [
      "before callable called\n",
      "Block called\n",
      "after callable called\n",
      "before callable called\n",
      "Do not check the arguments\n",
      "after callable called\n",
      "before callable called\n",
      "block executed error unexpected return.\n"
     ]
    }
   ],
   "source": [
    "def run()\n",
    "  puts \"before callable called\"\n",
    "  puts yield\n",
    "  puts \"after callable called\"\n",
    "end\n",
    "\n",
    "run{ \"Block called\" }\n",
    "run{ |arg1, arg2| \"Do not check the arguments\" }\n",
    "\n",
    "begin \n",
    "  run{ return \"Block called\" }\n",
    "rescue LocalJumpError => e\n",
    "  puts \"block executed error #{e.message}.\"\n",
    "end"
   ]
  },
  {
   "cell_type": "markdown",
   "metadata": {},
   "source": [
    "整体而言，`lambda` 更直观，也更像一个方法，它不仅对参数数量要求严格，而且在调用 `return` 时，只在 `lambda` 的代码块返回。基于这些原因，如没有使用到某些 `proc` 的特殊功能，应该总是优先选择使用 `lambda`。"
   ]
  }
 ],
 "metadata": {
  "kernelspec": {
   "display_name": "Ruby 2.4.1",
   "language": "ruby",
   "name": "ruby"
  },
  "language_info": {
   "file_extension": ".rb",
   "mimetype": "application/x-ruby",
   "name": "ruby",
   "version": "2.4.1"
  }
 },
 "nbformat": 4,
 "nbformat_minor": 1
}
