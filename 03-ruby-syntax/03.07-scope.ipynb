{
 "cells": [
  {
   "cell_type": "markdown",
   "metadata": {},
   "source": [
    "# 作用域"
   ]
  },
  {
   "cell_type": "markdown",
   "metadata": {},
   "source": [
    "作用域是指变量名的有效范围，是为了解决开发过程中变量名冲突发展起来的概念。"
   ]
  },
  {
   "cell_type": "markdown",
   "metadata": {},
   "source": [
    "**Ruby** 语言是赋值即变量定义的语言，他没有与 **JavaScript** 语言的 `var x` 和 **Java** 的 `String str` 相当的变量声明。执行函数中的语句就定义了局部变量。"
   ]
  },
  {
   "cell_type": "code",
   "execution_count": 18,
   "metadata": {},
   "outputs": [
    {
     "data": {
      "text/plain": [
       "1"
      ]
     },
     "execution_count": 18,
     "metadata": {},
     "output_type": "execute_result"
    }
   ],
   "source": [
    "x = 1\n",
    "def change_x\n",
    "  x = 2\n",
    "end\n",
    "\n",
    "change_x\n",
    "x"
   ]
  },
  {
   "cell_type": "code",
   "execution_count": 28,
   "metadata": {},
   "outputs": [
    {
     "name": "stdout",
     "output_type": "stream",
     "text": [
      "Writing change_x.py\n"
     ]
    }
   ],
   "source": [
    "%%file change_x.py\n",
    "\n",
    "x = 1\n",
    "def change_x():\n",
    "  x = 2\n",
    "\n",
    "change_x()\n",
    "print(\"x = {0}\".format(x))"
   ]
  },
  {
   "cell_type": "code",
   "execution_count": 29,
   "metadata": {},
   "outputs": [
    {
     "name": "stdout",
     "output_type": "stream",
     "text": [
      "x = 1\n",
      "\n"
     ]
    }
   ],
   "source": [
    "puts `python change_x.py`"
   ]
  },
  {
   "cell_type": "markdown",
   "metadata": {},
   "source": [
    "如你所料，`x` 的值并没有真正被修改。这和 **Python** 表现是一致的，但是其深层的原理却有比较大的差别。\n",
    "\n",
    "在 **Python** 中，`change_x` 是一个闭包，它可以看到外部的 `x`，之所以没有修改成功，是因为 `change_x` 重新定义了本地变量 `x`，并把 `2` 赋值给了 `x`。\n",
    "\n",
    "在 **Ruby** 中，`change_x` 则是打开了一个全新的作用域，它是无法访问到外部的变量 `x` 的。"
   ]
  },
  {
   "cell_type": "code",
   "execution_count": 30,
   "metadata": {},
   "outputs": [
    {
     "name": "stdout",
     "output_type": "stream",
     "text": [
      "Writing check_x.py\n"
     ]
    }
   ],
   "source": [
    "%%file check_x.py\n",
    "\n",
    "x = 1\n",
    "def check_x():\n",
    "  print(\"I can see x = {0} in check_x.\".format(x))\n",
    "\n",
    "check_x()"
   ]
  },
  {
   "cell_type": "code",
   "execution_count": 31,
   "metadata": {},
   "outputs": [
    {
     "name": "stdout",
     "output_type": "stream",
     "text": [
      "I can see x = 1 in check_x.\n",
      "\n"
     ]
    }
   ],
   "source": [
    "puts `python check_x.py`"
   ]
  },
  {
   "cell_type": "markdown",
   "metadata": {},
   "source": [
    "## Scope Gate\n",
    "\n",
    "每个 **Ruby** 作用域包含一组绑定，并且不同的作用域之间被 **Scope Gate** 分割开来。**Scope Gate** 的作用是关闭前一个作用域，同时打开一个新的作用域。**Ruby** 中使用 `class`，`module` 或 `def` 关键字来隔离作用域，也就是充当 **Scope Gate**。"
   ]
  },
  {
   "cell_type": "code",
   "execution_count": 5,
   "metadata": {},
   "outputs": [
    {
     "name": "stdout",
     "output_type": "stream",
     "text": [
      "enter MyModule locals: [:module1]\n",
      "enter MyClass locals: [:class2]\n",
      "exit MyClass locals: [:class2]\n",
      "exit MyModule locals: [:module1]\n",
      "my_method locals: [:method_3]\n",
      "my_method locals: [:method_3]\n",
      "main locals: [:_i4, :_4, :_i3, :_3, :_i2, :_2, :_i, :_ii, :_iii, :_, :__, :___, :_i1, :_1, :main0, :obj, :_oh, :_ih, :title]\n"
     ]
    }
   ],
   "source": [
    "main0 = 'main0'\n",
    "\n",
    "module MyModule\n",
    "  module1 = 'module1'\n",
    "  puts \"enter MyModule locals: #{local_variables}\"\n",
    "  \n",
    "  class MyClass\n",
    "    class2 = 'class2'\n",
    "    puts \"enter MyClass locals: #{local_variables}\"\n",
    "    \n",
    "    def my_method\n",
    "      method_3 = 'method3'\n",
    "      puts \"my_method locals: #{local_variables}\"\n",
    "    end\n",
    "    \n",
    "    puts \"exit MyClass locals: #{local_variables}\"\n",
    "  end\n",
    "  \n",
    "  puts \"exit MyModule locals: #{local_variables}\"\n",
    "end\n",
    "    \n",
    "obj = MyModule::MyClass.new\n",
    "obj.my_method\n",
    "obj.my_method\n",
    "  \n",
    "puts \"main locals: #{local_variables}\""
   ]
  },
  {
   "cell_type": "markdown",
   "metadata": {},
   "source": [
    "容易看出程序打开了五个独立的作用域\n",
    "\n",
    "- 顶级作用域（`main0` 所在的作用域）\n",
    "- 进入 `MyModule` 时创建的作用域\n",
    "- 进入 `MyClass` 时创建的作用域\n",
    "- 第一次调用 `my_method()` 方法时创建的一个作用域\n",
    "- 第二次调用 `my_method()` 方法时创建的一个作用域\n",
    "\n",
    "如何知道每次调用同一方法时会重新创建新的作用域而不是重用已有的，我们通过一个程序来验证。"
   ]
  },
  {
   "cell_type": "code",
   "execution_count": 22,
   "metadata": {},
   "outputs": [
    {
     "name": "stdout",
     "output_type": "stream",
     "text": [
      "my_method locals: [:v]\n",
      "my_method locals: [:v]\n",
      "v in binding1 is 58\n",
      "v in binding2 is 27\n",
      "binding1 variables is [:v2, :v]\n",
      "binding2 variables is [:v]\n"
     ]
    }
   ],
   "source": [
    "class MyClass\n",
    "  def my_method\n",
    "    v = rand(1..100)\n",
    "    puts \"my_method locals: #{local_variables}\"\n",
    "    binding\n",
    "  end \n",
    "end\n",
    "\n",
    "obj = MyClass.new\n",
    "binding1 = obj.my_method\n",
    "binding2 = obj.my_method\n",
    "\n",
    "puts \"v in binding1 is #{binding1.local_variable_get(:v)}\"\n",
    "puts \"v in binding2 is #{binding2.local_variable_get(:v)}\"\n",
    "\n",
    "binding1.local_variable_set(:v2, 1)\n",
    "\n",
    "puts \"binding1 variables is #{binding1.local_variables}\"\n",
    "puts \"binding2 variables is #{binding2.local_variables}\""
   ]
  },
  {
   "cell_type": "markdown",
   "metadata": {},
   "source": [
    "`class` / `module` 与 `def` 之间还有一点微妙的差别，在类和模块定义中的代码会被立即执行，相反，方法定义中的代码只有在方法被调用的时候才会被执行。"
   ]
  },
  {
   "cell_type": "markdown",
   "metadata": {},
   "source": [
    "## 顶级作用域（Top Level Scope）\n",
    "\n",
    "当开始运行 **Ruby** 程序时，**Ruby** 虚拟机会创建一个名为 `main` 的对象作为当前对象，这个对象被称为顶级上下文，这个名字的由来是因为这时处在调用栈的顶层，这时要么还没调用任何方法，要么调用的所有方法都已经返回了。"
   ]
  },
  {
   "cell_type": "code",
   "execution_count": 24,
   "metadata": {},
   "outputs": [
    {
     "name": "stdout",
     "output_type": "stream",
     "text": [
      "main\n",
      "Object\n",
      "[:_i20, :_20, :_i19, :_19, :_i18, :_18, :_i17, :_17, :_i16, :_16, :_i15, :_15, :_i14, :_14, :_i13, :_13, :_i12, :_12, :binding1, :binding2, :_i11, :_11, :_i10, :_10, :_i9, :_9, :_i8, :_8, :_i7, :_7, :_i6, :_6, :_i5, :_5, :_i4, :_4, :_i3, :_3, :_i2, :_2, :_i, :_ii, :_iii, :_, :__, :___, :_i1, :_1, :main0, :obj, :_oh, :_ih, :title]\n"
     ]
    }
   ],
   "source": [
    "puts self\n",
    "puts self.class\n",
    "puts local_variables"
   ]
  },
  {
   "cell_type": "code",
   "execution_count": 27,
   "metadata": {},
   "outputs": [
    {
     "ename": "NoMethodError",
     "evalue": "private method `binding' called for main:Object",
     "output_type": "error",
     "traceback": [
      "\u001b[31mNoMethodError\u001b[0m: private method `binding' called for main:Object",
      "\u001b[37m<main>:in `<main>'\u001b[0m",
      "\u001b[37m/usr/local/rvm/gems/ruby-2.4.1/bundler/gems/iruby-a2d7f8bcd676/lib/iruby/backend.rb:72:in `eval'\u001b[0m",
      "\u001b[37m/usr/local/rvm/gems/ruby-2.4.1/bundler/gems/iruby-a2d7f8bcd676/lib/iruby/backend.rb:72:in `block in eval'\u001b[0m",
      "\u001b[37m/usr/local/rvm/gems/ruby-2.4.1/bundler/gems/iruby-a2d7f8bcd676/lib/iruby/backend.rb:55:in `eval_with_magic'\u001b[0m",
      "\u001b[37m/usr/local/rvm/gems/ruby-2.4.1/bundler/gems/iruby-a2d7f8bcd676/lib/iruby/backend.rb:71:in `eval'\u001b[0m",
      "\u001b[37m/usr/local/rvm/gems/ruby-2.4.1/bundler/gems/iruby-a2d7f8bcd676/lib/iruby/backend.rb:13:in `eval'\u001b[0m",
      "\u001b[37m/usr/local/rvm/gems/ruby-2.4.1/bundler/gems/iruby-a2d7f8bcd676/lib/iruby/kernel.rb:87:in `execute_request'\u001b[0m",
      "\u001b[37m/usr/local/rvm/gems/ruby-2.4.1/bundler/gems/iruby-a2d7f8bcd676/lib/iruby/kernel.rb:47:in `dispatch'\u001b[0m",
      "\u001b[37m/usr/local/rvm/gems/ruby-2.4.1/bundler/gems/iruby-a2d7f8bcd676/lib/iruby/kernel.rb:37:in `run'\u001b[0m",
      "\u001b[37m/usr/local/rvm/gems/ruby-2.4.1/bundler/gems/iruby-a2d7f8bcd676/lib/iruby/command.rb:70:in `run_kernel'\u001b[0m",
      "\u001b[37m/usr/local/rvm/gems/ruby-2.4.1/bundler/gems/iruby-a2d7f8bcd676/lib/iruby/command.rb:34:in `run'\u001b[0m",
      "\u001b[37m/usr/local/rvm/gems/ruby-2.4.1/bundler/gems/iruby-a2d7f8bcd676/bin/iruby:5:in `<top (required)>'\u001b[0m",
      "\u001b[37m/usr/local/rvm/gems/ruby-2.4.1/bin/iruby:23:in `load'\u001b[0m",
      "\u001b[37m/usr/local/rvm/gems/ruby-2.4.1/bin/iruby:23:in `<main>'\u001b[0m",
      "\u001b[37m/usr/local/rvm/gems/ruby-2.4.1/bin/ruby_executable_hooks:15:in `eval'\u001b[0m",
      "\u001b[37m/usr/local/rvm/gems/ruby-2.4.1/bin/ruby_executable_hooks:15:in `<main>'\u001b[0m"
     ]
    }
   ],
   "source": [
    "self.binding.local_variables"
   ]
  },
  {
   "cell_type": "markdown",
   "metadata": {},
   "source": [
    "\n",
    "\n",
    "变量的作用域及生命周期的关系。\n",
    "\n",
    "\n",
    "静态语义（保持一致）\n",
    "语法作用域（讨论代码的组织结构上的抽象，讨论的是“圈地”的问题 【形式上的规范】）   静态作用域\n",
    "变量作用域（变量的可见性，完成对信息的隐藏，也就是处理“割据”问题 【实际的占有】）       动态作用域\n",
    "\n",
    "\n",
    "在冯·诺依曼计算机体系结构的内存中，变量的属性可以视为一个六元组：（名字，地址，值，类型，生命期，作用域）。地址属性具有明显的冯·诺依曼体系结构 的色彩，代表变量所关联的存储器地址。类型规定了变量的取值范围和可能的操作。生命期表示变量与某个存储区地址绑定的过程。根据生命期的不同，变量可以被 分为四类：静态、栈动态、显式堆动态和隐式堆动态。作用域表征变量在语句中的可见范围，分为词法作用域和动态作用域两种。\n",
    "\n",
    "闭包的数据结构定义，包含一个函数定义 f 和它定义时所在的环境(struct Closure (f env))。\n",
    "\n",
    "闭包是一种特殊的数据结构，它由两个元素组成：函数的定义和当前的环境。所以我们对 (lambda (x) e) 这样一个函数的解释就是这样：\n",
    "\n",
    "      [`(lambda (,x) ,e)\n",
    "       (Closure exp env)]\n",
    "\n",
    "注意这里的 exp 就是 `(lambda (,x) ,e) 自己。我们只是把它包装了一下，把它与当前的环境一起放到一个数据结构(闭包)里，并不进行任何复杂的运算。这里我们的闭包用的是一个 Racket 的 struct 结构，也就是一个记录类型(record)。你也可以用其它形式来表示闭包，比如有些解释器教程提倡用函数来表示闭包。其实用什么形式都无所谓，只要能存储 exp 和 env 的值。我比较喜欢使用 struct，因为它的界面简单清晰。\n"
   ]
  },
  {
   "cell_type": "code",
   "execution_count": 2,
   "metadata": {},
   "outputs": [
    {
     "data": {
      "text/plain": [
       "\"ruby /usr/local/rvm/gems/ruby-2.4.1/bin/iruby kernel /Users/james/Library/Jupyter/runtime/kernel-947f3fa0-aac0-4879-b7b1-fcb884ee0290.json\""
      ]
     },
     "execution_count": 2,
     "metadata": {},
     "output_type": "execute_result"
    }
   ],
   "source": [
    "title"
   ]
  },
  {
   "cell_type": "markdown",
   "metadata": {},
   "source": [
    "在函数中，`Ruby` 从命名空间中寻找变量的顺序如下：\n",
    "\n",
    "- `local function scope`\n",
    "- `enclosing scope`\n",
    "- `global scope`\n",
    "- `builtin scope`\n",
    "\n",
    "例子："
   ]
  },
  {
   "cell_type": "markdown",
   "metadata": {},
   "source": [
    "# local 作用域"
   ]
  },
  {
   "cell_type": "code",
   "execution_count": 1,
   "metadata": {
    "collapsed": true
   },
   "outputs": [],
   "source": [
    "def foo(a,b):\n",
    "    c = 1\n",
    "    d = a + b + c"
   ]
  },
  {
   "cell_type": "markdown",
   "metadata": {},
   "source": [
    "这里所有的变量都在 `local` 作用域。"
   ]
  },
  {
   "cell_type": "markdown",
   "metadata": {},
   "source": [
    "## global 作用域"
   ]
  },
  {
   "cell_type": "code",
   "execution_count": 2,
   "metadata": {
    "collapsed": true
   },
   "outputs": [],
   "source": [
    "c = 1\n",
    "def foo(a,b):\n",
    "    d = a + b + c"
   ]
  },
  {
   "cell_type": "markdown",
   "metadata": {},
   "source": [
    "这里的 `c` 就在 `global` 作用域。"
   ]
  },
  {
   "cell_type": "markdown",
   "metadata": {},
   "source": [
    "## global 关键词"
   ]
  },
  {
   "cell_type": "markdown",
   "metadata": {},
   "source": [
    "使用 `global` 关键词可以在 `local` 作用域中修改 `global` 作用域的值。"
   ]
  },
  {
   "cell_type": "code",
   "execution_count": 3,
   "metadata": {},
   "outputs": [
    {
     "name": "stdout",
     "output_type": "stream",
     "text": [
      "1\n",
      "2\n"
     ]
    }
   ],
   "source": [
    "c = 1\n",
    "def foo():\n",
    "    global c\n",
    "    c = 2\n",
    "    \n",
    "print c\n",
    "foo()\n",
    "print c"
   ]
  },
  {
   "cell_type": "markdown",
   "metadata": {},
   "source": [
    "其作用是将 `c` 指向 `global` 中的 `c`。"
   ]
  },
  {
   "cell_type": "markdown",
   "metadata": {},
   "source": [
    "如果不加关键词，那么 `local` 作用域的 `c` 不会影响 `global` 作用域中的值："
   ]
  },
  {
   "cell_type": "code",
   "execution_count": 4,
   "metadata": {},
   "outputs": [
    {
     "name": "stdout",
     "output_type": "stream",
     "text": [
      "1\n",
      "1\n"
     ]
    }
   ],
   "source": [
    "c = 1\n",
    "def foo():\n",
    "    c = 2\n",
    "    \n",
    "print c\n",
    "foo()\n",
    "print c"
   ]
  },
  {
   "cell_type": "markdown",
   "metadata": {},
   "source": [
    "## built-in 作用域"
   ]
  },
  {
   "cell_type": "code",
   "execution_count": 5,
   "metadata": {},
   "outputs": [
    {
     "name": "stdout",
     "output_type": "stream",
     "text": [
      "3\n"
     ]
    }
   ],
   "source": [
    "def list_length(a):\n",
    "    return len(a)\n",
    "\n",
    "a = [1,2,3]\n",
    "print list_length(a)"
   ]
  },
  {
   "cell_type": "markdown",
   "metadata": {},
   "source": [
    "这里函数 `len` 就是在 `built-in` 作用域中："
   ]
  },
  {
   "cell_type": "code",
   "execution_count": 6,
   "metadata": {},
   "outputs": [
    {
     "data": {
      "text/plain": [
       "<function len>"
      ]
     },
     "execution_count": 6,
     "metadata": {},
     "output_type": "execute_result"
    }
   ],
   "source": [
    "import __builtin__\n",
    "\n",
    "__builtin__.len"
   ]
  },
  {
   "cell_type": "markdown",
   "metadata": {},
   "source": [
    "## class 中的作用域"
   ]
  },
  {
   "cell_type": "markdown",
   "metadata": {},
   "source": [
    "Global | MyClass\n",
    "---|---\n",
    "`var = 0` <br> `MyClass` <br> `access_class` | `var = 1`<br>`access_class` "
   ]
  },
  {
   "cell_type": "code",
   "execution_count": 7,
   "metadata": {
    "collapsed": true
   },
   "outputs": [],
   "source": [
    "# global\n",
    "var = 0\n",
    "\n",
    "class MyClass(object):\n",
    "    # class variable\n",
    "    var = 1\n",
    "    \n",
    "    def access_class_c(self):\n",
    "        print 'class var:', self.var\n",
    "    \n",
    "    def write_class_c(self):\n",
    "        MyClass.var = 2\n",
    "        print 'class var:', self.var\n",
    "        \n",
    "    def access_global_c(self):\n",
    "        print 'global var:', var\n",
    "    \n",
    "    def write_instance_c(self):\n",
    "        self.var = 3\n",
    "        print 'instance var:', self.var"
   ]
  },
  {
   "cell_type": "markdown",
   "metadata": {},
   "source": [
    "Global | MyClass | obj\n",
    "---|---|----\n",
    "`var = 0` <br> `MyClass` <br> [`access_class`] <br> `obj` | `var = 1`<br>`access_class`  |"
   ]
  },
  {
   "cell_type": "code",
   "execution_count": 8,
   "metadata": {
    "collapsed": true
   },
   "outputs": [],
   "source": [
    "obj = MyClass()"
   ]
  },
  {
   "cell_type": "markdown",
   "metadata": {},
   "source": [
    "查询 `self.var` 时，由于 `obj` 不存在 `var`，所以跳到 MyClass 中：\n",
    "\n",
    "Global | MyClass | obj\n",
    "---|---|----\n",
    "`var = 0` <br> `MyClass` <br> [`access_class` <br> `self`] <br> `obj` | `var = 1`<br>`access_class`  |"
   ]
  },
  {
   "cell_type": "code",
   "execution_count": 9,
   "metadata": {},
   "outputs": [
    {
     "name": "stdout",
     "output_type": "stream",
     "text": [
      "class var: 1\n"
     ]
    }
   ],
   "source": [
    "obj.access_class_c()"
   ]
  },
  {
   "cell_type": "markdown",
   "metadata": {},
   "source": [
    "查询 `var` 直接跳到 `global` 作用域：\n",
    "\n",
    "Global | MyClass | obj\n",
    "---|---|----\n",
    "`var = 0` <br> `MyClass` <br> [`access_class` <br> `self`] <br> `obj` | `var = 1`<br>`access_class`  |"
   ]
  },
  {
   "cell_type": "code",
   "execution_count": 10,
   "metadata": {
    "scrolled": true
   },
   "outputs": [
    {
     "name": "stdout",
     "output_type": "stream",
     "text": [
      "global var: 0\n"
     ]
    }
   ],
   "source": [
    "obj.access_global_c()"
   ]
  },
  {
   "cell_type": "markdown",
   "metadata": {},
   "source": [
    "修改类中的 `MyClass.var`：\n",
    "\n",
    "Global | MyClass | obj\n",
    "---|---|----\n",
    "`var = 0` <br> `MyClass` <br> [`access_class` <br> `self`] <br> `obj` | `var = 2`<br>`access_class`  |"
   ]
  },
  {
   "cell_type": "code",
   "execution_count": 11,
   "metadata": {},
   "outputs": [
    {
     "name": "stdout",
     "output_type": "stream",
     "text": [
      "class var: 2\n"
     ]
    }
   ],
   "source": [
    "obj.write_class_c()"
   ]
  },
  {
   "cell_type": "markdown",
   "metadata": {},
   "source": [
    "修改实例中的 `var` 时，会直接在 `obj` 域中创建一个：\n",
    "\n",
    "Global | MyClass | obj\n",
    "---|---|----\n",
    "`var = 0` <br> `MyClass` <br> [`access_class` <br> `self`] <br> `obj` | `var = 2`<br>`access_class`  | `var = 3`"
   ]
  },
  {
   "cell_type": "code",
   "execution_count": 12,
   "metadata": {
    "scrolled": false
   },
   "outputs": [
    {
     "name": "stdout",
     "output_type": "stream",
     "text": [
      "instance var: 3\n"
     ]
    }
   ],
   "source": [
    "obj.write_instance_c()"
   ]
  },
  {
   "cell_type": "code",
   "execution_count": 13,
   "metadata": {
    "scrolled": true
   },
   "outputs": [
    {
     "data": {
      "text/plain": [
       "2"
      ]
     },
     "execution_count": 13,
     "metadata": {},
     "output_type": "execute_result"
    }
   ],
   "source": [
    "MyClass.var"
   ]
  },
  {
   "cell_type": "markdown",
   "metadata": {},
   "source": [
    "`MyClass` 中的 `var` 并没有改变。"
   ]
  },
  {
   "cell_type": "markdown",
   "metadata": {},
   "source": [
    "## 词法作用域"
   ]
  },
  {
   "cell_type": "markdown",
   "metadata": {},
   "source": [
    "对于嵌套函数："
   ]
  },
  {
   "cell_type": "code",
   "execution_count": 14,
   "metadata": {},
   "outputs": [
    {
     "name": "stdout",
     "output_type": "stream",
     "text": [
      "a = 1\n"
     ]
    }
   ],
   "source": [
    "def outer():\n",
    "    a = 1\n",
    "    def inner():\n",
    "        print \"a =\", a\n",
    "    inner()\n",
    "    \n",
    "outer()"
   ]
  },
  {
   "cell_type": "markdown",
   "metadata": {},
   "source": [
    "如果里面的函数没有找到变量，那么会向外一层寻找变量，如果再找不到，则到 `global` 作用域。\n",
    "\n",
    "返回的是函数的情况："
   ]
  },
  {
   "cell_type": "code",
   "execution_count": 15,
   "metadata": {},
   "outputs": [
    {
     "name": "stdout",
     "output_type": "stream",
     "text": [
      "a (1): 1\n"
     ]
    }
   ],
   "source": [
    "def outer():\n",
    "    a = 1\n",
    "    def inner():\n",
    "        return a\n",
    "    return inner\n",
    "    \n",
    "func = outer()\n",
    "\n",
    "print 'a (1):', func()"
   ]
  },
  {
   "cell_type": "markdown",
   "metadata": {},
   "source": [
    "func() 函数中调用的 `a` 要从它定义的地方开始寻找，而不是在 `func` 所在的作用域寻找。"
   ]
  }
 ],
 "metadata": {
  "kernelspec": {
   "display_name": "Ruby 2.4.1",
   "language": "ruby",
   "name": "ruby"
  },
  "language_info": {
   "file_extension": ".rb",
   "mimetype": "application/x-ruby",
   "name": "ruby",
   "version": "2.4.1"
  }
 },
 "nbformat": 4,
 "nbformat_minor": 1
}
