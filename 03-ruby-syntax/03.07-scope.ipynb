{
 "cells": [
  {
   "cell_type": "markdown",
   "metadata": {},
   "source": [
    "# 作用域"
   ]
  },
  {
   "cell_type": "markdown",
   "metadata": {},
   "source": [
    "在冯·诺依曼计算机体系结构的内存中，变量的属性可以视为一个六元组：（名字，地址，值，类型，生命期，作用域）。地址属性具有明显的冯·诺依曼体系结构的色彩，代表变量所关联的存储器地址。类型规定了变量的取值范围和可能的操作。生命期表示变量与某个存储区地址绑定的过程。根据生命期的不同，变量可以被分为四类：静态、栈动态、显式堆动态和隐式堆动态。作用域表征变量在语句中的可见范围，主要分为静态作用域和动态作用域两种。\n",
    "\n",
    "作用域是所有编程语言都需要了解的基础概念之一，它是是为了解决开发过程中变量名冲突发展起来的概念。"
   ]
  },
  {
   "cell_type": "markdown",
   "metadata": {},
   "source": [
    "## **Ruby** 变量\n",
    "\n",
    "**Ruby** 中的变量主要有以下四种。\n",
    "\n",
    "- 局部变量（a_var）: 可见范围取决于作用域。\n",
    "- 全局变量（$a_var）：在程序的任何地方可见。\n",
    "- 实例变量（@a_var）：在类实例访问及子类实例通过实例方法可见。\n",
    "- 类变量（@@a_var）：当前类及其子类中可见，不能从其外的地方访问。"
   ]
  },
  {
   "cell_type": "markdown",
   "metadata": {},
   "source": [
    "## 局部变量"
   ]
  },
  {
   "cell_type": "markdown",
   "metadata": {},
   "source": [
    "> `Kernel#local_variables` 方法可以方便我们查看当前作用域中定义了哪些变量。"
   ]
  },
  {
   "cell_type": "code",
   "execution_count": 73,
   "metadata": {},
   "outputs": [
    {
     "name": "stdout",
     "output_type": "stream",
     "text": [
      "undefined local variable or method `a_var' for main:Object\n",
      "locals is [:_i58, :_58, :e, :_i57, :_57, :_i56, :_56, :_i55, :_55, :_i54, :_54, :_i53, :_53, :_i52, :_52, :_i51, :_51, :_i50, :_50, :_i49, :_49, :_i48, :_48, :_i47, :_47, :_i46, :_46, :_i45, :_45, :_i44, :_44, :_i43, :_43, :_i42, :_42, :_i41, :_41, :_i40, :_40, :_i39, :_39, :_i38, :_38, :_i37, :_37, :_i36, :_36, :cbd, :_i35, :_35, :ccc, :_i34, :_34, :_i33, :_33, :_i32, :_32, :_i31, :_31, :_i30, :_30, :_i29, :_29, :_i28, :_28, :_i27, :_27, :_i26, :_26, :_i25, :_25, :_i24, :_24, :_i23, :_23, :_i22, :_22, :_i21, :_21, :_i20, :_20, :_i19, :_19, :_i18, :_18, :_i17, :_17, :_i16, :_16, :_i15, :_15, :_i14, :_14, :_i13, :_13, :_i12, :_12, :binding1, :binding2, :_i11, :_11, :_i10, :_10, :_i9, :_9, :_i8, :_8, :_i7, :_7, :_i6, :_6, :_i5, :_5, :_i4, :_4, :_i3, :_3, :_i2, :_2, :_i, :_ii, :_iii, :_, :__, :___, :_i1, :_1, :main0, :obj, :_oh, :_ih, :title]\n"
     ]
    }
   ],
   "source": [
    "begin\n",
    "  puts a_var              # NameError，需要先声明才可以访问\n",
    "rescue NameError => e\n",
    "  puts \"#{e.message}\\nlocals is #{local_variables}\"\n",
    "end"
   ]
  },
  {
   "cell_type": "markdown",
   "metadata": {},
   "source": [
    "**Ruby** 语言是赋值即变量声明的语言，他没有与 **JavaScript** 语言的 `var x` 和 **Java** 的 `String str` 相当的变量声明。只能通过赋值语句来声明变量，但是却不需要该赋值语句真正被执行。"
   ]
  },
  {
   "cell_type": "code",
   "execution_count": 76,
   "metadata": {},
   "outputs": [
    {
     "name": "stdout",
     "output_type": "stream",
     "text": [
      "true\n"
     ]
    }
   ],
   "source": [
    "if false\n",
    "  a_var = 100\n",
    "end\n",
    "\n",
    "puts a_var.nil?"
   ]
  },
  {
   "cell_type": "markdown",
   "metadata": {},
   "source": [
    "### Scope Gates\n",
    "\n",
    "每个 **Ruby** 作用域包含一组绑定，并且不同的作用域之间被 **Scope Gate** 分割开来。**Scope Gate** 的作用是关闭前一个作用域，同时打开一个新的作用域。**Ruby** 中使用 `class`，`module` 或 `def` 关键字来隔离作用域，也就是充当 **Scope Gate**。\n",
    "\n",
    "先来看个例子："
   ]
  },
  {
   "cell_type": "code",
   "execution_count": 18,
   "metadata": {},
   "outputs": [
    {
     "data": {
      "text/plain": [
       "1"
      ]
     },
     "execution_count": 18,
     "metadata": {},
     "output_type": "execute_result"
    }
   ],
   "source": [
    "x = 1\n",
    "def change_x\n",
    "  x = 2\n",
    "end\n",
    "\n",
    "change_x\n",
    "x"
   ]
  },
  {
   "cell_type": "code",
   "execution_count": 28,
   "metadata": {},
   "outputs": [
    {
     "name": "stdout",
     "output_type": "stream",
     "text": [
      "Writing change_x.py\n"
     ]
    }
   ],
   "source": [
    "%%file change_x.py\n",
    "\n",
    "x = 1\n",
    "def change_x():\n",
    "  x = 2\n",
    "\n",
    "change_x()\n",
    "print(\"x = {0}\".format(x))"
   ]
  },
  {
   "cell_type": "code",
   "execution_count": 29,
   "metadata": {},
   "outputs": [
    {
     "name": "stdout",
     "output_type": "stream",
     "text": [
      "x = 1\n",
      "\n"
     ]
    }
   ],
   "source": [
    "puts `python change_x.py`"
   ]
  },
  {
   "cell_type": "markdown",
   "metadata": {},
   "source": [
    "如你所料，`x` 的值并没有真正被修改。这和 **Python** 表现是一致的，但是其深层的原理却有比较大的差别。\n",
    "\n",
    "在 **Python** 中，`change_x` 是一个闭包，它可以看到外部的 `x`，之所以没有修改成功，是因为 `change_x` 重新定义了本地变量 `x`，并把 `2` 赋值给了 `x`。\n",
    "\n",
    "在 **Ruby** 中，`change_x` 则是打开了一个全新的作用域，它是无法访问到外部的变量 `x` 的。"
   ]
  },
  {
   "cell_type": "code",
   "execution_count": 77,
   "metadata": {},
   "outputs": [
    {
     "name": "stdout",
     "output_type": "stream",
     "text": [
      "Writing check_x.py\n"
     ]
    }
   ],
   "source": [
    "%%file check_x.py\n",
    "\n",
    "x = 1\n",
    "def check_x():\n",
    "  print(\"I can see x = {0} in check_x.\".format(x))\n",
    "\n",
    "check_x()"
   ]
  },
  {
   "cell_type": "code",
   "execution_count": 78,
   "metadata": {},
   "outputs": [
    {
     "name": "stdout",
     "output_type": "stream",
     "text": [
      "I can see x = 1 in check_x.\n",
      "\n"
     ]
    }
   ],
   "source": [
    "puts `python check_x.py`"
   ]
  },
  {
   "cell_type": "markdown",
   "metadata": {},
   "source": [
    "我们再来看一个多层 **Scope Gate** 的例子："
   ]
  },
  {
   "cell_type": "code",
   "execution_count": 80,
   "metadata": {},
   "outputs": [
    {
     "name": "stdout",
     "output_type": "stream",
     "text": [
      "enter MyModule locals: [:module1]\n",
      "enter MyClass locals: [:class2]\n",
      "exit MyClass locals: [:class2]\n",
      "exit MyModule locals: [:module1]\n",
      "my_method locals: [:method_3]\n",
      "my_method locals: [:method_3]\n",
      "main locals: [:_i64, :_64, :_i63, :_63, :_i62, :_62, :_i61, :_61, :_i60, :_60, :a_var, :_i59, :_59, :_i58, :_58, :e, :_i57, :_57, :_i56, :_56, :_i55, :_55, :_i54, :_54, :_i53, :_53, :_i52, :_52, :_i51, :_51, :_i50, :_50, :_i49, :_49, :_i48, :_48, :_i47, :_47, :_i46, :_46, :_i45, :_45, :_i44, :_44, :_i43, :_43, :_i42, :_42, :_i41, :_41, :_i40, :_40, :_i39, :_39, :_i38, :_38, :_i37, :_37, :_i36, :_36, :cbd, :_i35, :_35, :ccc, :_i34, :_34, :_i33, :_33, :_i32, :_32, :_i31, :_31, :_i30, :_30, :_i29, :_29, :_i28, :_28, :_i27, :_27, :_i26, :_26, :_i25, :_25, :_i24, :_24, :_i23, :_23, :_i22, :_22, :_i21, :_21, :_i20, :_20, :_i19, :_19, :_i18, :_18, :_i17, :_17, :_i16, :_16, :_i15, :_15, :_i14, :_14, :_i13, :_13, :_i12, :_12, :binding1, :binding2, :_i11, :_11, :_i10, :_10, :_i9, :_9, :_i8, :_8, :_i7, :_7, :_i6, :_6, :_i5, :_5, :_i4, :_4, :_i3, :_3, :_i2, :_2, :_i, :_ii, :_iii, :_, :__, :___, :_i1, :_1, :main0, :obj, :_oh, :_ih, :title]\n"
     ]
    }
   ],
   "source": [
    "main0 = 'main0'\n",
    "\n",
    "module MyModule\n",
    "  module1 = 'module1'\n",
    "  puts \"enter MyModule locals: #{local_variables}\"\n",
    "  \n",
    "  class MyClass\n",
    "    class2 = 'class2'\n",
    "    puts \"enter MyClass locals: #{local_variables}\"\n",
    "    \n",
    "    def my_method\n",
    "      method_3 = 'method3'\n",
    "      puts \"my_method locals: #{local_variables}\"\n",
    "    end\n",
    "    \n",
    "    puts \"exit MyClass locals: #{local_variables}\"\n",
    "  end\n",
    "  \n",
    "  puts \"exit MyModule locals: #{local_variables}\"\n",
    "end\n",
    "    \n",
    "obj = MyModule::MyClass.new\n",
    "obj.my_method\n",
    "obj.my_method\n",
    "  \n",
    "puts \"main locals: #{local_variables}\""
   ]
  },
  {
   "cell_type": "markdown",
   "metadata": {},
   "source": [
    "容易看出程序打开了五个独立的作用域\n",
    "\n",
    "- 顶级作用域（`main0` 所在的作用域）\n",
    "- 进入 `MyModule` 时创建的作用域\n",
    "- 进入 `MyClass` 时创建的作用域\n",
    "- 第一次调用 `my_method()` 方法时创建的一个作用域\n",
    "- 第二次调用 `my_method()` 方法时创建的一个作用域\n",
    "\n",
    "如何知道每次调用同一方法时会重新创建新的作用域而不是重用已有的，我们通过一个程序来验证。"
   ]
  },
  {
   "cell_type": "code",
   "execution_count": 81,
   "metadata": {},
   "outputs": [
    {
     "name": "stdout",
     "output_type": "stream",
     "text": [
      "my_method locals: [:v]\n",
      "my_method locals: [:v]\n",
      "v in binding1 is 58\n",
      "v in binding2 is 66\n",
      "binding1 variables is [:v2, :v]\n",
      "binding2 variables is [:v]\n"
     ]
    }
   ],
   "source": [
    "class MyClass\n",
    "  def my_method\n",
    "    v = rand(1..100)\n",
    "    puts \"my_method locals: #{local_variables}\"\n",
    "    binding\n",
    "  end \n",
    "end\n",
    "\n",
    "obj = MyClass.new\n",
    "binding1 = obj.my_method\n",
    "binding2 = obj.my_method\n",
    "\n",
    "puts \"v in binding1 is #{binding1.local_variable_get(:v)}\"\n",
    "puts \"v in binding2 is #{binding2.local_variable_get(:v)}\"\n",
    "\n",
    "binding1.local_variable_set(:v2, 1)\n",
    "\n",
    "puts \"binding1 variables is #{binding1.local_variables}\"\n",
    "puts \"binding2 variables is #{binding2.local_variables}\""
   ]
  },
  {
   "cell_type": "markdown",
   "metadata": {},
   "source": [
    "`class` / `module` 与 `def` 之间还有一点微妙的差别，在类和模块定义中的代码会被立即执行，相反，方法定义中的代码只有在方法被调用的时候才会被执行。"
   ]
  },
  {
   "cell_type": "markdown",
   "metadata": {},
   "source": [
    "### 顶级上下文（Top Level Context）\n",
    "\n",
    "当开始运行 **Ruby** 程序时，**Ruby** 虚拟机会创建一个名为 `main` 的对象作为当前对象，这个对象被称为顶级上下文，这个名字的由来是因为这时处在调用栈的顶层，这时要么还没调用任何方法，要么调用的所有方法都已经返回了。"
   ]
  },
  {
   "cell_type": "code",
   "execution_count": 82,
   "metadata": {},
   "outputs": [
    {
     "name": "stdout",
     "output_type": "stream",
     "text": [
      "main\n",
      "Object\n",
      "[:_i66, :_66, :_i65, :_65, :_i64, :_64, :_i63, :_63, :_i62, :_62, :_i61, :_61, :_i60, :_60, :a_var, :_i59, :_59, :_i58, :_58, :e, :_i57, :_57, :_i56, :_56, :_i55, :_55, :_i54, :_54, :_i53, :_53, :_i52, :_52, :_i51, :_51, :_i50, :_50, :_i49, :_49, :_i48, :_48, :_i47, :_47, :_i46, :_46, :_i45, :_45, :_i44, :_44, :_i43, :_43, :_i42, :_42, :_i41, :_41, :_i40, :_40, :_i39, :_39, :_i38, :_38, :_i37, :_37, :_i36, :_36, :cbd, :_i35, :_35, :ccc, :_i34, :_34, :_i33, :_33, :_i32, :_32, :_i31, :_31, :_i30, :_30, :_i29, :_29, :_i28, :_28, :_i27, :_27, :_i26, :_26, :_i25, :_25, :_i24, :_24, :_i23, :_23, :_i22, :_22, :_i21, :_21, :_i20, :_20, :_i19, :_19, :_i18, :_18, :_i17, :_17, :_i16, :_16, :_i15, :_15, :_i14, :_14, :_i13, :_13, :_i12, :_12, :binding1, :binding2, :_i11, :_11, :_i10, :_10, :_i9, :_9, :_i8, :_8, :_i7, :_7, :_i6, :_6, :_i5, :_5, :_i4, :_4, :_i3, :_3, :_i2, :_2, :_i, :_ii, :_iii, :_, :__, :___, :_i1, :_1, :main0, :obj, :_oh, :_ih, :title]\n"
     ]
    }
   ],
   "source": [
    "puts self\n",
    "puts self.class\n",
    "puts local_variables"
   ]
  },
  {
   "cell_type": "markdown",
   "metadata": {},
   "source": [
    "我们现在运行代码的作用域就是顶级实例变量 `main` 所在的作用域。"
   ]
  },
  {
   "cell_type": "markdown",
   "metadata": {},
   "source": [
    "### 词法作用域"
   ]
  },
  {
   "cell_type": "markdown",
   "metadata": {},
   "source": [
    "词法作用域(lexical scope)也叫静态作用域(static scope)。它其实是指作用域在词法解析阶段既确定了，不会改变。在 每个 **Scope Gate** 内部，**Ruby** 局部变量遵循词法作用域规则。"
   ]
  },
  {
   "cell_type": "code",
   "execution_count": 94,
   "metadata": {},
   "outputs": [
    {
     "data": {
      "text/plain": [
       "[:inter1_v, :outer1_v, :inner1, :outer1, :outer2]"
      ]
     },
     "execution_count": 94,
     "metadata": {},
     "output_type": "execute_result"
    }
   ],
   "source": [
    "module CleanRoom2\n",
    "  \n",
    "  outer1 = lambda do\n",
    "    outer1_v = 0\n",
    "    inner1 = lambda do\n",
    "      inter1_v = 0\n",
    "      local_variables\n",
    "    end\n",
    "  end\n",
    "\n",
    "  outer2 = lambda do\n",
    "    outer2_v = 0\n",
    "    inner2 = lambda do \n",
    "      inner2_v = 0\n",
    "      outer1.call.call\n",
    "    end\n",
    "  end\n",
    "\n",
    "  outer2.call.call\n",
    "end"
   ]
  },
  {
   "cell_type": "markdown",
   "metadata": {},
   "source": [
    "可以看到 `inner1` 是在 `outer1` 中定义，调用是在 `inner2` 块中，可以看到在 `inner1` 中的可见的变量有定义在 `CleanRoom` 中的所有变量`[:outer1, :outer2]`，定义在 `outer1` 中的 `[:outer1_v, :inner1]` 和定义在 `inner1` 中的 `[:inner1_v]`。尽管执行是在 `outer2` 和 `inner2` 的内部，但是 `inner1` 并不能访问它们的变量定义。\n",
    "\n",
    "通俗地说，代码块会在定义时获取周围的绑定，也可以在代码块中定义额外的绑定，但这些绑定会在块结束时消失。"
   ]
  },
  {
   "cell_type": "code",
   "execution_count": 97,
   "metadata": {},
   "outputs": [
    {
     "name": "stdout",
     "output_type": "stream",
     "text": [
      "CleanRoom locals: [:outer1, :outer2]\n",
      "outer1 locals: [:outer1_v, :inner1, :outer1, :outer2]\n",
      "inner1 locals: [:inter1_v, :outer1_v, :inner1, :outer1, :outer2]\n"
     ]
    }
   ],
   "source": [
    "module CleanRoom\n",
    "  \n",
    "  outer1 = lambda do\n",
    "    outer1_v = 0\n",
    "    inner1 = lambda do\n",
    "      inter1_v = 0\n",
    "      puts \"inner1 locals: #{local_variables}\"\n",
    "    end\n",
    "    puts \"outer1 locals: #{local_variables}\"\n",
    "    inner1\n",
    "  end\n",
    "  \n",
    "  puts \"CleanRoom locals: #{local_variables}\"\n",
    "\n",
    "  outer2 = lambda do\n",
    "    outer2_v = 0\n",
    "    inner2 = lambda do \n",
    "      inner2_v = 0\n",
    "      outer1.call.call\n",
    "    end\n",
    "  end\n",
    "\n",
    "  outer2.call.call\n",
    "end"
   ]
  },
  {
   "cell_type": "markdown",
   "metadata": {},
   "source": [
    "在代码块中，声明变量前，总是先往上查找上层环境是不是已经有该变量，如有，则直接重用，若没有则在当前块中声明该变量。"
   ]
  },
  {
   "cell_type": "code",
   "execution_count": 118,
   "metadata": {},
   "outputs": [
    {
     "data": {
      "text/plain": [
       "\"new\""
      ]
     },
     "execution_count": 118,
     "metadata": {},
     "output_type": "execute_result"
    }
   ],
   "source": [
    "def foo()\n",
    "  x = 'old'\n",
    "  lambda do \n",
    "    x = 'new' \n",
    "  end.call\n",
    "  x\n",
    "end\n",
    "\n",
    "foo()"
   ]
  },
  {
   "cell_type": "markdown",
   "metadata": {},
   "source": [
    "### 动态作用域\n",
    "\n",
    "与词法作用域中作用域是源代码级别上的一块完整独立的范围不同，在动态作用域中，作用域则是进入该作用域开始直至离开这一时间轴上的完整独立的范围。与此相同的特征也体现在其他好多地方。比如，在某处理进行期间，一时改变某变量的值随后将原值返回的代码编写方式就相当于创建了自己专属的动态作用域。又如，异常处理与动态作用域也很相似，函数抛出异常时的处理方式受到调用函数的 try/ catch语句的影响。\n",
    "\n",
    "词法作用域：讨论代码的组织结构上的抽象，讨论的是“圈地”的问题（形式上的规范）。\n",
    "动态作用域：变量的可见性，完成对信息的隐藏，也就是处理“割据”问题（实际的占有）。\n",
    "\n",
    "现在很少会使用动态作用域，因为动态作用域中被改写的值会影响到被调用的函数，因此在引用变量时它是什么样的值，不看调用方的代码是无从得知的。如果只是为了获取调用处的值，完全可以通过参数传递来解决。动态作用域和词法作用域实现上的差别，可以参考[我之前的文章](https://github.com/jameszhan/blogs/blob/master/_posts/2015-04-01-build-interpret-from-zero.md)。  "
   ]
  },
  {
   "cell_type": "markdown",
   "metadata": {},
   "source": [
    "由于 **Ruby** 不支持动态作用域，下面的例子，我们使用 **Perl** 语言来演示，它同时支持词法作用域和动态作用域。"
   ]
  },
  {
   "cell_type": "code",
   "execution_count": 119,
   "metadata": {},
   "outputs": [
    {
     "name": "stdout",
     "output_type": "stream",
     "text": [
      "Writing dynamic_scope.pl\n"
     ]
    }
   ],
   "source": [
    "%%file dynamic_scope.pl\n",
    "sub invoker {\n",
    "    local $x = 'invoker';\n",
    "    &func();\n",
    "}\n",
    "\n",
    "$x = 'global';\n",
    "sub func {\n",
    "    print \"$x\\n\";\n",
    "}\n",
    "invoker()"
   ]
  },
  {
   "cell_type": "code",
   "execution_count": 120,
   "metadata": {},
   "outputs": [
    {
     "data": {
      "text/plain": [
       "\"invoker\\n\""
      ]
     },
     "execution_count": 120,
     "metadata": {},
     "output_type": "execute_result"
    }
   ],
   "source": [
    "`perl dynamic_scope.pl`"
   ]
  },
  {
   "cell_type": "markdown",
   "metadata": {},
   "source": [
    "## 全局变量"
   ]
  },
  {
   "cell_type": "code",
   "execution_count": 121,
   "metadata": {},
   "outputs": [
    {
     "data": {
      "text/plain": [
       "[:$_, :$~, :$;, :$-F, :$@, :$!, :$SAFE, :$&, :$`, :$', :$+, :$=, :$KCODE, :$-K, :$,, :$/, :$-0, :$\\, :$stdin, :$stdout, :$stderr, :$>, :$<, :$., :$FILENAME, :$-i, :$*, :$:, :$-I, :$LOAD_PATH, :$\", :$LOADED_FEATURES, :$?, :$$, :$VERBOSE, :$-v, :$-w, :$-W, :$DEBUG, :$-d, :$0, :$PROGRAM_NAME, :$-p, :$-l, :$-a, :$fileutils_rb_have_lchmod, :$fileutils_rb_have_lchown, :$my_var]"
      ]
     },
     "execution_count": 121,
     "metadata": {},
     "output_type": "execute_result"
    }
   ],
   "source": [
    "global_variables"
   ]
  },
  {
   "cell_type": "markdown",
   "metadata": {},
   "source": [
    "**Ruby** 中只要变量名称以 `$` 开头，这个变量就是全局变量。全局变量可以再任何作用域中访问。"
   ]
  },
  {
   "cell_type": "code",
   "execution_count": 122,
   "metadata": {},
   "outputs": [
    {
     "name": "stdout",
     "output_type": "stream",
     "text": [
      "$my_var is 100\n",
      "$my_var is 100\n"
     ]
    },
    {
     "data": {
      "text/plain": [
       "[:$_, :$~, :$;, :$-F, :$@, :$!, :$SAFE, :$&, :$`, :$', :$+, :$=, :$KCODE, :$-K, :$,, :$/, :$-0, :$\\, :$stdin, :$stdout, :$stderr, :$>, :$<, :$., :$FILENAME, :$-i, :$*, :$:, :$-I, :$LOAD_PATH, :$\", :$LOADED_FEATURES, :$?, :$$, :$VERBOSE, :$-v, :$-w, :$-W, :$DEBUG, :$-d, :$0, :$PROGRAM_NAME, :$-p, :$-l, :$-a, :$fileutils_rb_have_lchmod, :$fileutils_rb_have_lchown, :$my_var]"
      ]
     },
     "execution_count": 122,
     "metadata": {},
     "output_type": "execute_result"
    }
   ],
   "source": [
    "def scope1\n",
    "  $my_var = 100\n",
    "end\n",
    "\n",
    "def scope2\n",
    "  puts \"$my_var is #{$my_var}\"\n",
    "end\n",
    "\n",
    "scope2\n",
    "scope1\n",
    "scope2\n",
    "\n",
    "global_variables"
   ]
  },
  {
   "cell_type": "markdown",
   "metadata": {},
   "source": [
    "全局变量的问题在于系统中的任何部分都可以修改它们，我们几乎没法追踪谁把他们改成了什么。因此，基本的原则是：如非必要，尽可能少使用全局变量。"
   ]
  },
  {
   "cell_type": "markdown",
   "metadata": {},
   "source": [
    "## 实例变量"
   ]
  },
  {
   "cell_type": "code",
   "execution_count": 7,
   "metadata": {
    "collapsed": true
   },
   "outputs": [],
   "source": [
    "class MyClass\n",
    "  \n",
    "end"
   ]
  },
  {
   "cell_type": "markdown",
   "metadata": {},
   "source": [
    "Global | MyClass | obj\n",
    "---|---|----\n",
    "`var = 0` <br> `MyClass` <br> [`access_class`] <br> `obj` | `var = 1`<br>`access_class`  |"
   ]
  },
  {
   "cell_type": "code",
   "execution_count": 8,
   "metadata": {
    "collapsed": true
   },
   "outputs": [],
   "source": [
    "obj = MyClass()"
   ]
  },
  {
   "cell_type": "markdown",
   "metadata": {},
   "source": [
    "查询 `self.var` 时，由于 `obj` 不存在 `var`，所以跳到 MyClass 中：\n",
    "\n",
    "Global | MyClass | obj\n",
    "---|---|----\n",
    "`var = 0` <br> `MyClass` <br> [`access_class` <br> `self`] <br> `obj` | `var = 1`<br>`access_class`  |"
   ]
  },
  {
   "cell_type": "code",
   "execution_count": 9,
   "metadata": {},
   "outputs": [
    {
     "name": "stdout",
     "output_type": "stream",
     "text": [
      "class var: 1\n"
     ]
    }
   ],
   "source": [
    "obj.access_class_c()"
   ]
  },
  {
   "cell_type": "markdown",
   "metadata": {},
   "source": [
    "查询 `var` 直接跳到 `global` 作用域：\n",
    "\n",
    "Global | MyClass | obj\n",
    "---|---|----\n",
    "`var = 0` <br> `MyClass` <br> [`access_class` <br> `self`] <br> `obj` | `var = 1`<br>`access_class`  |"
   ]
  },
  {
   "cell_type": "code",
   "execution_count": 10,
   "metadata": {
    "scrolled": true
   },
   "outputs": [
    {
     "name": "stdout",
     "output_type": "stream",
     "text": [
      "global var: 0\n"
     ]
    }
   ],
   "source": [
    "obj.access_global_c()"
   ]
  },
  {
   "cell_type": "markdown",
   "metadata": {},
   "source": [
    "修改类中的 `MyClass.var`：\n",
    "\n",
    "Global | MyClass | obj\n",
    "---|---|----\n",
    "`var = 0` <br> `MyClass` <br> [`access_class` <br> `self`] <br> `obj` | `var = 2`<br>`access_class`  |"
   ]
  },
  {
   "cell_type": "code",
   "execution_count": 11,
   "metadata": {},
   "outputs": [
    {
     "name": "stdout",
     "output_type": "stream",
     "text": [
      "class var: 2\n"
     ]
    }
   ],
   "source": [
    "obj.write_class_c()"
   ]
  },
  {
   "cell_type": "markdown",
   "metadata": {},
   "source": [
    "修改实例中的 `var` 时，会直接在 `obj` 域中创建一个：\n",
    "\n",
    "Global | MyClass | obj\n",
    "---|---|----\n",
    "`var = 0` <br> `MyClass` <br> [`access_class` <br> `self`] <br> `obj` | `var = 2`<br>`access_class`  | `var = 3`"
   ]
  },
  {
   "cell_type": "code",
   "execution_count": 12,
   "metadata": {
    "scrolled": false
   },
   "outputs": [
    {
     "name": "stdout",
     "output_type": "stream",
     "text": [
      "instance var: 3\n"
     ]
    }
   ],
   "source": [
    "obj.write_instance_c()"
   ]
  },
  {
   "cell_type": "code",
   "execution_count": 13,
   "metadata": {
    "scrolled": true
   },
   "outputs": [
    {
     "data": {
      "text/plain": [
       "2"
      ]
     },
     "execution_count": 13,
     "metadata": {},
     "output_type": "execute_result"
    }
   ],
   "source": [
    "MyClass.var"
   ]
  },
  {
   "cell_type": "markdown",
   "metadata": {},
   "source": [
    "`MyClass` 中的 `var` 并没有改变。"
   ]
  },
  {
   "cell_type": "code",
   "execution_count": 14,
   "metadata": {},
   "outputs": [
    {
     "name": "stdout",
     "output_type": "stream",
     "text": [
      "a = 1\n"
     ]
    }
   ],
   "source": [
    "def outer():\n",
    "    a = 1\n",
    "    def inner():\n",
    "        print \"a =\", a\n",
    "    inner()\n",
    "    \n",
    "outer()"
   ]
  },
  {
   "cell_type": "markdown",
   "metadata": {},
   "source": [
    "如果里面的函数没有找到变量，那么会向外一层寻找变量，如果再找不到，则到 `global` 作用域。\n",
    "\n",
    "返回的是函数的情况："
   ]
  },
  {
   "cell_type": "code",
   "execution_count": 15,
   "metadata": {},
   "outputs": [
    {
     "name": "stdout",
     "output_type": "stream",
     "text": [
      "a (1): 1\n"
     ]
    }
   ],
   "source": [
    "def outer():\n",
    "    a = 1\n",
    "    def inner():\n",
    "        return a\n",
    "    return inner\n",
    "    \n",
    "func = outer()\n",
    "\n",
    "print 'a (1):', func()"
   ]
  },
  {
   "cell_type": "markdown",
   "metadata": {},
   "source": [
    "func() 函数中调用的 `a` 要从它定义的地方开始寻找，而不是在 `func` 所在的作用域寻找。"
   ]
  }
 ],
 "metadata": {
  "kernelspec": {
   "display_name": "Ruby 2.4.1",
   "language": "ruby",
   "name": "ruby"
  },
  "language_info": {
   "file_extension": ".rb",
   "mimetype": "application/x-ruby",
   "name": "ruby",
   "version": "2.4.1"
  }
 },
 "nbformat": 4,
 "nbformat_minor": 1
}
