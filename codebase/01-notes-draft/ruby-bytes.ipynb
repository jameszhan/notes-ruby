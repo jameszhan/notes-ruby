{
 "cells": [
  {
   "cell_type": "code",
   "execution_count": 9,
   "metadata": {},
   "outputs": [
    {
     "data": {
      "text/plain": [
       "\"Hello 世界\""
      ]
     },
     "execution_count": 9,
     "metadata": {},
     "output_type": "execute_result"
    }
   ],
   "source": [
    "str = 'Hello 世界'"
   ]
  },
  {
   "cell_type": "code",
   "execution_count": 10,
   "metadata": {},
   "outputs": [
    {
     "name": "stdout",
     "output_type": "stream",
     "text": [
      "#<Encoding:UTF-8>\n",
      "8\n",
      "12\n"
     ]
    },
    {
     "data": {
      "text/plain": [
       "[72, 101, 108, 108, 111, 32, 228, 184, 150, 231, 149, 140]"
      ]
     },
     "execution_count": 10,
     "metadata": {},
     "output_type": "execute_result"
    }
   ],
   "source": [
    "p str.encoding\n",
    "p str.length\n",
    "p str.bytesize\n",
    "str.bytes"
   ]
  },
  {
   "cell_type": "code",
   "execution_count": 11,
   "metadata": {},
   "outputs": [
    {
     "data": {
      "text/plain": [
       "\"Hello \\x{E4B8}\\x{96E7}\\x{958C}\""
      ]
     },
     "execution_count": 11,
     "metadata": {},
     "output_type": "execute_result"
    }
   ],
   "source": [
    "str.force_encoding('GB18030')"
   ]
  },
  {
   "cell_type": "code",
   "execution_count": 12,
   "metadata": {},
   "outputs": [
    {
     "name": "stdout",
     "output_type": "stream",
     "text": [
      "#<Encoding:GB18030>\n",
      "9\n",
      "12\n"
     ]
    },
    {
     "data": {
      "text/plain": [
       "[72, 101, 108, 108, 111, 32, 228, 184, 150, 231, 149, 140]"
      ]
     },
     "execution_count": 12,
     "metadata": {},
     "output_type": "execute_result"
    }
   ],
   "source": [
    "p str.encoding\n",
    "p str.length\n",
    "p str.bytesize\n",
    "str.bytes"
   ]
  },
  {
   "cell_type": "code",
   "execution_count": 13,
   "metadata": {},
   "outputs": [
    {
     "data": {
      "text/plain": [
       "true"
      ]
     },
     "execution_count": 13,
     "metadata": {},
     "output_type": "execute_result"
    }
   ],
   "source": [
    "str.valid_encoding?"
   ]
  },
  {
   "cell_type": "code",
   "execution_count": 16,
   "metadata": {},
   "outputs": [
    {
     "name": "stdout",
     "output_type": "stream",
     "text": [
      "Hello 涓栫晫\n"
     ]
    }
   ],
   "source": [
    "puts str"
   ]
  },
  {
   "cell_type": "code",
   "execution_count": 20,
   "metadata": {},
   "outputs": [
    {
     "data": {
      "text/plain": [
       "\"Hello \\x{CAC0}\\x{BDE7}\""
      ]
     },
     "execution_count": 20,
     "metadata": {},
     "output_type": "execute_result"
    }
   ],
   "source": [
    "str2 = 'Hello 世界'.encode('GB18030')"
   ]
  },
  {
   "cell_type": "code",
   "execution_count": 21,
   "metadata": {},
   "outputs": [
    {
     "name": "stdout",
     "output_type": "stream",
     "text": [
      "#<Encoding:GB18030>\n",
      "8\n",
      "10\n"
     ]
    },
    {
     "data": {
      "text/plain": [
       "[72, 101, 108, 108, 111, 32, 202, 192, 189, 231]"
      ]
     },
     "execution_count": 21,
     "metadata": {},
     "output_type": "execute_result"
    }
   ],
   "source": [
    "p str2.encoding\n",
    "p str2.length\n",
    "p str2.bytesize\n",
    "str2.bytes"
   ]
  },
  {
   "cell_type": "code",
   "execution_count": 22,
   "metadata": {},
   "outputs": [
    {
     "name": "stdout",
     "output_type": "stream",
     "text": [
      "Hello 世界\n"
     ]
    },
    {
     "data": {
      "text/plain": [
       "\"Hello \\x{CAC0}\\x{BDE7}\""
      ]
     },
     "execution_count": 22,
     "metadata": {},
     "output_type": "execute_result"
    }
   ],
   "source": [
    "puts str2\n",
    "str2"
   ]
  },
  {
   "cell_type": "code",
   "execution_count": 23,
   "metadata": {},
   "outputs": [
    {
     "data": {
      "text/plain": [
       "\"Hello \\xCA\\xC0\\xBD\\xE7\""
      ]
     },
     "execution_count": 23,
     "metadata": {},
     "output_type": "execute_result"
    }
   ],
   "source": [
    "str2.force_encoding('UTF-8')"
   ]
  },
  {
   "cell_type": "code",
   "execution_count": 24,
   "metadata": {},
   "outputs": [
    {
     "data": {
      "text/plain": [
       "false"
      ]
     },
     "execution_count": 24,
     "metadata": {},
     "output_type": "execute_result"
    }
   ],
   "source": [
    "str2.valid_encoding?"
   ]
  },
  {
   "cell_type": "code",
   "execution_count": 52,
   "metadata": {},
   "outputs": [
    {
     "data": {
      "text/plain": [
       "\"Hello \\xCA\\xC0\\xBD\\xE7\""
      ]
     },
     "execution_count": 52,
     "metadata": {},
     "output_type": "execute_result"
    }
   ],
   "source": [
    "bytes = [72, 101, 108, 108, 111, 32, 202, 192, 189, 231]\n",
    "s = bytes.pack('C*')"
   ]
  },
  {
   "cell_type": "code",
   "execution_count": 53,
   "metadata": {},
   "outputs": [
    {
     "name": "stdout",
     "output_type": "stream",
     "text": [
      "#<Encoding:ASCII-8BIT>\n",
      "10\n",
      "10\n"
     ]
    },
    {
     "data": {
      "text/plain": [
       "[72, 101, 108, 108, 111, 32, 202, 192, 189, 231]"
      ]
     },
     "execution_count": 53,
     "metadata": {},
     "output_type": "execute_result"
    }
   ],
   "source": [
    "p s.encoding\n",
    "p s.length\n",
    "p s.bytesize\n",
    "s.bytes"
   ]
  },
  {
   "cell_type": "code",
   "execution_count": 54,
   "metadata": {},
   "outputs": [
    {
     "name": "stdout",
     "output_type": "stream",
     "text": [
      "Hello 世界\n"
     ]
    },
    {
     "data": {
      "text/plain": [
       "\"Hello \\x{CAC0}\\x{BDE7}\""
      ]
     },
     "execution_count": 54,
     "metadata": {},
     "output_type": "execute_result"
    }
   ],
   "source": [
    "s.force_encoding('GB18030')\n",
    "puts s\n",
    "s"
   ]
  },
  {
   "cell_type": "code",
   "execution_count": 71,
   "metadata": {},
   "outputs": [
    {
     "name": "stdout",
     "output_type": "stream",
     "text": [
      "UTF-8\n",
      "GB18030\n",
      "done\n"
     ]
    }
   ],
   "source": [
    "s2 = s.encode('UTF-8')\n",
    "puts s2.encoding\n",
    "puts s.encoding\n",
    "open 'test.txt', 'wb' do |io|\n",
    "  io << s2 + \"\\n\"\n",
    "  io << s2 + \"\\n\"\n",
    "  io << s + \"\\n\"\n",
    "  io << s + \"\\n\"\n",
    "end\n",
    "\n",
    "puts \"done\""
   ]
  },
  {
   "cell_type": "code",
   "execution_count": 74,
   "metadata": {},
   "outputs": [
    {
     "name": "stdout",
     "output_type": "stream",
     "text": [
      "\"Hello 世界\\n\"\n",
      "\"Hello 世界\\n\"\n",
      "\"Hello \\xCA\\xC0\\xBD\\xE7\\n\"\n",
      "\"Hello \\xCA\\xC0\\xBD\\xE7\\n\"\n",
      "done\n"
     ]
    }
   ],
   "source": [
    "open('test.txt', 'rb').each do |line|\n",
    "  str = line.force_encoding('UTF-8')\n",
    "  if str.valid_encoding?\n",
    "    puts str\n",
    "  else\n",
    "    puts str.force_encoding('GB18030')\n",
    "  end\n",
    "end\n",
    "puts \"done\""
   ]
  },
  {
   "cell_type": "code",
   "execution_count": null,
   "metadata": {},
   "outputs": [],
   "source": []
  }
 ],
 "metadata": {
  "kernelspec": {
   "display_name": "Ruby 2.6.0",
   "language": "ruby",
   "name": "ruby"
  },
  "language_info": {
   "file_extension": ".rb",
   "mimetype": "application/x-ruby",
   "name": "ruby",
   "version": "2.5.1"
  }
 },
 "nbformat": 4,
 "nbformat_minor": 2
}
