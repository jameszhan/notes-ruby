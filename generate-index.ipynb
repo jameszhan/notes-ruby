{
 "cells": [
  {
   "cell_type": "markdown",
   "metadata": {},
   "source": [
    "# 产生目录"
   ]
  },
  {
   "cell_type": "markdown",
   "metadata": {},
   "source": [
    "目录中英文映射："
   ]
  },
  {
   "cell_type": "code",
   "execution_count": 38,
   "metadata": {},
   "outputs": [
    {
     "data": {
      "text/plain": [
       "{\"01-ruby-overview\"=>\"01. **Ruby 快速概览**\", \"02-ruby-basics\"=>\"02. **Ruby 基础**\", \"03-ruby-syntax\"=>\"03. **Ruby 语法进阶**\", \"04-ruby-oop\"=>\"04. **Ruby 面向对象编程**\", \"05-ruby-advanced\"=>\"05. **Ruby 进阶**\", \"06-ruby-on-rails\"=>\"06. **Ruby On Rails**\"}"
      ]
     },
     "execution_count": 38,
     "metadata": {},
     "output_type": "execute_result"
    }
   ],
   "source": [
    "folders = {\n",
    "  '01-ruby-overview' => '01. **Ruby 快速概览**',\n",
    "  '02-ruby-basics' => '02. **Ruby 基础**',\n",
    "  '03-ruby-syntax' => '03. **Ruby 语法进阶**',\n",
    "  '04-ruby-oop' => '04. **Ruby 面向对象编程**',\n",
    "  '05-ruby-advanced' => '05. **Ruby 进阶**',\n",
    "  '06-ruby-on-rails' => '06. **Ruby On Rails**'\n",
    "}"
   ]
  },
  {
   "cell_type": "markdown",
   "metadata": {},
   "source": [
    "产生目录文件："
   ]
  },
  {
   "cell_type": "code",
   "execution_count": 41,
   "metadata": {},
   "outputs": [
    {
     "data": {
      "text/plain": [
       ":get_title"
      ]
     },
     "execution_count": 41,
     "metadata": {},
     "output_type": "execute_result"
    }
   ],
   "source": [
    "require 'json'\n",
    "def get_title(ipynb_file, default)\n",
    "  obj = JSON.parse(File.read(ipynb_file))\n",
    "  if obj and obj['cells'] and obj['cells'][0] and obj['cells'][0]['source'] and obj['cells'][0]['source'][0]\n",
    "    title = obj['cells'][0]['source'][0].chomp.sub(/\\#\\s*/, '')\n",
    "    index = default.match(/^[\\d.]+/)\n",
    "    \"#{index}.**#{title}**\"\n",
    "  else\n",
    "    default\n",
    "  end\n",
    "end"
   ]
  },
  {
   "cell_type": "code",
   "execution_count": 43,
   "metadata": {},
   "outputs": [
    {
     "name": "stdout",
     "output_type": "stream",
     "text": [
      "- [01. **Ruby 快速概览**](01-ruby-overview)\n",
      "\t- [01.01.**Ruby 简介**](01-ruby-overview/01.01-ruby-overview.ipynb)\n",
      "\t- [01.02.**20分钟体验 Ruby**](01-ruby-overview/01.02-ruby-in-20-minutes.ipynb)\n",
      "\t- [01.03.**从其它语言到 Ruby**](01-ruby-overview/01.03-ruby-from-other-languages.ipynb)\n",
      "- [02. **Ruby 基础**](02-ruby-basics)\n",
      "\t- [02.01.**Ruby 数据类型**](02-ruby-basics/02.01-types.ipynb)\n",
      "\t- [02.02.**数字**](02-ruby-basics/02.02-numbers.ipynb)\n",
      "\t- [02.03.**字符串**](02-ruby-basics/02.03-strings.ipynb)\n",
      "\t- [02.04.**符号**](02-ruby-basics/02.04-symbols.ipynb)\n",
      "\t- [02.05.**正则表达式**](02-ruby-basics/02.05-regular-expression.ipynb)\n",
      "\t- [02.06.**列表**](02-ruby-basics/02.06-arrays.ipynb)\n",
      "\t- [02.07.**Hash**](02-ruby-basics/02.07-hashes.ipynb)\n",
      "\t- [02.08.**范围 (Range)**](02-ruby-basics/02.08-ranges.ipynb)\n",
      "- [03. **Ruby 语法进阶**](03-ruby-syntax)\n",
      "\t- [03.01.**Ruby 赋值机制**](03-ruby-syntax/03.01-assignment-statements.ipynb)\n",
      "\t- [03.02.**判断语句**](03-ruby-syntax/03.02-conditional-statements.ipynb)\n",
      "\t- [03.03.**循环**](03-ruby-syntax/03.03-loop-statements.ipynb)\n",
      "\t- [03.04.**迭代器**](03-ruby-syntax/03.04-iterators.ipynb)\n",
      "\t- [03.05.**函数**](03-ruby-syntax/03.05-functions.ipynb)\n",
      "\t- [03.09.**异常**](03-ruby-syntax/03.09-exceptions.ipynb)\n",
      "\t- [03.10.**Ruby元编程技巧**](03-ruby-syntax/03.10-ruby-meta-programming.ipynb)\n",
      "- [04. **Ruby 面向对象编程**](04-ruby-oop)\n",
      "- [05. **Ruby 进阶**](05-ruby-advanced)\n",
      "- [06. **Ruby On Rails**](06-ruby-on-rails)\n",
      "\n"
     ]
    }
   ],
   "source": [
    "open(\"index.md\", 'w') do|io|\n",
    "  folders.each do|folder, folder_name|\n",
    "    io << \"- [#{folder_name}](#{folder})\\n\"\n",
    "    files = Dir.glob(\"#{folder}/*.ipynb\")\n",
    "    files.sort.each do|file|\n",
    "      io << \"\\t- [#{get_title(file, File.basename(file))}](#{file})\\n\"\n",
    "    end\n",
    "  end\n",
    "end\n",
    "\n",
    "puts File.read(\"index.md\")"
   ]
  },
  {
   "cell_type": "markdown",
   "metadata": {},
   "source": [
    "- [01. **Ruby 快速概览**](01-ruby-overview)\n",
    "\t- [01.01.**Ruby 简介**](01-ruby-overview/01.01-ruby-overview.ipynb)\n",
    "\t- [01.02.**20分钟体验 Ruby**](01-ruby-overview/01.02-ruby-in-20-minutes.ipynb)\n",
    "\t- [01.03.**从其它语言到 Ruby**](01-ruby-overview/01.03-ruby-from-other-languages.ipynb)\n",
    "- [02. **Ruby 基础**](02-ruby-basics)\n",
    "\t- [02.01.**Ruby 数据类型**](02-ruby-basics/02.01-types.ipynb)\n",
    "\t- [02.02.**数字**](02-ruby-basics/02.02-numbers.ipynb)\n",
    "\t- [02.03.**字符串**](02-ruby-basics/02.03-strings.ipynb)\n",
    "\t- [02.04.**符号**](02-ruby-basics/02.04-symbols.ipynb)\n",
    "\t- [02.05.**正则表达式**](02-ruby-basics/02.05-regular-expression.ipynb)\n",
    "\t- [02.06.**列表**](02-ruby-basics/02.06-arrays.ipynb)\n",
    "\t- [02.07.**Hash**](02-ruby-basics/02.07-hashes.ipynb)\n",
    "\t- [02.08.**范围 (Range)**](02-ruby-basics/02.08-ranges.ipynb)\n",
    "- [03. **Ruby 语法进阶**](03-ruby-syntax)\n",
    "\t- [03.01.**Ruby 赋值机制**](03-ruby-syntax/03.01-assignment-statements.ipynb)\n",
    "\t- [03.02.**判断语句**](03-ruby-syntax/03.02-conditional-statements.ipynb)\n",
    "\t- [03.03.**循环**](03-ruby-syntax/03.03-loop-statements.ipynb)\n",
    "\t- [03.04.**迭代器**](03-ruby-syntax/03.04-iterators.ipynb)\n",
    "\t- [03.05.**函数**](03-ruby-syntax/03.05-functions.ipynb)\n",
    "\t- [03.09.**异常**](03-ruby-syntax/03.09-exceptions.ipynb)\n",
    "\t- [03.10.**Ruby元编程技巧**](03-ruby-syntax/03.10-ruby-meta-programming.ipynb)\n",
    "- [04. **Ruby 面向对象编程**](04-ruby-oop)\n",
    "- [05. **Ruby 进阶**](05-ruby-advanced)\n",
    "- [06. **Ruby On Rails**](06-ruby-on-rails)"
   ]
  }
 ],
 "metadata": {
  "kernelspec": {
   "display_name": "Ruby 2.4.1",
   "language": "ruby",
   "name": "ruby"
  },
  "language_info": {
   "file_extension": ".rb",
   "mimetype": "application/x-ruby",
   "name": "ruby",
   "version": "2.4.1"
  }
 },
 "nbformat": 4,
 "nbformat_minor": 1
}
