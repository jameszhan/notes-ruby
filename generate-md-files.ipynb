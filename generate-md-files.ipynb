{
 "cells": [
  {
   "cell_type": "markdown",
   "metadata": {},
   "source": [
    "# 将笔记转化为不同的文件格式"
   ]
  },
  {
   "cell_type": "markdown",
   "metadata": {},
   "source": [
    "这里，我们演示把笔记转换为 `Markdown` 文件"
   ]
  },
  {
   "cell_type": "code",
   "execution_count": 28,
   "metadata": {},
   "outputs": [
    {
     "data": {
      "text/plain": [
       "false"
      ]
     },
     "execution_count": 28,
     "metadata": {},
     "output_type": "execute_result"
    }
   ],
   "source": [
    "require 'fileutils'\n",
    "require 'find'"
   ]
  },
  {
   "cell_type": "markdown",
   "metadata": {},
   "source": [
    "清理目标目录："
   ]
  },
  {
   "cell_type": "code",
   "execution_count": 29,
   "metadata": {},
   "outputs": [],
   "source": [
    "target_dir = \"static-files\"\n",
    "FileUtils.rm_r(target_dir) if Dir.exist?(target_dir)"
   ]
  },
  {
   "cell_type": "markdown",
   "metadata": {},
   "source": [
    "文件夹："
   ]
  },
  {
   "cell_type": "code",
   "execution_count": 30,
   "metadata": {},
   "outputs": [
    {
     "data": {
      "text/plain": [
       "[\"01-ruby-overview\", \"02-ruby-basics\", \"03-ruby-syntax\"]"
      ]
     },
     "execution_count": 30,
     "metadata": {},
     "output_type": "execute_result"
    }
   ],
   "source": [
    "folders = [\n",
    "  '01-ruby-overview',\n",
    "  '02-ruby-basics',\n",
    "  '03-ruby-syntax'\n",
    "]"
   ]
  },
  {
   "cell_type": "markdown",
   "metadata": {},
   "source": [
    "遍历文件夹得到所有的文件名，并转换其中的 `ipynb` 文件："
   ]
  },
  {
   "cell_type": "code",
   "execution_count": 31,
   "metadata": {},
   "outputs": [
    {
     "name": "stdout",
     "output_type": "stream",
     "text": [
      "generated generate-md-files.md\n",
      "generated generate-toc.md\n",
      "generated 02-ruby-basics/02.01-types.md\n",
      "generated 02-ruby-basics/02.04-symbols.md\n",
      "generated 02-ruby-basics/02.07-hashes.md\n",
      "generated 02-ruby-basics/02.08-ranges.md\n",
      "generated 02-ruby-basics/02.02-numbers.md\n",
      "generated 02-ruby-basics/02.03-strings.md\n",
      "generated 02-ruby-basics/02.06-arrays.md\n",
      "generated 02-ruby-basics/02.05-regular-expression.md\n",
      "generated 01-ruby-overview/01.01-ruby-overview.md\n",
      "generated 01-ruby-overview/01.02-ruby-in-20-minutes.md\n",
      "generated 01-ruby-overview/01.03-ruby-from-other-languages.md\n",
      "generated index.md\n",
      "generated 03-ruby-syntax/03.02-conditional-statements.md\n",
      "generated 03-ruby-syntax/03.04-iterators.md\n",
      "generated 03-ruby-syntax/03.10-ruby-meta-programming.md\n",
      "generated 03-ruby-syntax/03.03-loop-statements.md\n",
      "generated 03-ruby-syntax/03.01-assignment-statements.md\n",
      "generated 03-ruby-syntax/03.05-functions.md\n",
      "generated 03-ruby-syntax/03.09-exceptions.md\n"
     ]
    }
   ],
   "source": [
    "stored_dir = \"#{target_dir}/md\"\n",
    "FileUtils.mkdir_p(stored_dir)\n",
    "Dir.glob(\"**/*.ipynb\") do |file|\n",
    "  `jupyter nbconvert --to markdown #{file}`\n",
    "  \n",
    "  generated_file_name = file.gsub(/\\.ipynb$/, '.md')\n",
    "  puts \"generated #{generated_file_name}\" if File.exist?(generated_file_name)\n",
    "  dir = File.dirname(generated_file_name)\n",
    "  parent_dir = \"#{stored_dir}/#{dir}\"\n",
    "  FileUtils.mkdir_p(parent_dir) unless Dir.exist?(parent_dir)\n",
    "  FileUtils.mv(generated_file_name, \"#{stored_dir}/#{generated_file_name}\")\n",
    "end"
   ]
  }
 ],
 "metadata": {
  "kernelspec": {
   "display_name": "Ruby 2.4.1",
   "language": "ruby",
   "name": "ruby"
  },
  "language_info": {
   "file_extension": ".rb",
   "mimetype": "application/x-ruby",
   "name": "ruby",
   "version": "2.4.1"
  }
 },
 "nbformat": 4,
 "nbformat_minor": 1
}
