{
 "cells": [
  {
   "cell_type": "markdown",
   "metadata": {},
   "source": [
    "# 将笔记转化为不同的文件格式"
   ]
  },
  {
   "cell_type": "markdown",
   "metadata": {},
   "source": [
    "这里，我们演示把笔记转换为 `Markdown` 文件"
   ]
  },
  {
   "cell_type": "code",
   "execution_count": 1,
   "metadata": {},
   "outputs": [
    {
     "data": {
      "text/plain": [
       "false"
      ]
     },
     "execution_count": 1,
     "metadata": {},
     "output_type": "execute_result"
    }
   ],
   "source": [
    "require 'fileutils'"
   ]
  },
  {
   "cell_type": "markdown",
   "metadata": {},
   "source": [
    "清理目标目录："
   ]
  },
  {
   "cell_type": "code",
   "execution_count": 2,
   "metadata": {},
   "outputs": [
    {
     "data": {
      "text/plain": [
       "[\"static-files\"]"
      ]
     },
     "execution_count": 2,
     "metadata": {},
     "output_type": "execute_result"
    }
   ],
   "source": [
    "target_dir = \"static-files\"\n",
    "FileUtils.rm_r(target_dir) if Dir.exist?(target_dir)"
   ]
  },
  {
   "cell_type": "markdown",
   "metadata": {},
   "source": [
    "遍历文件夹得到所有的文件名，并转换其中的 `ipynb` 文件："
   ]
  },
  {
   "cell_type": "code",
   "execution_count": 3,
   "metadata": {},
   "outputs": [
    {
     "name": "stdout",
     "output_type": "stream",
     "text": [
      "generated generate-md-files.md\n",
      "generated 05-ruby-on-rails/05.10-rails-style-guide.md\n",
      "generated generate-toc.md\n",
      "generated 02-ruby-basics/02.01-types.md\n",
      "generated 02-ruby-basics/02.04-symbols.md\n",
      "generated 02-ruby-basics/02.07-hashes.md\n",
      "generated 02-ruby-basics/02.08-ranges.md\n",
      "generated 02-ruby-basics/02.02-numbers.md\n",
      "generated 02-ruby-basics/02.03-strings.md\n",
      "generated 02-ruby-basics/02.06-arrays.md\n",
      "generated 02-ruby-basics/02.05-regular-expression.md\n",
      "generated 01-ruby-overview/01.01-ruby-overview.md\n",
      "generated 01-ruby-overview/01.02-ruby-in-20-minutes.md\n",
      "generated 01-ruby-overview/01.03-ruby-from-other-languages.md\n",
      "generated index.md\n",
      "generated 03-ruby-syntax/03.02-conditional-statements.md\n",
      "generated 03-ruby-syntax/03.04-iterators.md\n",
      "generated 03-ruby-syntax/03.10-ruby-meta-programming.md\n",
      "generated 03-ruby-syntax/03.11-ruby-style-guide.md\n",
      "generated 03-ruby-syntax/03.03-loop-statements.md\n",
      "generated 03-ruby-syntax/03.07-scope.md\n",
      "generated 03-ruby-syntax/03.01-assignment-statements.md\n",
      "generated 03-ruby-syntax/03.05-functions.md\n",
      "generated 03-ruby-syntax/03.06-blocks.md\n",
      "generated 03-ruby-syntax/03.09-exceptions.md\n"
     ]
    }
   ],
   "source": [
    "stored_dir = \"#{target_dir}/markdown\"\n",
    "FileUtils.mkdir_p(stored_dir)\n",
    "Dir.glob(\"**/*.ipynb\") do |file|\n",
    "  `jupyter nbconvert --to markdown #{file}`\n",
    "  \n",
    "  generated_file_name = file.gsub(/\\.ipynb$/, '.md')\n",
    "  puts \"generated #{generated_file_name}\" if File.exist?(generated_file_name)\n",
    "  dir = File.dirname(generated_file_name)\n",
    "  parent_dir = \"#{stored_dir}/#{dir}\"\n",
    "  FileUtils.mkdir_p(parent_dir) unless Dir.exist?(parent_dir)\n",
    "  FileUtils.mv(generated_file_name, \"#{stored_dir}/#{generated_file_name}\")\n",
    "end"
   ]
  }
 ],
 "metadata": {
  "kernelspec": {
   "display_name": "Ruby 2.4.1",
   "language": "ruby",
   "name": "ruby"
  },
  "language_info": {
   "file_extension": ".rb",
   "mimetype": "application/x-ruby",
   "name": "ruby",
   "version": "2.4.1"
  }
 },
 "nbformat": 4,
 "nbformat_minor": 1
}
