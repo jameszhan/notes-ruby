{
 "cells": [
  {
   "cell_type": "markdown",
   "metadata": {},
   "source": [
    "# Ruby 编程手札"
   ]
  },
  {
   "cell_type": "markdown",
   "metadata": {},
   "source": [
    "> 版本：0.0.1<br>\n",
    "> 作者：詹子知<br>\n",
    "> 邮件：zhiqiangzhan@gmail.com <br />\n",
    "\n",
    "`Github` 加载 `.ipynb` 的速度较慢，建议在 [Nbviewer](http://nbviewer.jupyter.org/github/jameszhan/notes-ruby/tree/master/index.ipynb) 中查看该项目。"
   ]
  },
  {
   "cell_type": "markdown",
   "metadata": {},
   "source": [
    "\n",
    "## 简介\n",
    "\n",
    "部分内容来自网络。\n",
    "\n",
    "默认安装了 `Ruby 2.4.1`，以及相关的第三方包 `bundler`， `iruby`。\n",
    "\n",
    "为了更好地使用 [Jupyter NoteBook](http://nbviewer.jupyter.org/)，推荐安装 `jupyter`, 推荐使用 [Anaconda](https://www.anaconda.com/download/)。\n",
    "\n",
    "\n",
    "安装好 `Ruby` 和相应的包之后，可以在命令行下输入：\n",
    "\n",
    "```bash\n",
    "git clone https://github.com/jameszhan/notes-ruby.git\n",
    "cd notes-ruby\n",
    "bundle update\n",
    "```\n",
    "\n",
    "启动笔记本\n",
    "\n",
    "```bash\n",
    "iruby notebook .\n",
    "```\n",
    "\n",
    "或者\n",
    "\n",
    "```bash\n",
    "jupyter notebook .\n",
    "```"
   ]
  },
  {
   "cell_type": "markdown",
   "metadata": {},
   "source": [
    "## 参考\n",
    "- [Ruby官网](https://www.ruby-lang.org)\n",
    "- [Ruby文档](http://ruby-doc.org/)\n",
    "- [Ruby On Rails](http://rubyonrails.org/)\n",
    "- [Ruby Toolbox](https://www.ruby-toolbox.com/)\n",
    "- [Ruby元编程](https://www.amazon.cn/dp/B013QMKP80/ref=sr_1_1?ie=UTF8&qid=1519613945&sr=8-1&keywords=ruby+%E5%85%83%E7%BC%96%E7%A8%8B)\n",
    "- [Ruby Style Guide](https://github.com/bbatsov/ruby-style-guide)"
   ]
  },
  {
   "cell_type": "markdown",
   "metadata": {},
   "source": [
    "----\n",
    "\n",
    "## 目录"
   ]
  },
  {
   "cell_type": "markdown",
   "metadata": {},
   "source": [
    "可以在 Notebook 中打开 `generate-static-files.ipynb` 来生成静态的 HTML 文件。"
   ]
  },
  {
   "cell_type": "markdown",
   "metadata": {},
   "source": [
    "- [01. **Ruby 快速概览**](01-ruby-overview)\n",
    "\t- [01.01.**Ruby 简介**](01-ruby-overview/01.01-ruby-overview.ipynb)\n",
    "\t- [01.02.**20分钟体验 Ruby**](01-ruby-overview/01.02-ruby-in-20-minutes.ipynb)\n",
    "\t- [01.03.**从其它语言到 Ruby**](01-ruby-overview/01.03-ruby-from-other-languages.ipynb)\n",
    "- [02. **Ruby 基础**](02-ruby-basics)\n",
    "\t- [02.01.**Ruby 数据类型**](02-ruby-basics/02.01-types.ipynb)\n",
    "\t- [02.02.**数字**](02-ruby-basics/02.02-numbers.ipynb)\n",
    "\t- [02.03.**字符串**](02-ruby-basics/02.03-strings.ipynb)\n",
    "\t- [02.04.**符号**](02-ruby-basics/02.04-symbols.ipynb)\n",
    "\t- [02.05.**正则表达式**](02-ruby-basics/02.05-regular-expression.ipynb)\n",
    "\t- [02.06.**列表**](02-ruby-basics/02.06-arrays.ipynb)\n",
    "\t- [02.07.**Hash**](02-ruby-basics/02.07-hashes.ipynb)\n",
    "\t- [02.08.**范围 (Range)**](02-ruby-basics/02.08-ranges.ipynb)\n",
    "- [03. **Ruby 语法进阶**](03-ruby-syntax)\n",
    "\t- [03.01.**Ruby 赋值机制**](03-ruby-syntax/03.01-assignment-statements.ipynb)\n",
    "\t- [03.02.**判断语句**](03-ruby-syntax/03.02-conditional-statements.ipynb)\n",
    "\t- [03.03.**循环**](03-ruby-syntax/03.03-loop-statements.ipynb)\n",
    "\t- [03.04.**迭代器**](03-ruby-syntax/03.04-iterators.ipynb)\n",
    "\t- [03.05.**函数**](03-ruby-syntax/03.05-functions.ipynb)\n",
    "\t- [03.09.**异常**](03-ruby-syntax/03.09-exceptions.ipynb)\n",
    "\t- [03.10.**Ruby 元编程技巧**](03-ruby-syntax/03.10-ruby-meta-programming.ipynb)\n",
    "\t- [03.11.**Ruby 代码风格**](03-ruby-syntax/03.11-ruby-style-guide.ipynb)\n",
    "- [04. **Ruby 面向对象编程**](04-ruby-oop)\n",
    "- [05. **Ruby 进阶**](05-ruby-advanced)\n",
    "- [06. **Ruby On Rails**](06-ruby-on-rails)"
   ]
  }
 ],
 "metadata": {
  "kernelspec": {
   "display_name": "Ruby 2.4.1",
   "language": "ruby",
   "name": "ruby"
  },
  "language_info": {
   "file_extension": ".rb",
   "mimetype": "application/x-ruby",
   "name": "ruby",
   "version": "2.4.1"
  }
 },
 "nbformat": 4,
 "nbformat_minor": 1
}
