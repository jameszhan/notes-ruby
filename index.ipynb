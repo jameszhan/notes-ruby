{
 "cells": [
  {
   "cell_type": "markdown",
   "metadata": {},
   "source": [
    "[![Analytics](https://ga-beacon.appspot.com/UA-80121379-2/notes-python)](https://github.com/lijin-thu/notes-python)"
   ]
  },
  {
   "cell_type": "markdown",
   "metadata": {},
   "source": [
    "# 中文 Ruby 教程"
   ]
  },
  {
   "cell_type": "markdown",
   "metadata": {},
   "source": [
    "> 版本：0.0.1<br>\n",
    "> 作者：詹子知<br>\n",
    "> 邮件：zhiqiangzhan@gmail.com <br />\n",
    "\n",
    "`Github` 加载 `.ipynb` 的速度较慢，建议在 [Nbviewer](http://nbviewer.jupyter.org/github/jameszhan/notes-ruby/tree/master/index.ipynb) 中查看该项目。"
   ]
  },
  {
   "cell_type": "markdown",
   "metadata": {},
   "source": [
    "\n",
    "## 简介\n",
    "\n",
    "部分内容来自网络。\n",
    "\n",
    "默认安装了 `Ruby 2.4.1`，以及相关的第三方包 `bundler`， `iruby`。\n",
    "\n",
    "为了更好地使用 [Jupyter NoteBook](http://nbviewer.jupyter.org/)，推荐安装 `jupyter`, 推荐使用 [Anaconda](https://www.anaconda.com/download/)。\n",
    "\n",
    "\n",
    "安装好 `Ruby` 和相应的包之后，可以在命令行下输入：\n",
    "\n",
    "```bash\n",
    "git clone https://github.com/jameszhan/notes-ruby.git\n",
    "cd notes-ruby\n",
    "bundle update\n",
    "```\n",
    "\n",
    "启动笔记本\n",
    "\n",
    "```bash\n",
    "iruby notebook .\n",
    "```\n",
    "\n",
    "或者\n",
    "\n",
    "```bash\n",
    "jupyter notebook .\n",
    "```"
   ]
  },
  {
   "cell_type": "markdown",
   "metadata": {},
   "source": [
    "## 参考\n",
    "- [Ruby官网](https://www.ruby-lang.org)\n",
    "- [Ruby文档](http://ruby-doc.org/)\n",
    "- [Ruby On Rails](http://rubyonrails.org/)\n",
    "- [Ruby Toolbox](https://www.ruby-toolbox.com/)\n",
    "- [Ruby元编程](https://www.amazon.cn/dp/B013QMKP80/ref=sr_1_1?ie=UTF8&qid=1519613945&sr=8-1&keywords=ruby+%E5%85%83%E7%BC%96%E7%A8%8B)\n",
    "- [Ruby Style Guide](https://github.com/JuanitoFatas/ruby-style-guide/blob/master/README-zhCN.md)"
   ]
  },
  {
   "cell_type": "markdown",
   "metadata": {},
   "source": [
    "----\n",
    "\n",
    "## 目录"
   ]
  },
  {
   "cell_type": "markdown",
   "metadata": {},
   "source": [
    "可以在 Notebook 中打开 `generate static files.ipynb` 来生成静态的 HTML 文件。"
   ]
  },
  {
   "cell_type": "markdown",
   "metadata": {},
   "source": []
  }
 ],
 "metadata": {
  "kernelspec": {
   "display_name": "Ruby 2.4.1",
   "language": "ruby",
   "name": "ruby"
  },
  "language_info": {
   "file_extension": ".rb",
   "mimetype": "application/x-ruby",
   "name": "ruby",
   "version": "2.4.1"
  }
 },
 "nbformat": 4,
 "nbformat_minor": 1
}
