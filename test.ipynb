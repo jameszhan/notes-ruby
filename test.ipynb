{
 "cells": [
  {
   "cell_type": "markdown",
   "metadata": {},
   "source": [
    "## 常见惯用法"
   ]
  },
  {
   "cell_type": "markdown",
   "metadata": {},
   "source": [
    "### A.1 拟态方法（Mimic Methods）\n"
   ]
  },
  {
   "cell_type": "code",
   "execution_count": 3,
   "metadata": {},
   "outputs": [
    {
     "name": "stdout",
     "output_type": "stream",
     "text": [
      "Hello,world!\n"
     ]
    }
   ],
   "source": [
    "puts \"Hello,world!\""
   ]
  },
  {
   "cell_type": "markdown",
   "metadata": {},
   "source": [
    "这里的 puts 实际上是个方法，完整写法"
   ]
  },
  {
   "cell_type": "code",
   "execution_count": 2,
   "metadata": {},
   "outputs": [
    {
     "name": "stdout",
     "output_type": "stream",
     "text": [
      "Hello,world!\n"
     ]
    }
   ],
   "source": [
    "puts(\"Hello,world!\")"
   ]
  },
  {
   "cell_type": "code",
   "execution_count": 1,
   "metadata": {},
   "outputs": [
    {
     "name": "stdout",
     "output_type": "stream",
     "text": [
      "IRuby::Magic::Base\n",
      "{}\n"
     ]
    },
    {
     "ename": "NoMethodError",
     "evalue": "undefined method `write' for IRuby::Magic::File:Class",
     "output_type": "error",
     "traceback": [
      "\u001b[31mNoMethodError\u001b[0m: undefined method `write' for IRuby::Magic::File:Class",
      "\u001b[37m/james/refs/contributions/iruby/lib/iruby/magic/file.rb:7:in `execute'\u001b[0m",
      "\u001b[37m/james/refs/contributions/iruby/lib/iruby/backend.rb:57:in `eval'\u001b[0m",
      "\u001b[37m/james/refs/contributions/iruby/lib/iruby/backend.rb:13:in `eval'\u001b[0m",
      "\u001b[37m/james/refs/contributions/iruby/lib/iruby/kernel.rb:87:in `execute_request'\u001b[0m",
      "\u001b[37m/james/refs/contributions/iruby/lib/iruby/kernel.rb:47:in `dispatch'\u001b[0m",
      "\u001b[37m/james/refs/contributions/iruby/lib/iruby/kernel.rb:37:in `run'\u001b[0m",
      "\u001b[37m/james/refs/contributions/iruby/lib/iruby/command.rb:70:in `run_kernel'\u001b[0m",
      "\u001b[37m/james/refs/contributions/iruby/lib/iruby/command.rb:34:in `run'\u001b[0m",
      "\u001b[37m/james/refs/contributions/iruby/bin/iruby:5:in `<top (required)>'\u001b[0m",
      "\u001b[37m/usr/local/rvm/gems/ruby-2.4.1/bin/iruby:23:in `load'\u001b[0m",
      "\u001b[37m/usr/local/rvm/gems/ruby-2.4.1/bin/iruby:23:in `<main>'\u001b[0m",
      "\u001b[37m/usr/local/rvm/gems/ruby-2.4.1/bin/ruby_executable_hooks:15:in `eval'\u001b[0m",
      "\u001b[37m/usr/local/rvm/gems/ruby-2.4.1/bin/ruby_executable_hooks:15:in `<main>'\u001b[0m"
     ]
    }
   ],
   "source": [
    "         %%file test.rb\n",
    "puts \"Hello World\"\n",
    "puts \"Hello World\"\n",
    "\n",
    "\n",
    "puts \"Hello World5\""
   ]
  },
  {
   "cell_type": "code",
   "execution_count": null,
   "metadata": {
    "collapsed": true
   },
   "outputs": [],
   "source": []
  }
 ],
 "metadata": {
  "kernelspec": {
   "display_name": "Ruby 2.4.1",
   "language": "ruby",
   "name": "ruby"
  },
  "language_info": {
   "file_extension": ".rb",
   "mimetype": "application/x-ruby",
   "name": "ruby",
   "version": "2.4.1"
  }
 },
 "nbformat": 4,
 "nbformat_minor": 2
}
